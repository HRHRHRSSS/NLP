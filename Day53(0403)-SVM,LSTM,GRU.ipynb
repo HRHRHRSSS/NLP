{
 "cells": [
  {
   "cell_type": "code",
   "execution_count": 1,
   "id": "55ce2e57",
   "metadata": {},
   "outputs": [],
   "source": [
    "import pandas as pd"
   ]
  },
  {
   "cell_type": "code",
   "execution_count": 3,
   "id": "a57599be",
   "metadata": {},
   "outputs": [],
   "source": [
    "df1 = pd.read_csv('32_Data.csv')"
   ]
  },
  {
   "cell_type": "code",
   "execution_count": 5,
   "id": "99c4e8bf",
   "metadata": {},
   "outputs": [
    {
     "data": {
      "text/plain": [
       "(89, 8)"
      ]
     },
     "execution_count": 5,
     "metadata": {},
     "output_type": "execute_result"
    }
   ],
   "source": [
    "df1.shape"
   ]
  },
  {
   "cell_type": "markdown",
   "id": "eda31b21",
   "metadata": {},
   "source": [
    "# 개별미션 풀이"
   ]
  },
  {
   "cell_type": "markdown",
   "id": "99364109",
   "metadata": {},
   "source": [
    "### 1번"
   ]
  },
  {
   "cell_type": "code",
   "execution_count": 6,
   "id": "3f5ec170",
   "metadata": {},
   "outputs": [],
   "source": [
    "from konlpy.tag import Okt"
   ]
  },
  {
   "cell_type": "code",
   "execution_count": 7,
   "id": "c4958e98",
   "metadata": {},
   "outputs": [],
   "source": [
    "okt = Okt()"
   ]
  },
  {
   "cell_type": "code",
   "execution_count": 14,
   "id": "3cbe6df7",
   "metadata": {
    "scrolled": true
   },
   "outputs": [],
   "source": [
    "df2 = df1[['기사제목','내용']].dropna().reset_index()\n",
    "text_series = df2['내용'].values.tolist()"
   ]
  },
  {
   "cell_type": "code",
   "execution_count": 15,
   "id": "d7be439e",
   "metadata": {},
   "outputs": [],
   "source": [
    "# 명사만 추출 / 문장 별\n",
    "df_N = pd.DataFrame()\n",
    "for i in range(0, len(text_series)):\n",
    "    dfn = pd.DataFrame(okt.nouns(text_series[i]))\n",
    "    dfn['문장번호'] = i\n",
    "    df_N = pd.concat([df_N, dfn])"
   ]
  },
  {
   "cell_type": "code",
   "execution_count": 17,
   "id": "8ebc212a",
   "metadata": {},
   "outputs": [
    {
     "data": {
      "text/html": [
       "<div>\n",
       "<style scoped>\n",
       "    .dataframe tbody tr th:only-of-type {\n",
       "        vertical-align: middle;\n",
       "    }\n",
       "\n",
       "    .dataframe tbody tr th {\n",
       "        vertical-align: top;\n",
       "    }\n",
       "\n",
       "    .dataframe thead th {\n",
       "        text-align: right;\n",
       "    }\n",
       "</style>\n",
       "<table border=\"1\" class=\"dataframe\">\n",
       "  <thead>\n",
       "    <tr style=\"text-align: right;\">\n",
       "      <th></th>\n",
       "      <th>0</th>\n",
       "      <th>문장번호</th>\n",
       "    </tr>\n",
       "  </thead>\n",
       "  <tbody>\n",
       "    <tr>\n",
       "      <th>0</th>\n",
       "      <td>우리</td>\n",
       "      <td>0</td>\n",
       "    </tr>\n",
       "    <tr>\n",
       "      <th>1</th>\n",
       "      <td>정부</td>\n",
       "      <td>0</td>\n",
       "    </tr>\n",
       "    <tr>\n",
       "      <th>2</th>\n",
       "      <td>군함도</td>\n",
       "      <td>0</td>\n",
       "    </tr>\n",
       "  </tbody>\n",
       "</table>\n",
       "</div>"
      ],
      "text/plain": [
       "     0  문장번호\n",
       "0   우리     0\n",
       "1   정부     0\n",
       "2  군함도     0"
      ]
     },
     "execution_count": 17,
     "metadata": {},
     "output_type": "execute_result"
    }
   ],
   "source": [
    "df_N.head(3)"
   ]
  },
  {
   "cell_type": "code",
   "execution_count": 23,
   "id": "78711a75",
   "metadata": {},
   "outputs": [],
   "source": [
    "# 불용어 처리\n",
    "df_stopword = pd.read_csv('stopword.txt') # 불용어 사전을 호출\n",
    "stopword_list = df_stopword['불용어'].tolist() # 처리하기 쉽게 리스트로 변경"
   ]
  },
  {
   "cell_type": "code",
   "execution_count": 24,
   "id": "0045feda",
   "metadata": {
    "collapsed": true
   },
   "outputs": [
    {
     "data": {
      "text/html": [
       "<div>\n",
       "<style scoped>\n",
       "    .dataframe tbody tr th:only-of-type {\n",
       "        vertical-align: middle;\n",
       "    }\n",
       "\n",
       "    .dataframe tbody tr th {\n",
       "        vertical-align: top;\n",
       "    }\n",
       "\n",
       "    .dataframe thead th {\n",
       "        text-align: right;\n",
       "    }\n",
       "</style>\n",
       "<table border=\"1\" class=\"dataframe\">\n",
       "  <thead>\n",
       "    <tr style=\"text-align: right;\">\n",
       "      <th></th>\n",
       "      <th>0</th>\n",
       "      <th>문장번호</th>\n",
       "    </tr>\n",
       "  </thead>\n",
       "  <tbody>\n",
       "    <tr>\n",
       "      <th>0</th>\n",
       "      <td>우리</td>\n",
       "      <td>0</td>\n",
       "    </tr>\n",
       "    <tr>\n",
       "      <th>1</th>\n",
       "      <td>정부</td>\n",
       "      <td>0</td>\n",
       "    </tr>\n",
       "    <tr>\n",
       "      <th>2</th>\n",
       "      <td>군함도</td>\n",
       "      <td>0</td>\n",
       "    </tr>\n",
       "    <tr>\n",
       "      <th>3</th>\n",
       "      <td>원명</td>\n",
       "      <td>0</td>\n",
       "    </tr>\n",
       "    <tr>\n",
       "      <th>4</th>\n",
       "      <td>하시마</td>\n",
       "      <td>0</td>\n",
       "    </tr>\n",
       "    <tr>\n",
       "      <th>...</th>\n",
       "      <td>...</td>\n",
       "      <td>...</td>\n",
       "    </tr>\n",
       "    <tr>\n",
       "      <th>1</th>\n",
       "      <td>위</td>\n",
       "      <td>82</td>\n",
       "    </tr>\n",
       "    <tr>\n",
       "      <th>2</th>\n",
       "      <td>김연</td>\n",
       "      <td>82</td>\n",
       "    </tr>\n",
       "    <tr>\n",
       "      <th>3</th>\n",
       "      <td>철</td>\n",
       "      <td>82</td>\n",
       "    </tr>\n",
       "    <tr>\n",
       "      <th>4</th>\n",
       "      <td>장관</td>\n",
       "      <td>82</td>\n",
       "    </tr>\n",
       "    <tr>\n",
       "      <th>5</th>\n",
       "      <td>연합뉴스</td>\n",
       "      <td>82</td>\n",
       "    </tr>\n",
       "  </tbody>\n",
       "</table>\n",
       "<p>7070 rows × 2 columns</p>\n",
       "</div>"
      ],
      "text/plain": [
       "       0  문장번호\n",
       "0     우리     0\n",
       "1     정부     0\n",
       "2    군함도     0\n",
       "3     원명     0\n",
       "4    하시마     0\n",
       "..   ...   ...\n",
       "1      위    82\n",
       "2     김연    82\n",
       "3      철    82\n",
       "4     장관    82\n",
       "5   연합뉴스    82\n",
       "\n",
       "[7070 rows x 2 columns]"
      ]
     },
     "execution_count": 24,
     "metadata": {},
     "output_type": "execute_result"
    }
   ],
   "source": [
    "df_N"
   ]
  },
  {
   "cell_type": "code",
   "execution_count": 26,
   "id": "d7cd9cd9",
   "metadata": {},
   "outputs": [],
   "source": [
    "import numpy as np"
   ]
  },
  {
   "cell_type": "code",
   "execution_count": 27,
   "id": "b96b4731",
   "metadata": {
    "collapsed": true
   },
   "outputs": [
    {
     "data": {
      "text/html": [
       "<div>\n",
       "<style scoped>\n",
       "    .dataframe tbody tr th:only-of-type {\n",
       "        vertical-align: middle;\n",
       "    }\n",
       "\n",
       "    .dataframe tbody tr th {\n",
       "        vertical-align: top;\n",
       "    }\n",
       "\n",
       "    .dataframe thead th {\n",
       "        text-align: right;\n",
       "    }\n",
       "</style>\n",
       "<table border=\"1\" class=\"dataframe\">\n",
       "  <thead>\n",
       "    <tr style=\"text-align: right;\">\n",
       "      <th></th>\n",
       "      <th>0</th>\n",
       "      <th>문장번호</th>\n",
       "      <th>문장명사</th>\n",
       "    </tr>\n",
       "  </thead>\n",
       "  <tbody>\n",
       "    <tr>\n",
       "      <th>0</th>\n",
       "      <td>우리</td>\n",
       "      <td>0</td>\n",
       "      <td>NaN</td>\n",
       "    </tr>\n",
       "    <tr>\n",
       "      <th>1</th>\n",
       "      <td>정부</td>\n",
       "      <td>0</td>\n",
       "      <td>정부</td>\n",
       "    </tr>\n",
       "    <tr>\n",
       "      <th>2</th>\n",
       "      <td>군함도</td>\n",
       "      <td>0</td>\n",
       "      <td>군함도</td>\n",
       "    </tr>\n",
       "    <tr>\n",
       "      <th>3</th>\n",
       "      <td>원명</td>\n",
       "      <td>0</td>\n",
       "      <td>원명</td>\n",
       "    </tr>\n",
       "    <tr>\n",
       "      <th>4</th>\n",
       "      <td>하시마</td>\n",
       "      <td>0</td>\n",
       "      <td>하시마</td>\n",
       "    </tr>\n",
       "    <tr>\n",
       "      <th>5</th>\n",
       "      <td>등</td>\n",
       "      <td>0</td>\n",
       "      <td>NaN</td>\n",
       "    </tr>\n",
       "    <tr>\n",
       "      <th>6</th>\n",
       "      <td>일본</td>\n",
       "      <td>0</td>\n",
       "      <td>일본</td>\n",
       "    </tr>\n",
       "    <tr>\n",
       "      <th>7</th>\n",
       "      <td>근대</td>\n",
       "      <td>0</td>\n",
       "      <td>근대</td>\n",
       "    </tr>\n",
       "    <tr>\n",
       "      <th>8</th>\n",
       "      <td>산업</td>\n",
       "      <td>0</td>\n",
       "      <td>산업</td>\n",
       "    </tr>\n",
       "    <tr>\n",
       "      <th>9</th>\n",
       "      <td>시설</td>\n",
       "      <td>0</td>\n",
       "      <td>시설</td>\n",
       "    </tr>\n",
       "  </tbody>\n",
       "</table>\n",
       "</div>"
      ],
      "text/plain": [
       "     0  문장번호 문장명사\n",
       "0   우리     0  NaN\n",
       "1   정부     0   정부\n",
       "2  군함도     0  군함도\n",
       "3   원명     0   원명\n",
       "4  하시마     0  하시마\n",
       "5    등     0  NaN\n",
       "6   일본     0   일본\n",
       "7   근대     0   근대\n",
       "8   산업     0   산업\n",
       "9   시설     0   시설"
      ]
     },
     "execution_count": 27,
     "metadata": {},
     "output_type": "execute_result"
    }
   ],
   "source": [
    "def func1(row):\n",
    "    if row in stopword_list:\n",
    "        return np.nan\n",
    "    else:\n",
    "        return row\n",
    "\n",
    "df_N['문장명사'] = df_N[0].apply(func1)\n",
    "df_N.head(10)"
   ]
  },
  {
   "cell_type": "code",
   "execution_count": 29,
   "id": "95b334c5",
   "metadata": {
    "collapsed": true
   },
   "outputs": [
    {
     "data": {
      "text/html": [
       "<div>\n",
       "<style scoped>\n",
       "    .dataframe tbody tr th:only-of-type {\n",
       "        vertical-align: middle;\n",
       "    }\n",
       "\n",
       "    .dataframe tbody tr th {\n",
       "        vertical-align: top;\n",
       "    }\n",
       "\n",
       "    .dataframe thead th {\n",
       "        text-align: right;\n",
       "    }\n",
       "</style>\n",
       "<table border=\"1\" class=\"dataframe\">\n",
       "  <thead>\n",
       "    <tr style=\"text-align: right;\">\n",
       "      <th></th>\n",
       "      <th>0</th>\n",
       "      <th>문장번호</th>\n",
       "      <th>문장명사</th>\n",
       "    </tr>\n",
       "  </thead>\n",
       "  <tbody>\n",
       "    <tr>\n",
       "      <th>1</th>\n",
       "      <td>정부</td>\n",
       "      <td>0</td>\n",
       "      <td>정부</td>\n",
       "    </tr>\n",
       "    <tr>\n",
       "      <th>2</th>\n",
       "      <td>군함도</td>\n",
       "      <td>0</td>\n",
       "      <td>군함도</td>\n",
       "    </tr>\n",
       "    <tr>\n",
       "      <th>3</th>\n",
       "      <td>원명</td>\n",
       "      <td>0</td>\n",
       "      <td>원명</td>\n",
       "    </tr>\n",
       "    <tr>\n",
       "      <th>4</th>\n",
       "      <td>하시마</td>\n",
       "      <td>0</td>\n",
       "      <td>하시마</td>\n",
       "    </tr>\n",
       "    <tr>\n",
       "      <th>6</th>\n",
       "      <td>일본</td>\n",
       "      <td>0</td>\n",
       "      <td>일본</td>\n",
       "    </tr>\n",
       "    <tr>\n",
       "      <th>7</th>\n",
       "      <td>근대</td>\n",
       "      <td>0</td>\n",
       "      <td>근대</td>\n",
       "    </tr>\n",
       "    <tr>\n",
       "      <th>8</th>\n",
       "      <td>산업</td>\n",
       "      <td>0</td>\n",
       "      <td>산업</td>\n",
       "    </tr>\n",
       "    <tr>\n",
       "      <th>9</th>\n",
       "      <td>시설</td>\n",
       "      <td>0</td>\n",
       "      <td>시설</td>\n",
       "    </tr>\n",
       "    <tr>\n",
       "      <th>10</th>\n",
       "      <td>곳</td>\n",
       "      <td>0</td>\n",
       "      <td>곳</td>\n",
       "    </tr>\n",
       "    <tr>\n",
       "      <th>12</th>\n",
       "      <td>세계</td>\n",
       "      <td>0</td>\n",
       "      <td>세계</td>\n",
       "    </tr>\n",
       "  </tbody>\n",
       "</table>\n",
       "</div>"
      ],
      "text/plain": [
       "      0  문장번호 문장명사\n",
       "1    정부     0   정부\n",
       "2   군함도     0  군함도\n",
       "3    원명     0   원명\n",
       "4   하시마     0  하시마\n",
       "6    일본     0   일본\n",
       "7    근대     0   근대\n",
       "8    산업     0   산업\n",
       "9    시설     0   시설\n",
       "10    곳     0    곳\n",
       "12   세계     0   세계"
      ]
     },
     "execution_count": 29,
     "metadata": {},
     "output_type": "execute_result"
    }
   ],
   "source": [
    "df_sent = df_N.dropna() # 결측값으로 처리된 불용어 단어를 제거\n",
    "df_sent.head(10)"
   ]
  },
  {
   "cell_type": "code",
   "execution_count": 33,
   "id": "1c5909c4",
   "metadata": {},
   "outputs": [],
   "source": [
    "# 각 문장 번호 별로 명사들이 공백(띄어쓰기)를 기준으로 나열되도록 정리\n",
    "g1 = df_sent.groupby('문장번호')['문장명사'].apply(lambda x : ' '.join(x.dropna()))\n",
    "df_sent2 = g1.reset_index()"
   ]
  },
  {
   "cell_type": "code",
   "execution_count": 35,
   "id": "6a1f612f",
   "metadata": {},
   "outputs": [],
   "source": [
    "# 유사도 분석을 위해 문장 별 리스트로 변환\n",
    "text_list = df_sent2 ['문장명사'].tolist()"
   ]
  },
  {
   "cell_type": "code",
   "execution_count": 36,
   "id": "a79cec8d",
   "metadata": {},
   "outputs": [],
   "source": [
    "from nltk.tokenize import word_tokenize,  sent_tokenize"
   ]
  },
  {
   "cell_type": "code",
   "execution_count": 40,
   "id": "1cf264e6",
   "metadata": {},
   "outputs": [],
   "source": [
    "# 띄어쓰기를 기준으로 각 명사를 토큰형태로 분할\n",
    "sentences1 = [word_tokenize(x) for x in text_list]"
   ]
  },
  {
   "cell_type": "code",
   "execution_count": 41,
   "id": "dc7f951a",
   "metadata": {},
   "outputs": [],
   "source": [
    "from gensim.models import Word2Vec"
   ]
  },
  {
   "cell_type": "code",
   "execution_count": 42,
   "id": "23c418a5",
   "metadata": {},
   "outputs": [],
   "source": [
    "model_nlp = Word2Vec(sentences1, vector_size=100, window=5,\n",
    "                    min_count=1, sg=1)"
   ]
  },
  {
   "cell_type": "code",
   "execution_count": 43,
   "id": "76bf5f03",
   "metadata": {
    "collapsed": true
   },
   "outputs": [
    {
     "data": {
      "text/plain": [
       "[('문제', 0.9971823692321777),\n",
       " ('한국', 0.9971707463264465),\n",
       " ('북한', 0.9970873594284058),\n",
       " ('정부', 0.9967448711395264),\n",
       " ('미국', 0.996694028377533),\n",
       " ('상황', 0.9966888427734375),\n",
       " ('김정은', 0.996669352054596),\n",
       " ('책임', 0.9965476989746094),\n",
       " ('대북', 0.9965229630470276),\n",
       " ('안보', 0.9964885711669922)]"
      ]
     },
     "execution_count": 43,
     "metadata": {},
     "output_type": "execute_result"
    }
   ],
   "source": [
    "model_nlp.wv.most_similar('전략')"
   ]
  },
  {
   "cell_type": "code",
   "execution_count": 44,
   "id": "602dae78",
   "metadata": {
    "collapsed": true
   },
   "outputs": [
    {
     "data": {
      "text/plain": [
       "[('재개', 0.9949559569358826),\n",
       " ('훈련', 0.9947832226753235),\n",
       " ('전개', 0.9944758415222168),\n",
       " ('한국', 0.99445641040802),\n",
       " ('날', 0.9944198727607727),\n",
       " ('전략', 0.9943552613258362),\n",
       " ('연합', 0.9942378401756287),\n",
       " ('북한', 0.9941690564155579),\n",
       " ('미국', 0.9940361976623535),\n",
       " ('경제', 0.9938756227493286)]"
      ]
     },
     "execution_count": 44,
     "metadata": {},
     "output_type": "execute_result"
    }
   ],
   "source": [
    "model_nlp.wv.most_similar('자산')"
   ]
  },
  {
   "cell_type": "markdown",
   "id": "c5a45bd9",
   "metadata": {},
   "source": [
    "### 2번"
   ]
  },
  {
   "cell_type": "code",
   "execution_count": 45,
   "id": "69e4b50e",
   "metadata": {
    "collapsed": true
   },
   "outputs": [
    {
     "data": {
      "text/plain": [
       "0                   정부, 유네스코에 日군함도 세계유산 취소 요구\n",
       "1           \"트럼프, 하노이 회담후 김정은에 北까지 데려다주겠다 제안\"\n",
       "2     [단독] \"美北 판문점 회동때, 트럼프도 김정은도 文동행 원치 않았다\"\n",
       "3             [단독] \"트럼프와 회담, 김정은이 아닌 정의용이 제안\"\n",
       "4       [단독] \"트럼프 '한국 방위비 분담금' 미군철수로 위협하라 지시\"\n",
       "                       ...                   \n",
       "84            文대통령은 NSC 불참… 통일장관은 \"北도발 예고된 일\"\n",
       "85                         文정부 남북화해 상징이 폭파당했다\n",
       "86                       [속보]개성 연락사무소 전기공급 중단\n",
       "87             [속보] 軍, 대북감시 대비태세 강화.. 지휘관 정위치\n",
       "88                김연철 통일부 장관 \"북한의 폭파, 예고된 부분\"\n",
       "Name: 기사제목, Length: 89, dtype: object"
      ]
     },
     "execution_count": 45,
     "metadata": {},
     "output_type": "execute_result"
    }
   ],
   "source": [
    "df1['기사제목']"
   ]
  },
  {
   "cell_type": "code",
   "execution_count": 46,
   "id": "afeaa4c9",
   "metadata": {
    "collapsed": true
   },
   "outputs": [
    {
     "data": {
      "text/plain": [
       "기사유형\n",
       "일반    80\n",
       "단독     7\n",
       "속보     2\n",
       "Name: count, dtype: int64"
      ]
     },
     "execution_count": 46,
     "metadata": {},
     "output_type": "execute_result"
    }
   ],
   "source": [
    "def func2(row):\n",
    "    if '단독' in row:\n",
    "        return '단독'\n",
    "    elif '속보' in row:\n",
    "        return '속보'\n",
    "    return '일반'\n",
    "\n",
    "df1['기사유형'] = df1['기사제목'].apply(func2)\n",
    "df1['기사유형'].value_counts()"
   ]
  },
  {
   "cell_type": "code",
   "execution_count": 71,
   "id": "740e3052",
   "metadata": {},
   "outputs": [],
   "source": [
    "cond1 = df1['기사유형'].isin(['단독','속보'])\n",
    "text_series1 = df1.loc[cond1]['내용'].dropna().reset_index()"
   ]
  },
  {
   "cell_type": "code",
   "execution_count": 72,
   "id": "1814ab70",
   "metadata": {},
   "outputs": [],
   "source": [
    "df_N2 = pd.DataFrame()\n",
    "for i in range(0, len(text_series1)):\n",
    "    dfn = pd.DataFrame(okt.nouns(text_series1['내용'][i]))\n",
    "    df_N2 = pd.concat([df_N2, dfn])"
   ]
  },
  {
   "cell_type": "code",
   "execution_count": 76,
   "id": "645d52f7",
   "metadata": {},
   "outputs": [],
   "source": [
    "p1 = df_N2[0].value_counts().head(5)"
   ]
  },
  {
   "cell_type": "code",
   "execution_count": 77,
   "id": "0319ad58",
   "metadata": {
    "collapsed": true
   },
   "outputs": [
    {
     "data": {
      "application/vnd.plotly.v1+json": {
       "config": {
        "plotlyServerURL": "https://plot.ly"
       },
       "data": [
        {
         "alignmentgroup": "True",
         "hovertemplate": "variable=count<br>0=%{x}<br>value=%{y}<extra></extra>",
         "legendgroup": "count",
         "marker": {
          "color": "#636efa",
          "pattern": {
           "shape": ""
          }
         },
         "name": "count",
         "offsetgroup": "count",
         "orientation": "v",
         "showlegend": true,
         "textposition": "auto",
         "type": "bar",
         "x": [
          "대통령",
          "국",
          "볼턴",
          "대북",
          "미국"
         ],
         "xaxis": "x",
         "y": [
          6,
          5,
          4,
          4,
          4
         ],
         "yaxis": "y"
        }
       ],
       "layout": {
        "barmode": "relative",
        "legend": {
         "title": {
          "text": "variable"
         },
         "tracegroupgap": 0
        },
        "margin": {
         "t": 60
        },
        "template": {
         "data": {
          "bar": [
           {
            "error_x": {
             "color": "#2a3f5f"
            },
            "error_y": {
             "color": "#2a3f5f"
            },
            "marker": {
             "line": {
              "color": "#E5ECF6",
              "width": 0.5
             },
             "pattern": {
              "fillmode": "overlay",
              "size": 10,
              "solidity": 0.2
             }
            },
            "type": "bar"
           }
          ],
          "barpolar": [
           {
            "marker": {
             "line": {
              "color": "#E5ECF6",
              "width": 0.5
             },
             "pattern": {
              "fillmode": "overlay",
              "size": 10,
              "solidity": 0.2
             }
            },
            "type": "barpolar"
           }
          ],
          "carpet": [
           {
            "aaxis": {
             "endlinecolor": "#2a3f5f",
             "gridcolor": "white",
             "linecolor": "white",
             "minorgridcolor": "white",
             "startlinecolor": "#2a3f5f"
            },
            "baxis": {
             "endlinecolor": "#2a3f5f",
             "gridcolor": "white",
             "linecolor": "white",
             "minorgridcolor": "white",
             "startlinecolor": "#2a3f5f"
            },
            "type": "carpet"
           }
          ],
          "choropleth": [
           {
            "colorbar": {
             "outlinewidth": 0,
             "ticks": ""
            },
            "type": "choropleth"
           }
          ],
          "contour": [
           {
            "colorbar": {
             "outlinewidth": 0,
             "ticks": ""
            },
            "colorscale": [
             [
              0,
              "#0d0887"
             ],
             [
              0.1111111111111111,
              "#46039f"
             ],
             [
              0.2222222222222222,
              "#7201a8"
             ],
             [
              0.3333333333333333,
              "#9c179e"
             ],
             [
              0.4444444444444444,
              "#bd3786"
             ],
             [
              0.5555555555555556,
              "#d8576b"
             ],
             [
              0.6666666666666666,
              "#ed7953"
             ],
             [
              0.7777777777777778,
              "#fb9f3a"
             ],
             [
              0.8888888888888888,
              "#fdca26"
             ],
             [
              1,
              "#f0f921"
             ]
            ],
            "type": "contour"
           }
          ],
          "contourcarpet": [
           {
            "colorbar": {
             "outlinewidth": 0,
             "ticks": ""
            },
            "type": "contourcarpet"
           }
          ],
          "heatmap": [
           {
            "colorbar": {
             "outlinewidth": 0,
             "ticks": ""
            },
            "colorscale": [
             [
              0,
              "#0d0887"
             ],
             [
              0.1111111111111111,
              "#46039f"
             ],
             [
              0.2222222222222222,
              "#7201a8"
             ],
             [
              0.3333333333333333,
              "#9c179e"
             ],
             [
              0.4444444444444444,
              "#bd3786"
             ],
             [
              0.5555555555555556,
              "#d8576b"
             ],
             [
              0.6666666666666666,
              "#ed7953"
             ],
             [
              0.7777777777777778,
              "#fb9f3a"
             ],
             [
              0.8888888888888888,
              "#fdca26"
             ],
             [
              1,
              "#f0f921"
             ]
            ],
            "type": "heatmap"
           }
          ],
          "heatmapgl": [
           {
            "colorbar": {
             "outlinewidth": 0,
             "ticks": ""
            },
            "colorscale": [
             [
              0,
              "#0d0887"
             ],
             [
              0.1111111111111111,
              "#46039f"
             ],
             [
              0.2222222222222222,
              "#7201a8"
             ],
             [
              0.3333333333333333,
              "#9c179e"
             ],
             [
              0.4444444444444444,
              "#bd3786"
             ],
             [
              0.5555555555555556,
              "#d8576b"
             ],
             [
              0.6666666666666666,
              "#ed7953"
             ],
             [
              0.7777777777777778,
              "#fb9f3a"
             ],
             [
              0.8888888888888888,
              "#fdca26"
             ],
             [
              1,
              "#f0f921"
             ]
            ],
            "type": "heatmapgl"
           }
          ],
          "histogram": [
           {
            "marker": {
             "pattern": {
              "fillmode": "overlay",
              "size": 10,
              "solidity": 0.2
             }
            },
            "type": "histogram"
           }
          ],
          "histogram2d": [
           {
            "colorbar": {
             "outlinewidth": 0,
             "ticks": ""
            },
            "colorscale": [
             [
              0,
              "#0d0887"
             ],
             [
              0.1111111111111111,
              "#46039f"
             ],
             [
              0.2222222222222222,
              "#7201a8"
             ],
             [
              0.3333333333333333,
              "#9c179e"
             ],
             [
              0.4444444444444444,
              "#bd3786"
             ],
             [
              0.5555555555555556,
              "#d8576b"
             ],
             [
              0.6666666666666666,
              "#ed7953"
             ],
             [
              0.7777777777777778,
              "#fb9f3a"
             ],
             [
              0.8888888888888888,
              "#fdca26"
             ],
             [
              1,
              "#f0f921"
             ]
            ],
            "type": "histogram2d"
           }
          ],
          "histogram2dcontour": [
           {
            "colorbar": {
             "outlinewidth": 0,
             "ticks": ""
            },
            "colorscale": [
             [
              0,
              "#0d0887"
             ],
             [
              0.1111111111111111,
              "#46039f"
             ],
             [
              0.2222222222222222,
              "#7201a8"
             ],
             [
              0.3333333333333333,
              "#9c179e"
             ],
             [
              0.4444444444444444,
              "#bd3786"
             ],
             [
              0.5555555555555556,
              "#d8576b"
             ],
             [
              0.6666666666666666,
              "#ed7953"
             ],
             [
              0.7777777777777778,
              "#fb9f3a"
             ],
             [
              0.8888888888888888,
              "#fdca26"
             ],
             [
              1,
              "#f0f921"
             ]
            ],
            "type": "histogram2dcontour"
           }
          ],
          "mesh3d": [
           {
            "colorbar": {
             "outlinewidth": 0,
             "ticks": ""
            },
            "type": "mesh3d"
           }
          ],
          "parcoords": [
           {
            "line": {
             "colorbar": {
              "outlinewidth": 0,
              "ticks": ""
             }
            },
            "type": "parcoords"
           }
          ],
          "pie": [
           {
            "automargin": true,
            "type": "pie"
           }
          ],
          "scatter": [
           {
            "fillpattern": {
             "fillmode": "overlay",
             "size": 10,
             "solidity": 0.2
            },
            "type": "scatter"
           }
          ],
          "scatter3d": [
           {
            "line": {
             "colorbar": {
              "outlinewidth": 0,
              "ticks": ""
             }
            },
            "marker": {
             "colorbar": {
              "outlinewidth": 0,
              "ticks": ""
             }
            },
            "type": "scatter3d"
           }
          ],
          "scattercarpet": [
           {
            "marker": {
             "colorbar": {
              "outlinewidth": 0,
              "ticks": ""
             }
            },
            "type": "scattercarpet"
           }
          ],
          "scattergeo": [
           {
            "marker": {
             "colorbar": {
              "outlinewidth": 0,
              "ticks": ""
             }
            },
            "type": "scattergeo"
           }
          ],
          "scattergl": [
           {
            "marker": {
             "colorbar": {
              "outlinewidth": 0,
              "ticks": ""
             }
            },
            "type": "scattergl"
           }
          ],
          "scattermapbox": [
           {
            "marker": {
             "colorbar": {
              "outlinewidth": 0,
              "ticks": ""
             }
            },
            "type": "scattermapbox"
           }
          ],
          "scatterpolar": [
           {
            "marker": {
             "colorbar": {
              "outlinewidth": 0,
              "ticks": ""
             }
            },
            "type": "scatterpolar"
           }
          ],
          "scatterpolargl": [
           {
            "marker": {
             "colorbar": {
              "outlinewidth": 0,
              "ticks": ""
             }
            },
            "type": "scatterpolargl"
           }
          ],
          "scatterternary": [
           {
            "marker": {
             "colorbar": {
              "outlinewidth": 0,
              "ticks": ""
             }
            },
            "type": "scatterternary"
           }
          ],
          "surface": [
           {
            "colorbar": {
             "outlinewidth": 0,
             "ticks": ""
            },
            "colorscale": [
             [
              0,
              "#0d0887"
             ],
             [
              0.1111111111111111,
              "#46039f"
             ],
             [
              0.2222222222222222,
              "#7201a8"
             ],
             [
              0.3333333333333333,
              "#9c179e"
             ],
             [
              0.4444444444444444,
              "#bd3786"
             ],
             [
              0.5555555555555556,
              "#d8576b"
             ],
             [
              0.6666666666666666,
              "#ed7953"
             ],
             [
              0.7777777777777778,
              "#fb9f3a"
             ],
             [
              0.8888888888888888,
              "#fdca26"
             ],
             [
              1,
              "#f0f921"
             ]
            ],
            "type": "surface"
           }
          ],
          "table": [
           {
            "cells": {
             "fill": {
              "color": "#EBF0F8"
             },
             "line": {
              "color": "white"
             }
            },
            "header": {
             "fill": {
              "color": "#C8D4E3"
             },
             "line": {
              "color": "white"
             }
            },
            "type": "table"
           }
          ]
         },
         "layout": {
          "annotationdefaults": {
           "arrowcolor": "#2a3f5f",
           "arrowhead": 0,
           "arrowwidth": 1
          },
          "autotypenumbers": "strict",
          "coloraxis": {
           "colorbar": {
            "outlinewidth": 0,
            "ticks": ""
           }
          },
          "colorscale": {
           "diverging": [
            [
             0,
             "#8e0152"
            ],
            [
             0.1,
             "#c51b7d"
            ],
            [
             0.2,
             "#de77ae"
            ],
            [
             0.3,
             "#f1b6da"
            ],
            [
             0.4,
             "#fde0ef"
            ],
            [
             0.5,
             "#f7f7f7"
            ],
            [
             0.6,
             "#e6f5d0"
            ],
            [
             0.7,
             "#b8e186"
            ],
            [
             0.8,
             "#7fbc41"
            ],
            [
             0.9,
             "#4d9221"
            ],
            [
             1,
             "#276419"
            ]
           ],
           "sequential": [
            [
             0,
             "#0d0887"
            ],
            [
             0.1111111111111111,
             "#46039f"
            ],
            [
             0.2222222222222222,
             "#7201a8"
            ],
            [
             0.3333333333333333,
             "#9c179e"
            ],
            [
             0.4444444444444444,
             "#bd3786"
            ],
            [
             0.5555555555555556,
             "#d8576b"
            ],
            [
             0.6666666666666666,
             "#ed7953"
            ],
            [
             0.7777777777777778,
             "#fb9f3a"
            ],
            [
             0.8888888888888888,
             "#fdca26"
            ],
            [
             1,
             "#f0f921"
            ]
           ],
           "sequentialminus": [
            [
             0,
             "#0d0887"
            ],
            [
             0.1111111111111111,
             "#46039f"
            ],
            [
             0.2222222222222222,
             "#7201a8"
            ],
            [
             0.3333333333333333,
             "#9c179e"
            ],
            [
             0.4444444444444444,
             "#bd3786"
            ],
            [
             0.5555555555555556,
             "#d8576b"
            ],
            [
             0.6666666666666666,
             "#ed7953"
            ],
            [
             0.7777777777777778,
             "#fb9f3a"
            ],
            [
             0.8888888888888888,
             "#fdca26"
            ],
            [
             1,
             "#f0f921"
            ]
           ]
          },
          "colorway": [
           "#636efa",
           "#EF553B",
           "#00cc96",
           "#ab63fa",
           "#FFA15A",
           "#19d3f3",
           "#FF6692",
           "#B6E880",
           "#FF97FF",
           "#FECB52"
          ],
          "font": {
           "color": "#2a3f5f"
          },
          "geo": {
           "bgcolor": "white",
           "lakecolor": "white",
           "landcolor": "#E5ECF6",
           "showlakes": true,
           "showland": true,
           "subunitcolor": "white"
          },
          "hoverlabel": {
           "align": "left"
          },
          "hovermode": "closest",
          "mapbox": {
           "style": "light"
          },
          "paper_bgcolor": "white",
          "plot_bgcolor": "#E5ECF6",
          "polar": {
           "angularaxis": {
            "gridcolor": "white",
            "linecolor": "white",
            "ticks": ""
           },
           "bgcolor": "#E5ECF6",
           "radialaxis": {
            "gridcolor": "white",
            "linecolor": "white",
            "ticks": ""
           }
          },
          "scene": {
           "xaxis": {
            "backgroundcolor": "#E5ECF6",
            "gridcolor": "white",
            "gridwidth": 2,
            "linecolor": "white",
            "showbackground": true,
            "ticks": "",
            "zerolinecolor": "white"
           },
           "yaxis": {
            "backgroundcolor": "#E5ECF6",
            "gridcolor": "white",
            "gridwidth": 2,
            "linecolor": "white",
            "showbackground": true,
            "ticks": "",
            "zerolinecolor": "white"
           },
           "zaxis": {
            "backgroundcolor": "#E5ECF6",
            "gridcolor": "white",
            "gridwidth": 2,
            "linecolor": "white",
            "showbackground": true,
            "ticks": "",
            "zerolinecolor": "white"
           }
          },
          "shapedefaults": {
           "line": {
            "color": "#2a3f5f"
           }
          },
          "ternary": {
           "aaxis": {
            "gridcolor": "white",
            "linecolor": "white",
            "ticks": ""
           },
           "baxis": {
            "gridcolor": "white",
            "linecolor": "white",
            "ticks": ""
           },
           "bgcolor": "#E5ECF6",
           "caxis": {
            "gridcolor": "white",
            "linecolor": "white",
            "ticks": ""
           }
          },
          "title": {
           "x": 0.05
          },
          "xaxis": {
           "automargin": true,
           "gridcolor": "white",
           "linecolor": "white",
           "ticks": "",
           "title": {
            "standoff": 15
           },
           "zerolinecolor": "white",
           "zerolinewidth": 2
          },
          "yaxis": {
           "automargin": true,
           "gridcolor": "white",
           "linecolor": "white",
           "ticks": "",
           "title": {
            "standoff": 15
           },
           "zerolinecolor": "white",
           "zerolinewidth": 2
          }
         }
        },
        "xaxis": {
         "anchor": "y",
         "domain": [
          0,
          1
         ],
         "title": {
          "text": "0"
         }
        },
        "yaxis": {
         "anchor": "x",
         "domain": [
          0,
          1
         ],
         "title": {
          "text": "value"
         }
        }
       }
      },
      "text/html": [
       "<div>                            <div id=\"412b8c6c-d18e-4b6d-a5b7-0ee613864584\" class=\"plotly-graph-div\" style=\"height:525px; width:100%;\"></div>            <script type=\"text/javascript\">                require([\"plotly\"], function(Plotly) {                    window.PLOTLYENV=window.PLOTLYENV || {};                                    if (document.getElementById(\"412b8c6c-d18e-4b6d-a5b7-0ee613864584\")) {                    Plotly.newPlot(                        \"412b8c6c-d18e-4b6d-a5b7-0ee613864584\",                        [{\"alignmentgroup\":\"True\",\"hovertemplate\":\"variable=count\\u003cbr\\u003e0=%{x}\\u003cbr\\u003evalue=%{y}\\u003cextra\\u003e\\u003c\\u002fextra\\u003e\",\"legendgroup\":\"count\",\"marker\":{\"color\":\"#636efa\",\"pattern\":{\"shape\":\"\"}},\"name\":\"count\",\"offsetgroup\":\"count\",\"orientation\":\"v\",\"showlegend\":true,\"textposition\":\"auto\",\"x\":[\"대통령\",\"국\",\"볼턴\",\"대북\",\"미국\"],\"xaxis\":\"x\",\"y\":[6,5,4,4,4],\"yaxis\":\"y\",\"type\":\"bar\"}],                        {\"template\":{\"data\":{\"histogram2dcontour\":[{\"type\":\"histogram2dcontour\",\"colorbar\":{\"outlinewidth\":0,\"ticks\":\"\"},\"colorscale\":[[0.0,\"#0d0887\"],[0.1111111111111111,\"#46039f\"],[0.2222222222222222,\"#7201a8\"],[0.3333333333333333,\"#9c179e\"],[0.4444444444444444,\"#bd3786\"],[0.5555555555555556,\"#d8576b\"],[0.6666666666666666,\"#ed7953\"],[0.7777777777777778,\"#fb9f3a\"],[0.8888888888888888,\"#fdca26\"],[1.0,\"#f0f921\"]]}],\"choropleth\":[{\"type\":\"choropleth\",\"colorbar\":{\"outlinewidth\":0,\"ticks\":\"\"}}],\"histogram2d\":[{\"type\":\"histogram2d\",\"colorbar\":{\"outlinewidth\":0,\"ticks\":\"\"},\"colorscale\":[[0.0,\"#0d0887\"],[0.1111111111111111,\"#46039f\"],[0.2222222222222222,\"#7201a8\"],[0.3333333333333333,\"#9c179e\"],[0.4444444444444444,\"#bd3786\"],[0.5555555555555556,\"#d8576b\"],[0.6666666666666666,\"#ed7953\"],[0.7777777777777778,\"#fb9f3a\"],[0.8888888888888888,\"#fdca26\"],[1.0,\"#f0f921\"]]}],\"heatmap\":[{\"type\":\"heatmap\",\"colorbar\":{\"outlinewidth\":0,\"ticks\":\"\"},\"colorscale\":[[0.0,\"#0d0887\"],[0.1111111111111111,\"#46039f\"],[0.2222222222222222,\"#7201a8\"],[0.3333333333333333,\"#9c179e\"],[0.4444444444444444,\"#bd3786\"],[0.5555555555555556,\"#d8576b\"],[0.6666666666666666,\"#ed7953\"],[0.7777777777777778,\"#fb9f3a\"],[0.8888888888888888,\"#fdca26\"],[1.0,\"#f0f921\"]]}],\"heatmapgl\":[{\"type\":\"heatmapgl\",\"colorbar\":{\"outlinewidth\":0,\"ticks\":\"\"},\"colorscale\":[[0.0,\"#0d0887\"],[0.1111111111111111,\"#46039f\"],[0.2222222222222222,\"#7201a8\"],[0.3333333333333333,\"#9c179e\"],[0.4444444444444444,\"#bd3786\"],[0.5555555555555556,\"#d8576b\"],[0.6666666666666666,\"#ed7953\"],[0.7777777777777778,\"#fb9f3a\"],[0.8888888888888888,\"#fdca26\"],[1.0,\"#f0f921\"]]}],\"contourcarpet\":[{\"type\":\"contourcarpet\",\"colorbar\":{\"outlinewidth\":0,\"ticks\":\"\"}}],\"contour\":[{\"type\":\"contour\",\"colorbar\":{\"outlinewidth\":0,\"ticks\":\"\"},\"colorscale\":[[0.0,\"#0d0887\"],[0.1111111111111111,\"#46039f\"],[0.2222222222222222,\"#7201a8\"],[0.3333333333333333,\"#9c179e\"],[0.4444444444444444,\"#bd3786\"],[0.5555555555555556,\"#d8576b\"],[0.6666666666666666,\"#ed7953\"],[0.7777777777777778,\"#fb9f3a\"],[0.8888888888888888,\"#fdca26\"],[1.0,\"#f0f921\"]]}],\"surface\":[{\"type\":\"surface\",\"colorbar\":{\"outlinewidth\":0,\"ticks\":\"\"},\"colorscale\":[[0.0,\"#0d0887\"],[0.1111111111111111,\"#46039f\"],[0.2222222222222222,\"#7201a8\"],[0.3333333333333333,\"#9c179e\"],[0.4444444444444444,\"#bd3786\"],[0.5555555555555556,\"#d8576b\"],[0.6666666666666666,\"#ed7953\"],[0.7777777777777778,\"#fb9f3a\"],[0.8888888888888888,\"#fdca26\"],[1.0,\"#f0f921\"]]}],\"mesh3d\":[{\"type\":\"mesh3d\",\"colorbar\":{\"outlinewidth\":0,\"ticks\":\"\"}}],\"scatter\":[{\"fillpattern\":{\"fillmode\":\"overlay\",\"size\":10,\"solidity\":0.2},\"type\":\"scatter\"}],\"parcoords\":[{\"type\":\"parcoords\",\"line\":{\"colorbar\":{\"outlinewidth\":0,\"ticks\":\"\"}}}],\"scatterpolargl\":[{\"type\":\"scatterpolargl\",\"marker\":{\"colorbar\":{\"outlinewidth\":0,\"ticks\":\"\"}}}],\"bar\":[{\"error_x\":{\"color\":\"#2a3f5f\"},\"error_y\":{\"color\":\"#2a3f5f\"},\"marker\":{\"line\":{\"color\":\"#E5ECF6\",\"width\":0.5},\"pattern\":{\"fillmode\":\"overlay\",\"size\":10,\"solidity\":0.2}},\"type\":\"bar\"}],\"scattergeo\":[{\"type\":\"scattergeo\",\"marker\":{\"colorbar\":{\"outlinewidth\":0,\"ticks\":\"\"}}}],\"scatterpolar\":[{\"type\":\"scatterpolar\",\"marker\":{\"colorbar\":{\"outlinewidth\":0,\"ticks\":\"\"}}}],\"histogram\":[{\"marker\":{\"pattern\":{\"fillmode\":\"overlay\",\"size\":10,\"solidity\":0.2}},\"type\":\"histogram\"}],\"scattergl\":[{\"type\":\"scattergl\",\"marker\":{\"colorbar\":{\"outlinewidth\":0,\"ticks\":\"\"}}}],\"scatter3d\":[{\"type\":\"scatter3d\",\"line\":{\"colorbar\":{\"outlinewidth\":0,\"ticks\":\"\"}},\"marker\":{\"colorbar\":{\"outlinewidth\":0,\"ticks\":\"\"}}}],\"scattermapbox\":[{\"type\":\"scattermapbox\",\"marker\":{\"colorbar\":{\"outlinewidth\":0,\"ticks\":\"\"}}}],\"scatterternary\":[{\"type\":\"scatterternary\",\"marker\":{\"colorbar\":{\"outlinewidth\":0,\"ticks\":\"\"}}}],\"scattercarpet\":[{\"type\":\"scattercarpet\",\"marker\":{\"colorbar\":{\"outlinewidth\":0,\"ticks\":\"\"}}}],\"carpet\":[{\"aaxis\":{\"endlinecolor\":\"#2a3f5f\",\"gridcolor\":\"white\",\"linecolor\":\"white\",\"minorgridcolor\":\"white\",\"startlinecolor\":\"#2a3f5f\"},\"baxis\":{\"endlinecolor\":\"#2a3f5f\",\"gridcolor\":\"white\",\"linecolor\":\"white\",\"minorgridcolor\":\"white\",\"startlinecolor\":\"#2a3f5f\"},\"type\":\"carpet\"}],\"table\":[{\"cells\":{\"fill\":{\"color\":\"#EBF0F8\"},\"line\":{\"color\":\"white\"}},\"header\":{\"fill\":{\"color\":\"#C8D4E3\"},\"line\":{\"color\":\"white\"}},\"type\":\"table\"}],\"barpolar\":[{\"marker\":{\"line\":{\"color\":\"#E5ECF6\",\"width\":0.5},\"pattern\":{\"fillmode\":\"overlay\",\"size\":10,\"solidity\":0.2}},\"type\":\"barpolar\"}],\"pie\":[{\"automargin\":true,\"type\":\"pie\"}]},\"layout\":{\"autotypenumbers\":\"strict\",\"colorway\":[\"#636efa\",\"#EF553B\",\"#00cc96\",\"#ab63fa\",\"#FFA15A\",\"#19d3f3\",\"#FF6692\",\"#B6E880\",\"#FF97FF\",\"#FECB52\"],\"font\":{\"color\":\"#2a3f5f\"},\"hovermode\":\"closest\",\"hoverlabel\":{\"align\":\"left\"},\"paper_bgcolor\":\"white\",\"plot_bgcolor\":\"#E5ECF6\",\"polar\":{\"bgcolor\":\"#E5ECF6\",\"angularaxis\":{\"gridcolor\":\"white\",\"linecolor\":\"white\",\"ticks\":\"\"},\"radialaxis\":{\"gridcolor\":\"white\",\"linecolor\":\"white\",\"ticks\":\"\"}},\"ternary\":{\"bgcolor\":\"#E5ECF6\",\"aaxis\":{\"gridcolor\":\"white\",\"linecolor\":\"white\",\"ticks\":\"\"},\"baxis\":{\"gridcolor\":\"white\",\"linecolor\":\"white\",\"ticks\":\"\"},\"caxis\":{\"gridcolor\":\"white\",\"linecolor\":\"white\",\"ticks\":\"\"}},\"coloraxis\":{\"colorbar\":{\"outlinewidth\":0,\"ticks\":\"\"}},\"colorscale\":{\"sequential\":[[0.0,\"#0d0887\"],[0.1111111111111111,\"#46039f\"],[0.2222222222222222,\"#7201a8\"],[0.3333333333333333,\"#9c179e\"],[0.4444444444444444,\"#bd3786\"],[0.5555555555555556,\"#d8576b\"],[0.6666666666666666,\"#ed7953\"],[0.7777777777777778,\"#fb9f3a\"],[0.8888888888888888,\"#fdca26\"],[1.0,\"#f0f921\"]],\"sequentialminus\":[[0.0,\"#0d0887\"],[0.1111111111111111,\"#46039f\"],[0.2222222222222222,\"#7201a8\"],[0.3333333333333333,\"#9c179e\"],[0.4444444444444444,\"#bd3786\"],[0.5555555555555556,\"#d8576b\"],[0.6666666666666666,\"#ed7953\"],[0.7777777777777778,\"#fb9f3a\"],[0.8888888888888888,\"#fdca26\"],[1.0,\"#f0f921\"]],\"diverging\":[[0,\"#8e0152\"],[0.1,\"#c51b7d\"],[0.2,\"#de77ae\"],[0.3,\"#f1b6da\"],[0.4,\"#fde0ef\"],[0.5,\"#f7f7f7\"],[0.6,\"#e6f5d0\"],[0.7,\"#b8e186\"],[0.8,\"#7fbc41\"],[0.9,\"#4d9221\"],[1,\"#276419\"]]},\"xaxis\":{\"gridcolor\":\"white\",\"linecolor\":\"white\",\"ticks\":\"\",\"title\":{\"standoff\":15},\"zerolinecolor\":\"white\",\"automargin\":true,\"zerolinewidth\":2},\"yaxis\":{\"gridcolor\":\"white\",\"linecolor\":\"white\",\"ticks\":\"\",\"title\":{\"standoff\":15},\"zerolinecolor\":\"white\",\"automargin\":true,\"zerolinewidth\":2},\"scene\":{\"xaxis\":{\"backgroundcolor\":\"#E5ECF6\",\"gridcolor\":\"white\",\"linecolor\":\"white\",\"showbackground\":true,\"ticks\":\"\",\"zerolinecolor\":\"white\",\"gridwidth\":2},\"yaxis\":{\"backgroundcolor\":\"#E5ECF6\",\"gridcolor\":\"white\",\"linecolor\":\"white\",\"showbackground\":true,\"ticks\":\"\",\"zerolinecolor\":\"white\",\"gridwidth\":2},\"zaxis\":{\"backgroundcolor\":\"#E5ECF6\",\"gridcolor\":\"white\",\"linecolor\":\"white\",\"showbackground\":true,\"ticks\":\"\",\"zerolinecolor\":\"white\",\"gridwidth\":2}},\"shapedefaults\":{\"line\":{\"color\":\"#2a3f5f\"}},\"annotationdefaults\":{\"arrowcolor\":\"#2a3f5f\",\"arrowhead\":0,\"arrowwidth\":1},\"geo\":{\"bgcolor\":\"white\",\"landcolor\":\"#E5ECF6\",\"subunitcolor\":\"white\",\"showland\":true,\"showlakes\":true,\"lakecolor\":\"white\"},\"title\":{\"x\":0.05},\"mapbox\":{\"style\":\"light\"}}},\"xaxis\":{\"anchor\":\"y\",\"domain\":[0.0,1.0],\"title\":{\"text\":\"0\"}},\"yaxis\":{\"anchor\":\"x\",\"domain\":[0.0,1.0],\"title\":{\"text\":\"value\"}},\"legend\":{\"title\":{\"text\":\"variable\"},\"tracegroupgap\":0},\"margin\":{\"t\":60},\"barmode\":\"relative\"},                        {\"responsive\": true}                    ).then(function(){\n",
       "                            \n",
       "var gd = document.getElementById('412b8c6c-d18e-4b6d-a5b7-0ee613864584');\n",
       "var x = new MutationObserver(function (mutations, observer) {{\n",
       "        var display = window.getComputedStyle(gd).display;\n",
       "        if (!display || display === 'none') {{\n",
       "            console.log([gd, 'removed!']);\n",
       "            Plotly.purge(gd);\n",
       "            observer.disconnect();\n",
       "        }}\n",
       "}});\n",
       "\n",
       "// Listen for the removal of the full notebook cells\n",
       "var notebookContainer = gd.closest('#notebook-container');\n",
       "if (notebookContainer) {{\n",
       "    x.observe(notebookContainer, {childList: true});\n",
       "}}\n",
       "\n",
       "// Listen for the clearing of the current output cell\n",
       "var outputEl = gd.closest('.output');\n",
       "if (outputEl) {{\n",
       "    x.observe(outputEl, {childList: true});\n",
       "}}\n",
       "\n",
       "                        })                };                });            </script>        </div>"
      ]
     },
     "metadata": {},
     "output_type": "display_data"
    }
   ],
   "source": [
    "px.bar(p1)"
   ]
  },
  {
   "cell_type": "code",
   "execution_count": 78,
   "id": "6673d739",
   "metadata": {
    "collapsed": true
   },
   "outputs": [
    {
     "data": {
      "text/plain": [
       "[('북한', 0.9979464411735535),\n",
       " ('청와대', 0.9977609515190125),\n",
       " ('대북', 0.9977527260780334),\n",
       " ('날', 0.9975321292877197),\n",
       " ('정부', 0.997515082359314),\n",
       " ('말', 0.9975114464759827),\n",
       " ('특사', 0.9974052309989929),\n",
       " ('안보', 0.9973689913749695),\n",
       " ('문제', 0.9972770810127258),\n",
       " ('도발', 0.9972353577613831)]"
      ]
     },
     "execution_count": 78,
     "metadata": {},
     "output_type": "execute_result"
    }
   ],
   "source": [
    "model_nlp.wv.most_similar('대통령')"
   ]
  },
  {
   "cell_type": "markdown",
   "id": "988f3dfe",
   "metadata": {},
   "source": [
    "### 3번"
   ]
  },
  {
   "cell_type": "markdown",
   "id": "35883840",
   "metadata": {},
   "source": [
    "3. '한국 경제' 신문사의 뉴스 기사 검색에서, '외교'에 해당하는 기사 20페이지를(약 180개) 수집하고, '경제'에 해당하는 기사 20페이지를 수집하여 아래와 같은 데이터 프레임을 구성하시오.\n",
    "- [https://search.hankyung.com/search/news?query=외교&page=1](https://search.hankyung.com/search/news?query=%EC%99%B8%EA%B5%90&page=1)"
   ]
  },
  {
   "cell_type": "code",
   "execution_count": 79,
   "id": "67abe632",
   "metadata": {},
   "outputs": [],
   "source": [
    "from selenium import webdriver\n",
    "from bs4 import BeautifulSoup\n",
    "import time"
   ]
  },
  {
   "cell_type": "code",
   "execution_count": 80,
   "id": "55e4b2f1",
   "metadata": {},
   "outputs": [],
   "source": [
    "driver = webdriver.Chrome()"
   ]
  },
  {
   "cell_type": "code",
   "execution_count": 81,
   "id": "a13ccc3b",
   "metadata": {},
   "outputs": [],
   "source": [
    "url='https://search.hankyung.com/search/news?query=외교&page=1'\n",
    "driver.get(url)"
   ]
  },
  {
   "cell_type": "code",
   "execution_count": 82,
   "id": "6bdf1dbc",
   "metadata": {},
   "outputs": [],
   "source": [
    "html1 = BeautifulSoup(driver.page_source)"
   ]
  },
  {
   "cell_type": "code",
   "execution_count": 86,
   "id": "ea50ef9c",
   "metadata": {
    "collapsed": true
   },
   "outputs": [
    {
     "data": {
      "text/plain": [
       "[\"나토, '트럼프 대비' 134조원 우크라 군사지원 패키지 추진\",\n",
       " '한·유엔사 국방장관회의 정례화 논의…회원국 초청행사',\n",
       " '조국당 김준형, 세 자녀 모두 미국 국적…金 \"자기결정 내린 것\"',\n",
       " '대통령실 \"사우디와 9.6조 역대최대 수주…정상외교 결실\"',\n",
       " '\"사우디서 잭팟 터졌다\"…삼성E&A·GS건설, 9.7조 공사 수주',\n",
       " '[속보] 대통령실 \"삼성·GS, 72억弗 사우디 수주…정상외교 결실\"',\n",
       " '\"분노\"·\"규탄\"…국제사회, 구호단체 오폭 이스라엘 맹비난',\n",
       " '[총선 D-7] 수도권 후보 선거공보물 뜯어보니…尹대통령·이재명 거리두기?',\n",
       " '한국환경산업기술원, 가나 사무소 개소…\"아프리카 진출 거점\"',\n",
       " '美中정상, 회담 4개월여만에 소통…대화 이어가며 전략경쟁 관리(종합)']"
      ]
     },
     "execution_count": 86,
     "metadata": {},
     "output_type": "execute_result"
    }
   ],
   "source": [
    "# 첫 번째 페이지만 수집했을 때\n",
    "[x.get_text() for x in html1.find_all('em', class_ = 'tit')]"
   ]
  },
  {
   "cell_type": "code",
   "execution_count": 87,
   "id": "b5d567ec",
   "metadata": {},
   "outputs": [],
   "source": [
    "driver.quit()"
   ]
  },
  {
   "cell_type": "code",
   "execution_count": 90,
   "id": "7a403183",
   "metadata": {},
   "outputs": [],
   "source": [
    "# 전체 데이터 수집\n",
    "driver = webdriver.Chrome()\n",
    "title_list = []\n",
    "url='https://search.hankyung.com/search/news?query=외교&page=1'\n",
    "driver.get(url)\n",
    "\n",
    "for i in range(2, 21):\n",
    "    try:\n",
    "        driver.implicitly_wait(10)\n",
    "        time.sleep(1)\n",
    "        html = BeautifulSoup(driver.page_source)\n",
    "        get_tit = [x.get_text() for x in html1.find_all('em', class_ ='tit')]\n",
    "        title_list = title_list + get_tit\n",
    "    except Exception as e :\n",
    "        print(e)\n",
    "    finally:\n",
    "        pass\n",
    "    \n",
    "    url_n = 'https://search.hankyung.com/search/news?query=외교&page='+str(i)\n",
    "    time.sleep(1)\n",
    "    driver.get(url_n)\n",
    "    \n",
    "driver.quit()"
   ]
  },
  {
   "cell_type": "code",
   "execution_count": 91,
   "id": "02eefc80",
   "metadata": {
    "collapsed": true
   },
   "outputs": [
    {
     "data": {
      "text/html": [
       "<div>\n",
       "<style scoped>\n",
       "    .dataframe tbody tr th:only-of-type {\n",
       "        vertical-align: middle;\n",
       "    }\n",
       "\n",
       "    .dataframe tbody tr th {\n",
       "        vertical-align: top;\n",
       "    }\n",
       "\n",
       "    .dataframe thead th {\n",
       "        text-align: right;\n",
       "    }\n",
       "</style>\n",
       "<table border=\"1\" class=\"dataframe\">\n",
       "  <thead>\n",
       "    <tr style=\"text-align: right;\">\n",
       "      <th></th>\n",
       "      <th>기사제목</th>\n",
       "      <th>분류</th>\n",
       "    </tr>\n",
       "  </thead>\n",
       "  <tbody>\n",
       "    <tr>\n",
       "      <th>0</th>\n",
       "      <td>나토, '트럼프 대비' 134조원 우크라 군사지원 패키지 추진</td>\n",
       "      <td>외교</td>\n",
       "    </tr>\n",
       "    <tr>\n",
       "      <th>1</th>\n",
       "      <td>한·유엔사 국방장관회의 정례화 논의…회원국 초청행사</td>\n",
       "      <td>외교</td>\n",
       "    </tr>\n",
       "    <tr>\n",
       "      <th>2</th>\n",
       "      <td>조국당 김준형, 세 자녀 모두 미국 국적…金 \"자기결정 내린 것\"</td>\n",
       "      <td>외교</td>\n",
       "    </tr>\n",
       "    <tr>\n",
       "      <th>3</th>\n",
       "      <td>대통령실 \"사우디와 9.6조 역대최대 수주…정상외교 결실\"</td>\n",
       "      <td>외교</td>\n",
       "    </tr>\n",
       "    <tr>\n",
       "      <th>4</th>\n",
       "      <td>\"사우디서 잭팟 터졌다\"…삼성E&amp;A·GS건설, 9.7조 공사 수주</td>\n",
       "      <td>외교</td>\n",
       "    </tr>\n",
       "    <tr>\n",
       "      <th>...</th>\n",
       "      <td>...</td>\n",
       "      <td>...</td>\n",
       "    </tr>\n",
       "    <tr>\n",
       "      <th>185</th>\n",
       "      <td>[속보] 대통령실 \"삼성·GS, 72억弗 사우디 수주…정상외교 결실\"</td>\n",
       "      <td>외교</td>\n",
       "    </tr>\n",
       "    <tr>\n",
       "      <th>186</th>\n",
       "      <td>\"분노\"·\"규탄\"…국제사회, 구호단체 오폭 이스라엘 맹비난</td>\n",
       "      <td>외교</td>\n",
       "    </tr>\n",
       "    <tr>\n",
       "      <th>187</th>\n",
       "      <td>[총선 D-7] 수도권 후보 선거공보물 뜯어보니…尹대통령·이재명 거리두기?</td>\n",
       "      <td>외교</td>\n",
       "    </tr>\n",
       "    <tr>\n",
       "      <th>188</th>\n",
       "      <td>한국환경산업기술원, 가나 사무소 개소…\"아프리카 진출 거점\"</td>\n",
       "      <td>외교</td>\n",
       "    </tr>\n",
       "    <tr>\n",
       "      <th>189</th>\n",
       "      <td>美中정상, 회담 4개월여만에 소통…대화 이어가며 전략경쟁 관리(종합)</td>\n",
       "      <td>외교</td>\n",
       "    </tr>\n",
       "  </tbody>\n",
       "</table>\n",
       "<p>190 rows × 2 columns</p>\n",
       "</div>"
      ],
      "text/plain": [
       "                                          기사제목  분류\n",
       "0           나토, '트럼프 대비' 134조원 우크라 군사지원 패키지 추진  외교\n",
       "1                 한·유엔사 국방장관회의 정례화 논의…회원국 초청행사  외교\n",
       "2         조국당 김준형, 세 자녀 모두 미국 국적…金 \"자기결정 내린 것\"  외교\n",
       "3             대통령실 \"사우디와 9.6조 역대최대 수주…정상외교 결실\"  외교\n",
       "4         \"사우디서 잭팟 터졌다\"…삼성E&A·GS건설, 9.7조 공사 수주  외교\n",
       "..                                         ...  ..\n",
       "185     [속보] 대통령실 \"삼성·GS, 72억弗 사우디 수주…정상외교 결실\"  외교\n",
       "186           \"분노\"·\"규탄\"…국제사회, 구호단체 오폭 이스라엘 맹비난  외교\n",
       "187  [총선 D-7] 수도권 후보 선거공보물 뜯어보니…尹대통령·이재명 거리두기?  외교\n",
       "188          한국환경산업기술원, 가나 사무소 개소…\"아프리카 진출 거점\"  외교\n",
       "189     美中정상, 회담 4개월여만에 소통…대화 이어가며 전략경쟁 관리(종합)  외교\n",
       "\n",
       "[190 rows x 2 columns]"
      ]
     },
     "execution_count": 91,
     "metadata": {},
     "output_type": "execute_result"
    }
   ],
   "source": [
    "df4 = pd.DataFrame(title_list, columns=['기사제목'])\n",
    "df4['분류'] = '외교'\n",
    "df4"
   ]
  },
  {
   "cell_type": "code",
   "execution_count": null,
   "id": "59824353",
   "metadata": {},
   "outputs": [],
   "source": [
    "url_n = 'https://search.hankyung.com/search/news?query=경제&page='+str(i)"
   ]
  },
  {
   "cell_type": "code",
   "execution_count": 92,
   "id": "653d5cd6",
   "metadata": {},
   "outputs": [],
   "source": [
    "# 전체 데이터 수집\n",
    "driver = webdriver.Chrome()\n",
    "title_list = []\n",
    "url='https://search.hankyung.com/search/news?query=경제&page=1'\n",
    "driver.get(url)\n",
    "\n",
    "for i in range(2, 21):\n",
    "    try:\n",
    "        driver.implicitly_wait(10)\n",
    "        time.sleep(1)\n",
    "        html = BeautifulSoup(driver.page_source)\n",
    "        get_tit = [x.get_text() for x in html1.find_all('em', class_ ='tit')]\n",
    "        title_list = title_list + get_tit\n",
    "    except Exception as e :\n",
    "        print(e)\n",
    "    finally:\n",
    "        pass\n",
    "    \n",
    "    url_n = 'https://search.hankyung.com/search/news?query=경제&page='+str(i)\n",
    "    time.sleep(1)\n",
    "    driver.get(url_n)\n",
    "    \n",
    "driver.quit()"
   ]
  },
  {
   "cell_type": "code",
   "execution_count": 94,
   "id": "0daf2182",
   "metadata": {
    "collapsed": true
   },
   "outputs": [
    {
     "data": {
      "text/html": [
       "<div>\n",
       "<style scoped>\n",
       "    .dataframe tbody tr th:only-of-type {\n",
       "        vertical-align: middle;\n",
       "    }\n",
       "\n",
       "    .dataframe tbody tr th {\n",
       "        vertical-align: top;\n",
       "    }\n",
       "\n",
       "    .dataframe thead th {\n",
       "        text-align: right;\n",
       "    }\n",
       "</style>\n",
       "<table border=\"1\" class=\"dataframe\">\n",
       "  <thead>\n",
       "    <tr style=\"text-align: right;\">\n",
       "      <th></th>\n",
       "      <th>기사제목</th>\n",
       "      <th>분류</th>\n",
       "    </tr>\n",
       "  </thead>\n",
       "  <tbody>\n",
       "    <tr>\n",
       "      <th>0</th>\n",
       "      <td>나토, '트럼프 대비' 134조원 우크라 군사지원 패키지 추진</td>\n",
       "      <td>금융</td>\n",
       "    </tr>\n",
       "    <tr>\n",
       "      <th>1</th>\n",
       "      <td>한·유엔사 국방장관회의 정례화 논의…회원국 초청행사</td>\n",
       "      <td>금융</td>\n",
       "    </tr>\n",
       "    <tr>\n",
       "      <th>2</th>\n",
       "      <td>조국당 김준형, 세 자녀 모두 미국 국적…金 \"자기결정 내린 것\"</td>\n",
       "      <td>금융</td>\n",
       "    </tr>\n",
       "    <tr>\n",
       "      <th>3</th>\n",
       "      <td>대통령실 \"사우디와 9.6조 역대최대 수주…정상외교 결실\"</td>\n",
       "      <td>금융</td>\n",
       "    </tr>\n",
       "    <tr>\n",
       "      <th>4</th>\n",
       "      <td>\"사우디서 잭팟 터졌다\"…삼성E&amp;A·GS건설, 9.7조 공사 수주</td>\n",
       "      <td>금융</td>\n",
       "    </tr>\n",
       "    <tr>\n",
       "      <th>...</th>\n",
       "      <td>...</td>\n",
       "      <td>...</td>\n",
       "    </tr>\n",
       "    <tr>\n",
       "      <th>185</th>\n",
       "      <td>[속보] 대통령실 \"삼성·GS, 72억弗 사우디 수주…정상외교 결실\"</td>\n",
       "      <td>금융</td>\n",
       "    </tr>\n",
       "    <tr>\n",
       "      <th>186</th>\n",
       "      <td>\"분노\"·\"규탄\"…국제사회, 구호단체 오폭 이스라엘 맹비난</td>\n",
       "      <td>금융</td>\n",
       "    </tr>\n",
       "    <tr>\n",
       "      <th>187</th>\n",
       "      <td>[총선 D-7] 수도권 후보 선거공보물 뜯어보니…尹대통령·이재명 거리두기?</td>\n",
       "      <td>금융</td>\n",
       "    </tr>\n",
       "    <tr>\n",
       "      <th>188</th>\n",
       "      <td>한국환경산업기술원, 가나 사무소 개소…\"아프리카 진출 거점\"</td>\n",
       "      <td>금융</td>\n",
       "    </tr>\n",
       "    <tr>\n",
       "      <th>189</th>\n",
       "      <td>美中정상, 회담 4개월여만에 소통…대화 이어가며 전략경쟁 관리(종합)</td>\n",
       "      <td>금융</td>\n",
       "    </tr>\n",
       "  </tbody>\n",
       "</table>\n",
       "<p>190 rows × 2 columns</p>\n",
       "</div>"
      ],
      "text/plain": [
       "                                          기사제목  분류\n",
       "0           나토, '트럼프 대비' 134조원 우크라 군사지원 패키지 추진  금융\n",
       "1                 한·유엔사 국방장관회의 정례화 논의…회원국 초청행사  금융\n",
       "2         조국당 김준형, 세 자녀 모두 미국 국적…金 \"자기결정 내린 것\"  금융\n",
       "3             대통령실 \"사우디와 9.6조 역대최대 수주…정상외교 결실\"  금융\n",
       "4         \"사우디서 잭팟 터졌다\"…삼성E&A·GS건설, 9.7조 공사 수주  금융\n",
       "..                                         ...  ..\n",
       "185     [속보] 대통령실 \"삼성·GS, 72억弗 사우디 수주…정상외교 결실\"  금융\n",
       "186           \"분노\"·\"규탄\"…국제사회, 구호단체 오폭 이스라엘 맹비난  금융\n",
       "187  [총선 D-7] 수도권 후보 선거공보물 뜯어보니…尹대통령·이재명 거리두기?  금융\n",
       "188          한국환경산업기술원, 가나 사무소 개소…\"아프리카 진출 거점\"  금융\n",
       "189     美中정상, 회담 4개월여만에 소통…대화 이어가며 전략경쟁 관리(종합)  금융\n",
       "\n",
       "[190 rows x 2 columns]"
      ]
     },
     "execution_count": 94,
     "metadata": {},
     "output_type": "execute_result"
    }
   ],
   "source": [
    "df5 = pd.DataFrame(title_list, columns=['기사제목'])\n",
    "df5['분류'] = '금융'\n",
    "df5"
   ]
  },
  {
   "cell_type": "code",
   "execution_count": 99,
   "id": "484e4d92",
   "metadata": {},
   "outputs": [],
   "source": [
    "df6 = pd.concat([df4, df5])\n",
    "df6.to_csv('35_Data.csv')"
   ]
  },
  {
   "cell_type": "markdown",
   "id": "d2c84c03",
   "metadata": {},
   "source": [
    "### 4번"
   ]
  },
  {
   "cell_type": "markdown",
   "id": "bfe88938",
   "metadata": {},
   "source": [
    "4. 추출된 기사 제목에 대해, 단어 표현 유사도 분석을 실시하여, '공습'과 연관성이 높은 단어들을 추출하시오. "
   ]
  },
  {
   "cell_type": "code",
   "execution_count": 102,
   "id": "2c4582f9",
   "metadata": {},
   "outputs": [],
   "source": [
    "# 불용어가 없는 데이터에 대해서만 가져오기 (이중 컴프리헨션 이용)\n",
    "sent1 = [[y for y in okt.nouns(x) if y not in stopword_list] for x in df6['기사제목'].tolist()]"
   ]
  },
  {
   "cell_type": "code",
   "execution_count": 104,
   "id": "118f1b6a",
   "metadata": {},
   "outputs": [],
   "source": [
    "model_nlp2 = Word2Vec(sent1,  vector_size=100, window=5, min_count=1, sg=1)"
   ]
  },
  {
   "cell_type": "code",
   "execution_count": 105,
   "id": "02a6aabb",
   "metadata": {
    "collapsed": true
   },
   "outputs": [
    {
     "ename": "KeyError",
     "evalue": "\"Key '공습' not present in vocabulary\"",
     "output_type": "error",
     "traceback": [
      "\u001b[0;31m---------------------------------------------------------------------------\u001b[0m",
      "\u001b[0;31mKeyError\u001b[0m                                  Traceback (most recent call last)",
      "Cell \u001b[0;32mIn[105], line 1\u001b[0m\n\u001b[0;32m----> 1\u001b[0m model_nlp2\u001b[38;5;241m.\u001b[39mwv\u001b[38;5;241m.\u001b[39mmost_similar(\u001b[38;5;124m'\u001b[39m\u001b[38;5;124m공습\u001b[39m\u001b[38;5;124m'\u001b[39m)\n",
      "File \u001b[0;32m~/anaconda3/lib/python3.11/site-packages/gensim/models/keyedvectors.py:841\u001b[0m, in \u001b[0;36mKeyedVectors.most_similar\u001b[0;34m(self, positive, negative, topn, clip_start, clip_end, restrict_vocab, indexer)\u001b[0m\n\u001b[1;32m    838\u001b[0m         weight[idx] \u001b[38;5;241m=\u001b[39m item[\u001b[38;5;241m1\u001b[39m]\n\u001b[1;32m    840\u001b[0m \u001b[38;5;66;03m# compute the weighted average of all keys\u001b[39;00m\n\u001b[0;32m--> 841\u001b[0m mean \u001b[38;5;241m=\u001b[39m \u001b[38;5;28mself\u001b[39m\u001b[38;5;241m.\u001b[39mget_mean_vector(keys, weight, pre_normalize\u001b[38;5;241m=\u001b[39m\u001b[38;5;28;01mTrue\u001b[39;00m, post_normalize\u001b[38;5;241m=\u001b[39m\u001b[38;5;28;01mTrue\u001b[39;00m, ignore_missing\u001b[38;5;241m=\u001b[39m\u001b[38;5;28;01mFalse\u001b[39;00m)\n\u001b[1;32m    842\u001b[0m all_keys \u001b[38;5;241m=\u001b[39m [\n\u001b[1;32m    843\u001b[0m     \u001b[38;5;28mself\u001b[39m\u001b[38;5;241m.\u001b[39mget_index(key) \u001b[38;5;28;01mfor\u001b[39;00m key \u001b[38;5;129;01min\u001b[39;00m keys \u001b[38;5;28;01mif\u001b[39;00m \u001b[38;5;28misinstance\u001b[39m(key, _KEY_TYPES) \u001b[38;5;129;01mand\u001b[39;00m \u001b[38;5;28mself\u001b[39m\u001b[38;5;241m.\u001b[39mhas_index_for(key)\n\u001b[1;32m    844\u001b[0m ]\n\u001b[1;32m    846\u001b[0m \u001b[38;5;28;01mif\u001b[39;00m indexer \u001b[38;5;129;01mis\u001b[39;00m \u001b[38;5;129;01mnot\u001b[39;00m \u001b[38;5;28;01mNone\u001b[39;00m \u001b[38;5;129;01mand\u001b[39;00m \u001b[38;5;28misinstance\u001b[39m(topn, \u001b[38;5;28mint\u001b[39m):\n",
      "File \u001b[0;32m~/anaconda3/lib/python3.11/site-packages/gensim/models/keyedvectors.py:518\u001b[0m, in \u001b[0;36mKeyedVectors.get_mean_vector\u001b[0;34m(self, keys, weights, pre_normalize, post_normalize, ignore_missing)\u001b[0m\n\u001b[1;32m    516\u001b[0m         total_weight \u001b[38;5;241m+\u001b[39m\u001b[38;5;241m=\u001b[39m \u001b[38;5;28mabs\u001b[39m(weights[idx])\n\u001b[1;32m    517\u001b[0m     \u001b[38;5;28;01melif\u001b[39;00m \u001b[38;5;129;01mnot\u001b[39;00m ignore_missing:\n\u001b[0;32m--> 518\u001b[0m         \u001b[38;5;28;01mraise\u001b[39;00m \u001b[38;5;167;01mKeyError\u001b[39;00m(\u001b[38;5;124mf\u001b[39m\u001b[38;5;124m\"\u001b[39m\u001b[38;5;124mKey \u001b[39m\u001b[38;5;124m'\u001b[39m\u001b[38;5;132;01m{\u001b[39;00mkey\u001b[38;5;132;01m}\u001b[39;00m\u001b[38;5;124m'\u001b[39m\u001b[38;5;124m not present in vocabulary\u001b[39m\u001b[38;5;124m\"\u001b[39m)\n\u001b[1;32m    520\u001b[0m \u001b[38;5;28;01mif\u001b[39;00m total_weight \u001b[38;5;241m>\u001b[39m \u001b[38;5;241m0\u001b[39m:\n\u001b[1;32m    521\u001b[0m     mean \u001b[38;5;241m=\u001b[39m mean \u001b[38;5;241m/\u001b[39m total_weight\n",
      "\u001b[0;31mKeyError\u001b[0m: \"Key '공습' not present in vocabulary\""
     ]
    }
   ],
   "source": [
    "model_nlp2.wv.most_similar('공습')"
   ]
  },
  {
   "cell_type": "markdown",
   "id": "b130647b",
   "metadata": {},
   "source": [
    "### 5번"
   ]
  },
  {
   "cell_type": "code",
   "execution_count": 137,
   "id": "9b8fec5e",
   "metadata": {},
   "outputs": [
    {
     "data": {
      "text/plain": [
       "Target\n",
       "1    190\n",
       "0    190\n",
       "Name: count, dtype: int64"
      ]
     },
     "execution_count": 137,
     "metadata": {},
     "output_type": "execute_result"
    }
   ],
   "source": [
    "df6['Target'] = df6['분류'].replace('외교',1).replace('금융',0)\n",
    "df6['Target'].value_counts()"
   ]
  },
  {
   "cell_type": "code",
   "execution_count": 138,
   "id": "aca723fa",
   "metadata": {},
   "outputs": [],
   "source": [
    "df6 = df6.dropna()"
   ]
  },
  {
   "cell_type": "code",
   "execution_count": 139,
   "id": "a8c77352",
   "metadata": {},
   "outputs": [],
   "source": [
    "Y = df6['Target']\n",
    "X = df6['기사제목']"
   ]
  },
  {
   "cell_type": "code",
   "execution_count": 140,
   "id": "201046ab",
   "metadata": {},
   "outputs": [],
   "source": [
    "from sklearn.model_selection import train_test_split"
   ]
  },
  {
   "cell_type": "code",
   "execution_count": 141,
   "id": "007ec0b3",
   "metadata": {},
   "outputs": [],
   "source": [
    "X_train, X_test, Y_train, Y_test = train_test_split(X,Y,test_size=0.3,\n",
    "                                                   random_state=1234)"
   ]
  },
  {
   "cell_type": "code",
   "execution_count": 142,
   "id": "a1f546b0",
   "metadata": {},
   "outputs": [],
   "source": [
    "from tensorflow.keras.preprocessing.text import Tokenizer\n",
    "from tensorflow.keras.preprocessing.sequence import pad_sequences"
   ]
  },
  {
   "cell_type": "code",
   "execution_count": 143,
   "id": "8e62cd20",
   "metadata": {},
   "outputs": [],
   "source": [
    "# 텍스트가 문장표현으로 처리되는 함수를 구성\n",
    "def text_preprocessing(X):\n",
    "    tokenizer = Tokenizer(num_words=100)\n",
    "    tokenizer.fit_on_texts(X)\n",
    "    seq1 = tokenizer.texts_to_sequences(X)\n",
    "    return pad_sequences(seq1, maxlen=20)"
   ]
  },
  {
   "cell_type": "code",
   "execution_count": 144,
   "id": "e00979aa",
   "metadata": {},
   "outputs": [
    {
     "data": {
      "text/plain": [
       "array([[ 0,  0,  0, ..., 34, 35, 36],\n",
       "       [ 0,  0,  0, ..., 42, 43, 44],\n",
       "       [ 0,  0,  0, ...,  8,  2,  3],\n",
       "       ...,\n",
       "       [ 0,  0,  0, ..., 71, 72, 73],\n",
       "       [ 0,  0,  0, ..., 19, 20, 21],\n",
       "       [ 0,  0,  0, ..., 47,  2,  3]], dtype=int32)"
      ]
     },
     "execution_count": 144,
     "metadata": {},
     "output_type": "execute_result"
    }
   ],
   "source": [
    "text_preprocessing(X_train)"
   ]
  },
  {
   "cell_type": "code",
   "execution_count": 145,
   "id": "b49c2fe7",
   "metadata": {},
   "outputs": [],
   "source": [
    "from sklearn.preprocessing import FunctionTransformer"
   ]
  },
  {
   "cell_type": "code",
   "execution_count": 146,
   "id": "87696cca",
   "metadata": {},
   "outputs": [
    {
     "data": {
      "text/html": [
       "<style>#sk-container-id-3 {\n",
       "  /* Definition of color scheme common for light and dark mode */\n",
       "  --sklearn-color-text: black;\n",
       "  --sklearn-color-line: gray;\n",
       "  /* Definition of color scheme for unfitted estimators */\n",
       "  --sklearn-color-unfitted-level-0: #fff5e6;\n",
       "  --sklearn-color-unfitted-level-1: #f6e4d2;\n",
       "  --sklearn-color-unfitted-level-2: #ffe0b3;\n",
       "  --sklearn-color-unfitted-level-3: chocolate;\n",
       "  /* Definition of color scheme for fitted estimators */\n",
       "  --sklearn-color-fitted-level-0: #f0f8ff;\n",
       "  --sklearn-color-fitted-level-1: #d4ebff;\n",
       "  --sklearn-color-fitted-level-2: #b3dbfd;\n",
       "  --sklearn-color-fitted-level-3: cornflowerblue;\n",
       "\n",
       "  /* Specific color for light theme */\n",
       "  --sklearn-color-text-on-default-background: var(--sg-text-color, var(--theme-code-foreground, var(--jp-content-font-color1, black)));\n",
       "  --sklearn-color-background: var(--sg-background-color, var(--theme-background, var(--jp-layout-color0, white)));\n",
       "  --sklearn-color-border-box: var(--sg-text-color, var(--theme-code-foreground, var(--jp-content-font-color1, black)));\n",
       "  --sklearn-color-icon: #696969;\n",
       "\n",
       "  @media (prefers-color-scheme: dark) {\n",
       "    /* Redefinition of color scheme for dark theme */\n",
       "    --sklearn-color-text-on-default-background: var(--sg-text-color, var(--theme-code-foreground, var(--jp-content-font-color1, white)));\n",
       "    --sklearn-color-background: var(--sg-background-color, var(--theme-background, var(--jp-layout-color0, #111)));\n",
       "    --sklearn-color-border-box: var(--sg-text-color, var(--theme-code-foreground, var(--jp-content-font-color1, white)));\n",
       "    --sklearn-color-icon: #878787;\n",
       "  }\n",
       "}\n",
       "\n",
       "#sk-container-id-3 {\n",
       "  color: var(--sklearn-color-text);\n",
       "}\n",
       "\n",
       "#sk-container-id-3 pre {\n",
       "  padding: 0;\n",
       "}\n",
       "\n",
       "#sk-container-id-3 input.sk-hidden--visually {\n",
       "  border: 0;\n",
       "  clip: rect(1px 1px 1px 1px);\n",
       "  clip: rect(1px, 1px, 1px, 1px);\n",
       "  height: 1px;\n",
       "  margin: -1px;\n",
       "  overflow: hidden;\n",
       "  padding: 0;\n",
       "  position: absolute;\n",
       "  width: 1px;\n",
       "}\n",
       "\n",
       "#sk-container-id-3 div.sk-dashed-wrapped {\n",
       "  border: 1px dashed var(--sklearn-color-line);\n",
       "  margin: 0 0.4em 0.5em 0.4em;\n",
       "  box-sizing: border-box;\n",
       "  padding-bottom: 0.4em;\n",
       "  background-color: var(--sklearn-color-background);\n",
       "}\n",
       "\n",
       "#sk-container-id-3 div.sk-container {\n",
       "  /* jupyter's `normalize.less` sets `[hidden] { display: none; }`\n",
       "     but bootstrap.min.css set `[hidden] { display: none !important; }`\n",
       "     so we also need the `!important` here to be able to override the\n",
       "     default hidden behavior on the sphinx rendered scikit-learn.org.\n",
       "     See: https://github.com/scikit-learn/scikit-learn/issues/21755 */\n",
       "  display: inline-block !important;\n",
       "  position: relative;\n",
       "}\n",
       "\n",
       "#sk-container-id-3 div.sk-text-repr-fallback {\n",
       "  display: none;\n",
       "}\n",
       "\n",
       "div.sk-parallel-item,\n",
       "div.sk-serial,\n",
       "div.sk-item {\n",
       "  /* draw centered vertical line to link estimators */\n",
       "  background-image: linear-gradient(var(--sklearn-color-text-on-default-background), var(--sklearn-color-text-on-default-background));\n",
       "  background-size: 2px 100%;\n",
       "  background-repeat: no-repeat;\n",
       "  background-position: center center;\n",
       "}\n",
       "\n",
       "/* Parallel-specific style estimator block */\n",
       "\n",
       "#sk-container-id-3 div.sk-parallel-item::after {\n",
       "  content: \"\";\n",
       "  width: 100%;\n",
       "  border-bottom: 2px solid var(--sklearn-color-text-on-default-background);\n",
       "  flex-grow: 1;\n",
       "}\n",
       "\n",
       "#sk-container-id-3 div.sk-parallel {\n",
       "  display: flex;\n",
       "  align-items: stretch;\n",
       "  justify-content: center;\n",
       "  background-color: var(--sklearn-color-background);\n",
       "  position: relative;\n",
       "}\n",
       "\n",
       "#sk-container-id-3 div.sk-parallel-item {\n",
       "  display: flex;\n",
       "  flex-direction: column;\n",
       "}\n",
       "\n",
       "#sk-container-id-3 div.sk-parallel-item:first-child::after {\n",
       "  align-self: flex-end;\n",
       "  width: 50%;\n",
       "}\n",
       "\n",
       "#sk-container-id-3 div.sk-parallel-item:last-child::after {\n",
       "  align-self: flex-start;\n",
       "  width: 50%;\n",
       "}\n",
       "\n",
       "#sk-container-id-3 div.sk-parallel-item:only-child::after {\n",
       "  width: 0;\n",
       "}\n",
       "\n",
       "/* Serial-specific style estimator block */\n",
       "\n",
       "#sk-container-id-3 div.sk-serial {\n",
       "  display: flex;\n",
       "  flex-direction: column;\n",
       "  align-items: center;\n",
       "  background-color: var(--sklearn-color-background);\n",
       "  padding-right: 1em;\n",
       "  padding-left: 1em;\n",
       "}\n",
       "\n",
       "\n",
       "/* Toggleable style: style used for estimator/Pipeline/ColumnTransformer box that is\n",
       "clickable and can be expanded/collapsed.\n",
       "- Pipeline and ColumnTransformer use this feature and define the default style\n",
       "- Estimators will overwrite some part of the style using the `sk-estimator` class\n",
       "*/\n",
       "\n",
       "/* Pipeline and ColumnTransformer style (default) */\n",
       "\n",
       "#sk-container-id-3 div.sk-toggleable {\n",
       "  /* Default theme specific background. It is overwritten whether we have a\n",
       "  specific estimator or a Pipeline/ColumnTransformer */\n",
       "  background-color: var(--sklearn-color-background);\n",
       "}\n",
       "\n",
       "/* Toggleable label */\n",
       "#sk-container-id-3 label.sk-toggleable__label {\n",
       "  cursor: pointer;\n",
       "  display: block;\n",
       "  width: 100%;\n",
       "  margin-bottom: 0;\n",
       "  padding: 0.5em;\n",
       "  box-sizing: border-box;\n",
       "  text-align: center;\n",
       "}\n",
       "\n",
       "#sk-container-id-3 label.sk-toggleable__label-arrow:before {\n",
       "  /* Arrow on the left of the label */\n",
       "  content: \"▸\";\n",
       "  float: left;\n",
       "  margin-right: 0.25em;\n",
       "  color: var(--sklearn-color-icon);\n",
       "}\n",
       "\n",
       "#sk-container-id-3 label.sk-toggleable__label-arrow:hover:before {\n",
       "  color: var(--sklearn-color-text);\n",
       "}\n",
       "\n",
       "/* Toggleable content - dropdown */\n",
       "\n",
       "#sk-container-id-3 div.sk-toggleable__content {\n",
       "  max-height: 0;\n",
       "  max-width: 0;\n",
       "  overflow: hidden;\n",
       "  text-align: left;\n",
       "  /* unfitted */\n",
       "  background-color: var(--sklearn-color-unfitted-level-0);\n",
       "}\n",
       "\n",
       "#sk-container-id-3 div.sk-toggleable__content.fitted {\n",
       "  /* fitted */\n",
       "  background-color: var(--sklearn-color-fitted-level-0);\n",
       "}\n",
       "\n",
       "#sk-container-id-3 div.sk-toggleable__content pre {\n",
       "  margin: 0.2em;\n",
       "  border-radius: 0.25em;\n",
       "  color: var(--sklearn-color-text);\n",
       "  /* unfitted */\n",
       "  background-color: var(--sklearn-color-unfitted-level-0);\n",
       "}\n",
       "\n",
       "#sk-container-id-3 div.sk-toggleable__content.fitted pre {\n",
       "  /* unfitted */\n",
       "  background-color: var(--sklearn-color-fitted-level-0);\n",
       "}\n",
       "\n",
       "#sk-container-id-3 input.sk-toggleable__control:checked~div.sk-toggleable__content {\n",
       "  /* Expand drop-down */\n",
       "  max-height: 200px;\n",
       "  max-width: 100%;\n",
       "  overflow: auto;\n",
       "}\n",
       "\n",
       "#sk-container-id-3 input.sk-toggleable__control:checked~label.sk-toggleable__label-arrow:before {\n",
       "  content: \"▾\";\n",
       "}\n",
       "\n",
       "/* Pipeline/ColumnTransformer-specific style */\n",
       "\n",
       "#sk-container-id-3 div.sk-label input.sk-toggleable__control:checked~label.sk-toggleable__label {\n",
       "  color: var(--sklearn-color-text);\n",
       "  background-color: var(--sklearn-color-unfitted-level-2);\n",
       "}\n",
       "\n",
       "#sk-container-id-3 div.sk-label.fitted input.sk-toggleable__control:checked~label.sk-toggleable__label {\n",
       "  background-color: var(--sklearn-color-fitted-level-2);\n",
       "}\n",
       "\n",
       "/* Estimator-specific style */\n",
       "\n",
       "/* Colorize estimator box */\n",
       "#sk-container-id-3 div.sk-estimator input.sk-toggleable__control:checked~label.sk-toggleable__label {\n",
       "  /* unfitted */\n",
       "  background-color: var(--sklearn-color-unfitted-level-2);\n",
       "}\n",
       "\n",
       "#sk-container-id-3 div.sk-estimator.fitted input.sk-toggleable__control:checked~label.sk-toggleable__label {\n",
       "  /* fitted */\n",
       "  background-color: var(--sklearn-color-fitted-level-2);\n",
       "}\n",
       "\n",
       "#sk-container-id-3 div.sk-label label.sk-toggleable__label,\n",
       "#sk-container-id-3 div.sk-label label {\n",
       "  /* The background is the default theme color */\n",
       "  color: var(--sklearn-color-text-on-default-background);\n",
       "}\n",
       "\n",
       "/* On hover, darken the color of the background */\n",
       "#sk-container-id-3 div.sk-label:hover label.sk-toggleable__label {\n",
       "  color: var(--sklearn-color-text);\n",
       "  background-color: var(--sklearn-color-unfitted-level-2);\n",
       "}\n",
       "\n",
       "/* Label box, darken color on hover, fitted */\n",
       "#sk-container-id-3 div.sk-label.fitted:hover label.sk-toggleable__label.fitted {\n",
       "  color: var(--sklearn-color-text);\n",
       "  background-color: var(--sklearn-color-fitted-level-2);\n",
       "}\n",
       "\n",
       "/* Estimator label */\n",
       "\n",
       "#sk-container-id-3 div.sk-label label {\n",
       "  font-family: monospace;\n",
       "  font-weight: bold;\n",
       "  display: inline-block;\n",
       "  line-height: 1.2em;\n",
       "}\n",
       "\n",
       "#sk-container-id-3 div.sk-label-container {\n",
       "  text-align: center;\n",
       "}\n",
       "\n",
       "/* Estimator-specific */\n",
       "#sk-container-id-3 div.sk-estimator {\n",
       "  font-family: monospace;\n",
       "  border: 1px dotted var(--sklearn-color-border-box);\n",
       "  border-radius: 0.25em;\n",
       "  box-sizing: border-box;\n",
       "  margin-bottom: 0.5em;\n",
       "  /* unfitted */\n",
       "  background-color: var(--sklearn-color-unfitted-level-0);\n",
       "}\n",
       "\n",
       "#sk-container-id-3 div.sk-estimator.fitted {\n",
       "  /* fitted */\n",
       "  background-color: var(--sklearn-color-fitted-level-0);\n",
       "}\n",
       "\n",
       "/* on hover */\n",
       "#sk-container-id-3 div.sk-estimator:hover {\n",
       "  /* unfitted */\n",
       "  background-color: var(--sklearn-color-unfitted-level-2);\n",
       "}\n",
       "\n",
       "#sk-container-id-3 div.sk-estimator.fitted:hover {\n",
       "  /* fitted */\n",
       "  background-color: var(--sklearn-color-fitted-level-2);\n",
       "}\n",
       "\n",
       "/* Specification for estimator info (e.g. \"i\" and \"?\") */\n",
       "\n",
       "/* Common style for \"i\" and \"?\" */\n",
       "\n",
       ".sk-estimator-doc-link,\n",
       "a:link.sk-estimator-doc-link,\n",
       "a:visited.sk-estimator-doc-link {\n",
       "  float: right;\n",
       "  font-size: smaller;\n",
       "  line-height: 1em;\n",
       "  font-family: monospace;\n",
       "  background-color: var(--sklearn-color-background);\n",
       "  border-radius: 1em;\n",
       "  height: 1em;\n",
       "  width: 1em;\n",
       "  text-decoration: none !important;\n",
       "  margin-left: 1ex;\n",
       "  /* unfitted */\n",
       "  border: var(--sklearn-color-unfitted-level-1) 1pt solid;\n",
       "  color: var(--sklearn-color-unfitted-level-1);\n",
       "}\n",
       "\n",
       ".sk-estimator-doc-link.fitted,\n",
       "a:link.sk-estimator-doc-link.fitted,\n",
       "a:visited.sk-estimator-doc-link.fitted {\n",
       "  /* fitted */\n",
       "  border: var(--sklearn-color-fitted-level-1) 1pt solid;\n",
       "  color: var(--sklearn-color-fitted-level-1);\n",
       "}\n",
       "\n",
       "/* On hover */\n",
       "div.sk-estimator:hover .sk-estimator-doc-link:hover,\n",
       ".sk-estimator-doc-link:hover,\n",
       "div.sk-label-container:hover .sk-estimator-doc-link:hover,\n",
       ".sk-estimator-doc-link:hover {\n",
       "  /* unfitted */\n",
       "  background-color: var(--sklearn-color-unfitted-level-3);\n",
       "  color: var(--sklearn-color-background);\n",
       "  text-decoration: none;\n",
       "}\n",
       "\n",
       "div.sk-estimator.fitted:hover .sk-estimator-doc-link.fitted:hover,\n",
       ".sk-estimator-doc-link.fitted:hover,\n",
       "div.sk-label-container:hover .sk-estimator-doc-link.fitted:hover,\n",
       ".sk-estimator-doc-link.fitted:hover {\n",
       "  /* fitted */\n",
       "  background-color: var(--sklearn-color-fitted-level-3);\n",
       "  color: var(--sklearn-color-background);\n",
       "  text-decoration: none;\n",
       "}\n",
       "\n",
       "/* Span, style for the box shown on hovering the info icon */\n",
       ".sk-estimator-doc-link span {\n",
       "  display: none;\n",
       "  z-index: 9999;\n",
       "  position: relative;\n",
       "  font-weight: normal;\n",
       "  right: .2ex;\n",
       "  padding: .5ex;\n",
       "  margin: .5ex;\n",
       "  width: min-content;\n",
       "  min-width: 20ex;\n",
       "  max-width: 50ex;\n",
       "  color: var(--sklearn-color-text);\n",
       "  box-shadow: 2pt 2pt 4pt #999;\n",
       "  /* unfitted */\n",
       "  background: var(--sklearn-color-unfitted-level-0);\n",
       "  border: .5pt solid var(--sklearn-color-unfitted-level-3);\n",
       "}\n",
       "\n",
       ".sk-estimator-doc-link.fitted span {\n",
       "  /* fitted */\n",
       "  background: var(--sklearn-color-fitted-level-0);\n",
       "  border: var(--sklearn-color-fitted-level-3);\n",
       "}\n",
       "\n",
       ".sk-estimator-doc-link:hover span {\n",
       "  display: block;\n",
       "}\n",
       "\n",
       "/* \"?\"-specific style due to the `<a>` HTML tag */\n",
       "\n",
       "#sk-container-id-3 a.estimator_doc_link {\n",
       "  float: right;\n",
       "  font-size: 1rem;\n",
       "  line-height: 1em;\n",
       "  font-family: monospace;\n",
       "  background-color: var(--sklearn-color-background);\n",
       "  border-radius: 1rem;\n",
       "  height: 1rem;\n",
       "  width: 1rem;\n",
       "  text-decoration: none;\n",
       "  /* unfitted */\n",
       "  color: var(--sklearn-color-unfitted-level-1);\n",
       "  border: var(--sklearn-color-unfitted-level-1) 1pt solid;\n",
       "}\n",
       "\n",
       "#sk-container-id-3 a.estimator_doc_link.fitted {\n",
       "  /* fitted */\n",
       "  border: var(--sklearn-color-fitted-level-1) 1pt solid;\n",
       "  color: var(--sklearn-color-fitted-level-1);\n",
       "}\n",
       "\n",
       "/* On hover */\n",
       "#sk-container-id-3 a.estimator_doc_link:hover {\n",
       "  /* unfitted */\n",
       "  background-color: var(--sklearn-color-unfitted-level-3);\n",
       "  color: var(--sklearn-color-background);\n",
       "  text-decoration: none;\n",
       "}\n",
       "\n",
       "#sk-container-id-3 a.estimator_doc_link.fitted:hover {\n",
       "  /* fitted */\n",
       "  background-color: var(--sklearn-color-fitted-level-3);\n",
       "}\n",
       "</style><div id=\"sk-container-id-3\" class=\"sk-top-container\"><div class=\"sk-text-repr-fallback\"><pre>FunctionTransformer(func=&lt;function text_preprocessing at 0x2c71e8400&gt;)</pre><b>In a Jupyter environment, please rerun this cell to show the HTML representation or trust the notebook. <br />On GitHub, the HTML representation is unable to render, please try loading this page with nbviewer.org.</b></div><div class=\"sk-container\" hidden><div class=\"sk-item\"><div class=\"sk-estimator fitted sk-toggleable\"><input class=\"sk-toggleable__control sk-hidden--visually\" id=\"sk-estimator-id-3\" type=\"checkbox\" checked><label for=\"sk-estimator-id-3\" class=\"sk-toggleable__label fitted sk-toggleable__label-arrow fitted\">&nbsp;&nbsp;FunctionTransformer<a class=\"sk-estimator-doc-link fitted\" rel=\"noreferrer\" target=\"_blank\" href=\"https://scikit-learn.org/1.4/modules/generated/sklearn.preprocessing.FunctionTransformer.html\">?<span>Documentation for FunctionTransformer</span></a><span class=\"sk-estimator-doc-link fitted\">i<span>Fitted</span></span></label><div class=\"sk-toggleable__content fitted\"><pre>FunctionTransformer(func=&lt;function text_preprocessing at 0x2c71e8400&gt;)</pre></div> </div></div></div></div>"
      ],
      "text/plain": [
       "FunctionTransformer(func=<function text_preprocessing at 0x2c71e8400>)"
      ]
     },
     "execution_count": 146,
     "metadata": {},
     "output_type": "execute_result"
    }
   ],
   "source": [
    "text_token = FunctionTransformer(text_preprocessing)\n",
    "text_token"
   ]
  },
  {
   "cell_type": "code",
   "execution_count": 147,
   "id": "dab79258",
   "metadata": {},
   "outputs": [],
   "source": [
    "from sklearn.pipeline import make_pipeline\n",
    "from sklearn.preprocessing import RobustScaler\n",
    "from sklearn.ensemble import RandomForestClassifier\n",
    "from sklearn.svm import SVC\n",
    "from sklearn.model_selection import GridSearchCV"
   ]
  },
  {
   "cell_type": "code",
   "execution_count": 148,
   "id": "35e6dfb7",
   "metadata": {
    "collapsed": true
   },
   "outputs": [
    {
     "data": {
      "text/html": [
       "<style>#sk-container-id-4 {\n",
       "  /* Definition of color scheme common for light and dark mode */\n",
       "  --sklearn-color-text: black;\n",
       "  --sklearn-color-line: gray;\n",
       "  /* Definition of color scheme for unfitted estimators */\n",
       "  --sklearn-color-unfitted-level-0: #fff5e6;\n",
       "  --sklearn-color-unfitted-level-1: #f6e4d2;\n",
       "  --sklearn-color-unfitted-level-2: #ffe0b3;\n",
       "  --sklearn-color-unfitted-level-3: chocolate;\n",
       "  /* Definition of color scheme for fitted estimators */\n",
       "  --sklearn-color-fitted-level-0: #f0f8ff;\n",
       "  --sklearn-color-fitted-level-1: #d4ebff;\n",
       "  --sklearn-color-fitted-level-2: #b3dbfd;\n",
       "  --sklearn-color-fitted-level-3: cornflowerblue;\n",
       "\n",
       "  /* Specific color for light theme */\n",
       "  --sklearn-color-text-on-default-background: var(--sg-text-color, var(--theme-code-foreground, var(--jp-content-font-color1, black)));\n",
       "  --sklearn-color-background: var(--sg-background-color, var(--theme-background, var(--jp-layout-color0, white)));\n",
       "  --sklearn-color-border-box: var(--sg-text-color, var(--theme-code-foreground, var(--jp-content-font-color1, black)));\n",
       "  --sklearn-color-icon: #696969;\n",
       "\n",
       "  @media (prefers-color-scheme: dark) {\n",
       "    /* Redefinition of color scheme for dark theme */\n",
       "    --sklearn-color-text-on-default-background: var(--sg-text-color, var(--theme-code-foreground, var(--jp-content-font-color1, white)));\n",
       "    --sklearn-color-background: var(--sg-background-color, var(--theme-background, var(--jp-layout-color0, #111)));\n",
       "    --sklearn-color-border-box: var(--sg-text-color, var(--theme-code-foreground, var(--jp-content-font-color1, white)));\n",
       "    --sklearn-color-icon: #878787;\n",
       "  }\n",
       "}\n",
       "\n",
       "#sk-container-id-4 {\n",
       "  color: var(--sklearn-color-text);\n",
       "}\n",
       "\n",
       "#sk-container-id-4 pre {\n",
       "  padding: 0;\n",
       "}\n",
       "\n",
       "#sk-container-id-4 input.sk-hidden--visually {\n",
       "  border: 0;\n",
       "  clip: rect(1px 1px 1px 1px);\n",
       "  clip: rect(1px, 1px, 1px, 1px);\n",
       "  height: 1px;\n",
       "  margin: -1px;\n",
       "  overflow: hidden;\n",
       "  padding: 0;\n",
       "  position: absolute;\n",
       "  width: 1px;\n",
       "}\n",
       "\n",
       "#sk-container-id-4 div.sk-dashed-wrapped {\n",
       "  border: 1px dashed var(--sklearn-color-line);\n",
       "  margin: 0 0.4em 0.5em 0.4em;\n",
       "  box-sizing: border-box;\n",
       "  padding-bottom: 0.4em;\n",
       "  background-color: var(--sklearn-color-background);\n",
       "}\n",
       "\n",
       "#sk-container-id-4 div.sk-container {\n",
       "  /* jupyter's `normalize.less` sets `[hidden] { display: none; }`\n",
       "     but bootstrap.min.css set `[hidden] { display: none !important; }`\n",
       "     so we also need the `!important` here to be able to override the\n",
       "     default hidden behavior on the sphinx rendered scikit-learn.org.\n",
       "     See: https://github.com/scikit-learn/scikit-learn/issues/21755 */\n",
       "  display: inline-block !important;\n",
       "  position: relative;\n",
       "}\n",
       "\n",
       "#sk-container-id-4 div.sk-text-repr-fallback {\n",
       "  display: none;\n",
       "}\n",
       "\n",
       "div.sk-parallel-item,\n",
       "div.sk-serial,\n",
       "div.sk-item {\n",
       "  /* draw centered vertical line to link estimators */\n",
       "  background-image: linear-gradient(var(--sklearn-color-text-on-default-background), var(--sklearn-color-text-on-default-background));\n",
       "  background-size: 2px 100%;\n",
       "  background-repeat: no-repeat;\n",
       "  background-position: center center;\n",
       "}\n",
       "\n",
       "/* Parallel-specific style estimator block */\n",
       "\n",
       "#sk-container-id-4 div.sk-parallel-item::after {\n",
       "  content: \"\";\n",
       "  width: 100%;\n",
       "  border-bottom: 2px solid var(--sklearn-color-text-on-default-background);\n",
       "  flex-grow: 1;\n",
       "}\n",
       "\n",
       "#sk-container-id-4 div.sk-parallel {\n",
       "  display: flex;\n",
       "  align-items: stretch;\n",
       "  justify-content: center;\n",
       "  background-color: var(--sklearn-color-background);\n",
       "  position: relative;\n",
       "}\n",
       "\n",
       "#sk-container-id-4 div.sk-parallel-item {\n",
       "  display: flex;\n",
       "  flex-direction: column;\n",
       "}\n",
       "\n",
       "#sk-container-id-4 div.sk-parallel-item:first-child::after {\n",
       "  align-self: flex-end;\n",
       "  width: 50%;\n",
       "}\n",
       "\n",
       "#sk-container-id-4 div.sk-parallel-item:last-child::after {\n",
       "  align-self: flex-start;\n",
       "  width: 50%;\n",
       "}\n",
       "\n",
       "#sk-container-id-4 div.sk-parallel-item:only-child::after {\n",
       "  width: 0;\n",
       "}\n",
       "\n",
       "/* Serial-specific style estimator block */\n",
       "\n",
       "#sk-container-id-4 div.sk-serial {\n",
       "  display: flex;\n",
       "  flex-direction: column;\n",
       "  align-items: center;\n",
       "  background-color: var(--sklearn-color-background);\n",
       "  padding-right: 1em;\n",
       "  padding-left: 1em;\n",
       "}\n",
       "\n",
       "\n",
       "/* Toggleable style: style used for estimator/Pipeline/ColumnTransformer box that is\n",
       "clickable and can be expanded/collapsed.\n",
       "- Pipeline and ColumnTransformer use this feature and define the default style\n",
       "- Estimators will overwrite some part of the style using the `sk-estimator` class\n",
       "*/\n",
       "\n",
       "/* Pipeline and ColumnTransformer style (default) */\n",
       "\n",
       "#sk-container-id-4 div.sk-toggleable {\n",
       "  /* Default theme specific background. It is overwritten whether we have a\n",
       "  specific estimator or a Pipeline/ColumnTransformer */\n",
       "  background-color: var(--sklearn-color-background);\n",
       "}\n",
       "\n",
       "/* Toggleable label */\n",
       "#sk-container-id-4 label.sk-toggleable__label {\n",
       "  cursor: pointer;\n",
       "  display: block;\n",
       "  width: 100%;\n",
       "  margin-bottom: 0;\n",
       "  padding: 0.5em;\n",
       "  box-sizing: border-box;\n",
       "  text-align: center;\n",
       "}\n",
       "\n",
       "#sk-container-id-4 label.sk-toggleable__label-arrow:before {\n",
       "  /* Arrow on the left of the label */\n",
       "  content: \"▸\";\n",
       "  float: left;\n",
       "  margin-right: 0.25em;\n",
       "  color: var(--sklearn-color-icon);\n",
       "}\n",
       "\n",
       "#sk-container-id-4 label.sk-toggleable__label-arrow:hover:before {\n",
       "  color: var(--sklearn-color-text);\n",
       "}\n",
       "\n",
       "/* Toggleable content - dropdown */\n",
       "\n",
       "#sk-container-id-4 div.sk-toggleable__content {\n",
       "  max-height: 0;\n",
       "  max-width: 0;\n",
       "  overflow: hidden;\n",
       "  text-align: left;\n",
       "  /* unfitted */\n",
       "  background-color: var(--sklearn-color-unfitted-level-0);\n",
       "}\n",
       "\n",
       "#sk-container-id-4 div.sk-toggleable__content.fitted {\n",
       "  /* fitted */\n",
       "  background-color: var(--sklearn-color-fitted-level-0);\n",
       "}\n",
       "\n",
       "#sk-container-id-4 div.sk-toggleable__content pre {\n",
       "  margin: 0.2em;\n",
       "  border-radius: 0.25em;\n",
       "  color: var(--sklearn-color-text);\n",
       "  /* unfitted */\n",
       "  background-color: var(--sklearn-color-unfitted-level-0);\n",
       "}\n",
       "\n",
       "#sk-container-id-4 div.sk-toggleable__content.fitted pre {\n",
       "  /* unfitted */\n",
       "  background-color: var(--sklearn-color-fitted-level-0);\n",
       "}\n",
       "\n",
       "#sk-container-id-4 input.sk-toggleable__control:checked~div.sk-toggleable__content {\n",
       "  /* Expand drop-down */\n",
       "  max-height: 200px;\n",
       "  max-width: 100%;\n",
       "  overflow: auto;\n",
       "}\n",
       "\n",
       "#sk-container-id-4 input.sk-toggleable__control:checked~label.sk-toggleable__label-arrow:before {\n",
       "  content: \"▾\";\n",
       "}\n",
       "\n",
       "/* Pipeline/ColumnTransformer-specific style */\n",
       "\n",
       "#sk-container-id-4 div.sk-label input.sk-toggleable__control:checked~label.sk-toggleable__label {\n",
       "  color: var(--sklearn-color-text);\n",
       "  background-color: var(--sklearn-color-unfitted-level-2);\n",
       "}\n",
       "\n",
       "#sk-container-id-4 div.sk-label.fitted input.sk-toggleable__control:checked~label.sk-toggleable__label {\n",
       "  background-color: var(--sklearn-color-fitted-level-2);\n",
       "}\n",
       "\n",
       "/* Estimator-specific style */\n",
       "\n",
       "/* Colorize estimator box */\n",
       "#sk-container-id-4 div.sk-estimator input.sk-toggleable__control:checked~label.sk-toggleable__label {\n",
       "  /* unfitted */\n",
       "  background-color: var(--sklearn-color-unfitted-level-2);\n",
       "}\n",
       "\n",
       "#sk-container-id-4 div.sk-estimator.fitted input.sk-toggleable__control:checked~label.sk-toggleable__label {\n",
       "  /* fitted */\n",
       "  background-color: var(--sklearn-color-fitted-level-2);\n",
       "}\n",
       "\n",
       "#sk-container-id-4 div.sk-label label.sk-toggleable__label,\n",
       "#sk-container-id-4 div.sk-label label {\n",
       "  /* The background is the default theme color */\n",
       "  color: var(--sklearn-color-text-on-default-background);\n",
       "}\n",
       "\n",
       "/* On hover, darken the color of the background */\n",
       "#sk-container-id-4 div.sk-label:hover label.sk-toggleable__label {\n",
       "  color: var(--sklearn-color-text);\n",
       "  background-color: var(--sklearn-color-unfitted-level-2);\n",
       "}\n",
       "\n",
       "/* Label box, darken color on hover, fitted */\n",
       "#sk-container-id-4 div.sk-label.fitted:hover label.sk-toggleable__label.fitted {\n",
       "  color: var(--sklearn-color-text);\n",
       "  background-color: var(--sklearn-color-fitted-level-2);\n",
       "}\n",
       "\n",
       "/* Estimator label */\n",
       "\n",
       "#sk-container-id-4 div.sk-label label {\n",
       "  font-family: monospace;\n",
       "  font-weight: bold;\n",
       "  display: inline-block;\n",
       "  line-height: 1.2em;\n",
       "}\n",
       "\n",
       "#sk-container-id-4 div.sk-label-container {\n",
       "  text-align: center;\n",
       "}\n",
       "\n",
       "/* Estimator-specific */\n",
       "#sk-container-id-4 div.sk-estimator {\n",
       "  font-family: monospace;\n",
       "  border: 1px dotted var(--sklearn-color-border-box);\n",
       "  border-radius: 0.25em;\n",
       "  box-sizing: border-box;\n",
       "  margin-bottom: 0.5em;\n",
       "  /* unfitted */\n",
       "  background-color: var(--sklearn-color-unfitted-level-0);\n",
       "}\n",
       "\n",
       "#sk-container-id-4 div.sk-estimator.fitted {\n",
       "  /* fitted */\n",
       "  background-color: var(--sklearn-color-fitted-level-0);\n",
       "}\n",
       "\n",
       "/* on hover */\n",
       "#sk-container-id-4 div.sk-estimator:hover {\n",
       "  /* unfitted */\n",
       "  background-color: var(--sklearn-color-unfitted-level-2);\n",
       "}\n",
       "\n",
       "#sk-container-id-4 div.sk-estimator.fitted:hover {\n",
       "  /* fitted */\n",
       "  background-color: var(--sklearn-color-fitted-level-2);\n",
       "}\n",
       "\n",
       "/* Specification for estimator info (e.g. \"i\" and \"?\") */\n",
       "\n",
       "/* Common style for \"i\" and \"?\" */\n",
       "\n",
       ".sk-estimator-doc-link,\n",
       "a:link.sk-estimator-doc-link,\n",
       "a:visited.sk-estimator-doc-link {\n",
       "  float: right;\n",
       "  font-size: smaller;\n",
       "  line-height: 1em;\n",
       "  font-family: monospace;\n",
       "  background-color: var(--sklearn-color-background);\n",
       "  border-radius: 1em;\n",
       "  height: 1em;\n",
       "  width: 1em;\n",
       "  text-decoration: none !important;\n",
       "  margin-left: 1ex;\n",
       "  /* unfitted */\n",
       "  border: var(--sklearn-color-unfitted-level-1) 1pt solid;\n",
       "  color: var(--sklearn-color-unfitted-level-1);\n",
       "}\n",
       "\n",
       ".sk-estimator-doc-link.fitted,\n",
       "a:link.sk-estimator-doc-link.fitted,\n",
       "a:visited.sk-estimator-doc-link.fitted {\n",
       "  /* fitted */\n",
       "  border: var(--sklearn-color-fitted-level-1) 1pt solid;\n",
       "  color: var(--sklearn-color-fitted-level-1);\n",
       "}\n",
       "\n",
       "/* On hover */\n",
       "div.sk-estimator:hover .sk-estimator-doc-link:hover,\n",
       ".sk-estimator-doc-link:hover,\n",
       "div.sk-label-container:hover .sk-estimator-doc-link:hover,\n",
       ".sk-estimator-doc-link:hover {\n",
       "  /* unfitted */\n",
       "  background-color: var(--sklearn-color-unfitted-level-3);\n",
       "  color: var(--sklearn-color-background);\n",
       "  text-decoration: none;\n",
       "}\n",
       "\n",
       "div.sk-estimator.fitted:hover .sk-estimator-doc-link.fitted:hover,\n",
       ".sk-estimator-doc-link.fitted:hover,\n",
       "div.sk-label-container:hover .sk-estimator-doc-link.fitted:hover,\n",
       ".sk-estimator-doc-link.fitted:hover {\n",
       "  /* fitted */\n",
       "  background-color: var(--sklearn-color-fitted-level-3);\n",
       "  color: var(--sklearn-color-background);\n",
       "  text-decoration: none;\n",
       "}\n",
       "\n",
       "/* Span, style for the box shown on hovering the info icon */\n",
       ".sk-estimator-doc-link span {\n",
       "  display: none;\n",
       "  z-index: 9999;\n",
       "  position: relative;\n",
       "  font-weight: normal;\n",
       "  right: .2ex;\n",
       "  padding: .5ex;\n",
       "  margin: .5ex;\n",
       "  width: min-content;\n",
       "  min-width: 20ex;\n",
       "  max-width: 50ex;\n",
       "  color: var(--sklearn-color-text);\n",
       "  box-shadow: 2pt 2pt 4pt #999;\n",
       "  /* unfitted */\n",
       "  background: var(--sklearn-color-unfitted-level-0);\n",
       "  border: .5pt solid var(--sklearn-color-unfitted-level-3);\n",
       "}\n",
       "\n",
       ".sk-estimator-doc-link.fitted span {\n",
       "  /* fitted */\n",
       "  background: var(--sklearn-color-fitted-level-0);\n",
       "  border: var(--sklearn-color-fitted-level-3);\n",
       "}\n",
       "\n",
       ".sk-estimator-doc-link:hover span {\n",
       "  display: block;\n",
       "}\n",
       "\n",
       "/* \"?\"-specific style due to the `<a>` HTML tag */\n",
       "\n",
       "#sk-container-id-4 a.estimator_doc_link {\n",
       "  float: right;\n",
       "  font-size: 1rem;\n",
       "  line-height: 1em;\n",
       "  font-family: monospace;\n",
       "  background-color: var(--sklearn-color-background);\n",
       "  border-radius: 1rem;\n",
       "  height: 1rem;\n",
       "  width: 1rem;\n",
       "  text-decoration: none;\n",
       "  /* unfitted */\n",
       "  color: var(--sklearn-color-unfitted-level-1);\n",
       "  border: var(--sklearn-color-unfitted-level-1) 1pt solid;\n",
       "}\n",
       "\n",
       "#sk-container-id-4 a.estimator_doc_link.fitted {\n",
       "  /* fitted */\n",
       "  border: var(--sklearn-color-fitted-level-1) 1pt solid;\n",
       "  color: var(--sklearn-color-fitted-level-1);\n",
       "}\n",
       "\n",
       "/* On hover */\n",
       "#sk-container-id-4 a.estimator_doc_link:hover {\n",
       "  /* unfitted */\n",
       "  background-color: var(--sklearn-color-unfitted-level-3);\n",
       "  color: var(--sklearn-color-background);\n",
       "  text-decoration: none;\n",
       "}\n",
       "\n",
       "#sk-container-id-4 a.estimator_doc_link.fitted:hover {\n",
       "  /* fitted */\n",
       "  background-color: var(--sklearn-color-fitted-level-3);\n",
       "}\n",
       "</style><div id=\"sk-container-id-4\" class=\"sk-top-container\"><div class=\"sk-text-repr-fallback\"><pre>Pipeline(steps=[(&#x27;functiontransformer&#x27;,\n",
       "                 FunctionTransformer(func=&lt;function text_preprocessing at 0x2c71e8400&gt;)),\n",
       "                (&#x27;robustscaler&#x27;, RobustScaler()),\n",
       "                (&#x27;randomforestclassifier&#x27;, RandomForestClassifier())])</pre><b>In a Jupyter environment, please rerun this cell to show the HTML representation or trust the notebook. <br />On GitHub, the HTML representation is unable to render, please try loading this page with nbviewer.org.</b></div><div class=\"sk-container\" hidden><div class=\"sk-item sk-dashed-wrapped\"><div class=\"sk-label-container\"><div class=\"sk-label fitted sk-toggleable\"><input class=\"sk-toggleable__control sk-hidden--visually\" id=\"sk-estimator-id-4\" type=\"checkbox\" ><label for=\"sk-estimator-id-4\" class=\"sk-toggleable__label fitted sk-toggleable__label-arrow fitted\">&nbsp;&nbsp;Pipeline<a class=\"sk-estimator-doc-link fitted\" rel=\"noreferrer\" target=\"_blank\" href=\"https://scikit-learn.org/1.4/modules/generated/sklearn.pipeline.Pipeline.html\">?<span>Documentation for Pipeline</span></a><span class=\"sk-estimator-doc-link fitted\">i<span>Fitted</span></span></label><div class=\"sk-toggleable__content fitted\"><pre>Pipeline(steps=[(&#x27;functiontransformer&#x27;,\n",
       "                 FunctionTransformer(func=&lt;function text_preprocessing at 0x2c71e8400&gt;)),\n",
       "                (&#x27;robustscaler&#x27;, RobustScaler()),\n",
       "                (&#x27;randomforestclassifier&#x27;, RandomForestClassifier())])</pre></div> </div></div><div class=\"sk-serial\"><div class=\"sk-item\"><div class=\"sk-estimator fitted sk-toggleable\"><input class=\"sk-toggleable__control sk-hidden--visually\" id=\"sk-estimator-id-5\" type=\"checkbox\" ><label for=\"sk-estimator-id-5\" class=\"sk-toggleable__label fitted sk-toggleable__label-arrow fitted\">&nbsp;FunctionTransformer<a class=\"sk-estimator-doc-link fitted\" rel=\"noreferrer\" target=\"_blank\" href=\"https://scikit-learn.org/1.4/modules/generated/sklearn.preprocessing.FunctionTransformer.html\">?<span>Documentation for FunctionTransformer</span></a></label><div class=\"sk-toggleable__content fitted\"><pre>FunctionTransformer(func=&lt;function text_preprocessing at 0x2c71e8400&gt;)</pre></div> </div></div><div class=\"sk-item\"><div class=\"sk-estimator fitted sk-toggleable\"><input class=\"sk-toggleable__control sk-hidden--visually\" id=\"sk-estimator-id-6\" type=\"checkbox\" ><label for=\"sk-estimator-id-6\" class=\"sk-toggleable__label fitted sk-toggleable__label-arrow fitted\">&nbsp;RobustScaler<a class=\"sk-estimator-doc-link fitted\" rel=\"noreferrer\" target=\"_blank\" href=\"https://scikit-learn.org/1.4/modules/generated/sklearn.preprocessing.RobustScaler.html\">?<span>Documentation for RobustScaler</span></a></label><div class=\"sk-toggleable__content fitted\"><pre>RobustScaler()</pre></div> </div></div><div class=\"sk-item\"><div class=\"sk-estimator fitted sk-toggleable\"><input class=\"sk-toggleable__control sk-hidden--visually\" id=\"sk-estimator-id-7\" type=\"checkbox\" ><label for=\"sk-estimator-id-7\" class=\"sk-toggleable__label fitted sk-toggleable__label-arrow fitted\">&nbsp;RandomForestClassifier<a class=\"sk-estimator-doc-link fitted\" rel=\"noreferrer\" target=\"_blank\" href=\"https://scikit-learn.org/1.4/modules/generated/sklearn.ensemble.RandomForestClassifier.html\">?<span>Documentation for RandomForestClassifier</span></a></label><div class=\"sk-toggleable__content fitted\"><pre>RandomForestClassifier()</pre></div> </div></div></div></div></div></div>"
      ],
      "text/plain": [
       "Pipeline(steps=[('functiontransformer',\n",
       "                 FunctionTransformer(func=<function text_preprocessing at 0x2c71e8400>)),\n",
       "                ('robustscaler', RobustScaler()),\n",
       "                ('randomforestclassifier', RandomForestClassifier())])"
      ]
     },
     "execution_count": 148,
     "metadata": {},
     "output_type": "execute_result"
    }
   ],
   "source": [
    "model_pipe = make_pipeline(text_token, RobustScaler(), RandomForestClassifier())\n",
    "#model_pipe.fit(X_train, Y_train) # 파이프라인 작동이 잘 되는지 확인"
   ]
  },
  {
   "cell_type": "code",
   "execution_count": 150,
   "id": "3d4eacc0",
   "metadata": {},
   "outputs": [],
   "source": [
    "hyper_list = {'randomforestclassifier__max_depth': range(5,10),\n",
    "             'randomforestclassifier__min_samples_split':[5],\n",
    "             'randomforestclassifier__criterion':['gini','entropy']}\n",
    "grid_model = GridSearchCV(model_pipe, param_grid=hyper_list, cv=3,\n",
    "                          n_jobs=-1, scoring='accuracy')\n",
    "best_model = grid_model.fit(X_train, Y_train)"
   ]
  },
  {
   "cell_type": "code",
   "execution_count": 151,
   "id": "3d3359e9",
   "metadata": {},
   "outputs": [],
   "source": [
    "Y_train_pred = best_model.predict(X_train)\n",
    "Y_test_pred = best_model.predict(X_test)"
   ]
  },
  {
   "cell_type": "code",
   "execution_count": 152,
   "id": "3c23d8d1",
   "metadata": {},
   "outputs": [],
   "source": [
    "from sklearn.metrics import classification_report"
   ]
  },
  {
   "cell_type": "code",
   "execution_count": 157,
   "id": "43211946",
   "metadata": {},
   "outputs": [
    {
     "name": "stdout",
     "output_type": "stream",
     "text": [
      "              precision    recall  f1-score   support\n",
      "\n",
      "           0       0.58      0.45      0.50       132\n",
      "           1       0.55      0.68      0.61       134\n",
      "\n",
      "    accuracy                           0.56       266\n",
      "   macro avg       0.57      0.56      0.56       266\n",
      "weighted avg       0.57      0.56      0.56       266\n",
      "\n",
      "              precision    recall  f1-score   support\n",
      "\n",
      "           0       0.44      0.40      0.42        58\n",
      "           1       0.44      0.48      0.46        56\n",
      "\n",
      "    accuracy                           0.44       114\n",
      "   macro avg       0.44      0.44      0.44       114\n",
      "weighted avg       0.44      0.44      0.44       114\n",
      "\n"
     ]
    }
   ],
   "source": [
    "print(classification_report(Y_train, Y_train_pred))\n",
    "print(classification_report(Y_test, Y_test_pred))"
   ]
  },
  {
   "attachments": {
    "image-2.png": {
     "image/png": "[encoded data removed]"
    }
   },
   "cell_type": "markdown",
   "id": "41192812",
   "metadata": {},
   "source": [
    "# Support Vector Machine (SVM)\n",
    "\n",
    "- SVM 데이터를 고차원(Hyper Plane)의 공간으로 변형하여, 데이터를 분할하는 최적의 결정경계 또는 데이터를 잘 예측하는 최적의 회귀 경계를 생성\n",
    "- Margins : 데이터 간의 Vector를 계산하여, 서로다른 클래스의 벡터의 면적을 이용해 결정 경계를 형성\n",
    "\n",
    "    - X Column 데이터가 연속형 자료에 대해 비교적 잘 작동\n",
    "    - 고차원의 데이터 (X Column의 개수가 많은) 에 대해서도 잘 작동\n",
    "    - 비교적 적은량의 데이터(Row 개수가 적은) 대해 잘 작동\n",
    "    \n",
    "    - 범주형 데이터가 많은 경우에는 성능이 저하\n",
    "    - 대용량 데이터에 대해 연산량이 너무 커 비효율적\n",
    "    - 1000개 내외 / 100개 내 \n",
    "    \n",
    "- Hyper parameter\n",
    "    - Cost (C) : Margin값에 들어갈 수 있는 이상치를 얼만큼 허용할 것인가\n",
    "    - Cost 적게 부여 : 이상치를 많이 허용 (Overfitting 방지) -> Soft Margin\n",
    "    - Cost 높게 부여 : 이상치를 최대한 적게 허용 / 모든 데이터를 Margin 밖으로 계산 (학습성능은 매우 높아짐) -> Hard Margin\n",
    "    \n",
    "- Kernel 기법: 데이터를 고차원 특징 공간으로 변환하여ㅕ 기존에 보이지 않는 선형분류선을 도출해 계산\n",
    "    \n",
    "![image-2.png](attachment:image-2.png)"
   ]
  },
  {
   "cell_type": "code",
   "execution_count": 158,
   "id": "13ae54e7",
   "metadata": {},
   "outputs": [],
   "source": [
    "model_pipe2 = make_pipeline(text_token, RobustScaler(), SVC())"
   ]
  },
  {
   "cell_type": "code",
   "execution_count": 159,
   "id": "e66d5855",
   "metadata": {},
   "outputs": [],
   "source": [
    "hyper_list = {'svc__C':[0.001, 0.01, 0.1, 1]}\n",
    "grid_model = GridSearchCV(model_pipe2, param_grid=hyper_list,\n",
    "                         scoring='f1', n_jobs=-1)\n",
    "grid_model.fit(X_train, Y_train)\n",
    "best_model = grid_model.best_estimator_"
   ]
  },
  {
   "attachments": {
    "image.png": {
     "image/png": "[encoded data removed]"
    }
   },
   "cell_type": "markdown",
   "id": "441e9b4c",
   "metadata": {},
   "source": [
    "# RNN\n",
    "\n",
    "- Recurrent Neural Network (RNN) 순환신경망 알고리즘 : 순서를 갖는 Sequence 데이터를 처리 / 현재까지 처리한 정보의 상태(State)를 저장하여, 앞/뒤 정보를 유지하며 학습\n",
    "\n",
    "![image.png](attachment:image.png)"
   ]
  },
  {
   "cell_type": "markdown",
   "id": "6cda3163",
   "metadata": {},
   "source": [
    "- 작동순서\n",
    "    - 1. 문장 표현 Vector에서 단어가 순차적으로 Node에 들어감\n",
    "    - 2. 앞서 처리된 단어의 처리결과를 활용해, 다음 Node으로 보낼 가중치를 계산(Hidden State)\n",
    "    - 3. 각 단어의 위치에서 은닉층을 통과한 결과가 출력\n",
    "    \n",
    "- 단점 :\n",
    "    - 장기 의존성 문제 (Long-Term Dependencies): 문장(Seq)가 길어지면, 이전의 정보가 점점 소실되는 현상\n",
    "    - 그래디언트 소실/폭주 문제가 발생"
   ]
  },
  {
   "cell_type": "code",
   "execution_count": 160,
   "id": "fa943c45",
   "metadata": {},
   "outputs": [],
   "source": [
    "from keras.layers import SimpleRNN\n",
    "from keras.layers import Embedding\n",
    "from keras.layers import Dense\n",
    "from keras.models import Sequential"
   ]
  },
  {
   "cell_type": "code",
   "execution_count": 163,
   "id": "55773d90",
   "metadata": {},
   "outputs": [],
   "source": [
    "X_train_NN = text_preprocessing(X_train)\n",
    "X_test_NN = text_preprocessing(X_test)"
   ]
  },
  {
   "cell_type": "code",
   "execution_count": 164,
   "id": "82782a7e",
   "metadata": {},
   "outputs": [
    {
     "name": "stdout",
     "output_type": "stream",
     "text": [
      "Epoch 1/10\n",
      "\u001b[1m7/7\u001b[0m \u001b[32m━━━━━━━━━━━━━━━━━━━━\u001b[0m\u001b[37m\u001b[0m \u001b[1m4s\u001b[0m 139ms/step - accuracy: 0.5351 - loss: 0.6938 - val_accuracy: 0.4630 - val_loss: 0.6992\n",
      "Epoch 2/10\n",
      "\u001b[1m7/7\u001b[0m \u001b[32m━━━━━━━━━━━━━━━━━━━━\u001b[0m\u001b[37m\u001b[0m \u001b[1m0s\u001b[0m 4ms/step - accuracy: 0.5817 - loss: 0.6845 - val_accuracy: 0.4630 - val_loss: 0.7030\n",
      "Epoch 3/10\n",
      "\u001b[1m7/7\u001b[0m \u001b[32m━━━━━━━━━━━━━━━━━━━━\u001b[0m\u001b[37m\u001b[0m \u001b[1m0s\u001b[0m 4ms/step - accuracy: 0.5849 - loss: 0.6805 - val_accuracy: 0.4630 - val_loss: 0.7095\n",
      "Epoch 4/10\n",
      "\u001b[1m7/7\u001b[0m \u001b[32m━━━━━━━━━━━━━━━━━━━━\u001b[0m\u001b[37m\u001b[0m \u001b[1m0s\u001b[0m 4ms/step - accuracy: 0.5808 - loss: 0.6790 - val_accuracy: 0.4630 - val_loss: 0.7151\n",
      "Epoch 5/10\n",
      "\u001b[1m7/7\u001b[0m \u001b[32m━━━━━━━━━━━━━━━━━━━━\u001b[0m\u001b[37m\u001b[0m \u001b[1m0s\u001b[0m 4ms/step - accuracy: 0.5440 - loss: 0.6784 - val_accuracy: 0.4444 - val_loss: 0.7202\n",
      "Epoch 6/10\n",
      "\u001b[1m7/7\u001b[0m \u001b[32m━━━━━━━━━━━━━━━━━━━━\u001b[0m\u001b[37m\u001b[0m \u001b[1m0s\u001b[0m 4ms/step - accuracy: 0.5438 - loss: 0.6700 - val_accuracy: 0.4444 - val_loss: 0.7258\n",
      "Epoch 7/10\n",
      "\u001b[1m7/7\u001b[0m \u001b[32m━━━━━━━━━━━━━━━━━━━━\u001b[0m\u001b[37m\u001b[0m \u001b[1m1s\u001b[0m 124ms/step - accuracy: 0.6288 - loss: 0.6614 - val_accuracy: 0.4815 - val_loss: 0.7294\n",
      "Epoch 8/10\n",
      "\u001b[1m7/7\u001b[0m \u001b[32m━━━━━━━━━━━━━━━━━━━━\u001b[0m\u001b[37m\u001b[0m \u001b[1m0s\u001b[0m 4ms/step - accuracy: 0.5853 - loss: 0.6683 - val_accuracy: 0.4815 - val_loss: 0.7295\n",
      "Epoch 9/10\n",
      "\u001b[1m7/7\u001b[0m \u001b[32m━━━━━━━━━━━━━━━━━━━━\u001b[0m\u001b[37m\u001b[0m \u001b[1m0s\u001b[0m 4ms/step - accuracy: 0.5717 - loss: 0.6771 - val_accuracy: 0.4815 - val_loss: 0.7280\n",
      "Epoch 10/10\n",
      "\u001b[1m7/7\u001b[0m \u001b[32m━━━━━━━━━━━━━━━━━━━━\u001b[0m\u001b[37m\u001b[0m \u001b[1m0s\u001b[0m 6ms/step - accuracy: 0.5543 - loss: 0.6785 - val_accuracy: 0.4815 - val_loss: 0.7281\n"
     ]
    },
    {
     "data": {
      "text/plain": [
       "<keras.src.callbacks.history.History at 0x2cd972ad0>"
      ]
     },
     "execution_count": 164,
     "metadata": {},
     "output_type": "execute_result"
    }
   ],
   "source": [
    "# RNN 모델 구성\n",
    "model_RNN = Sequential()\n",
    "model_RNN.add(Embedding(10000, 8))\n",
    "model_RNN.add(SimpleRNN(32))\n",
    "model_RNN.add(Dense(1, activation='sigmoid'))\n",
    "model_RNN.compile(optimizer='adam', loss='binary_crossentropy',\n",
    "                  metrics=['accuracy'])\n",
    "model_RNN.fit(X_train_NN, Y_train, epochs=10, batch_size=32,\n",
    "             validation_split=0.2)"
   ]
  },
  {
   "cell_type": "code",
   "execution_count": 167,
   "id": "d2a6ba42",
   "metadata": {},
   "outputs": [],
   "source": [
    "def threshold(result):\n",
    "    if result >= 0.5:\n",
    "        return 1\n",
    "    return 0"
   ]
  },
  {
   "cell_type": "code",
   "execution_count": 168,
   "id": "e9829fa5",
   "metadata": {
    "collapsed": true
   },
   "outputs": [
    {
     "name": "stdout",
     "output_type": "stream",
     "text": [
      "\u001b[1m9/9\u001b[0m \u001b[32m━━━━━━━━━━━━━━━━━━━━\u001b[0m\u001b[37m\u001b[0m \u001b[1m0s\u001b[0m 822us/step\n"
     ]
    },
    {
     "data": {
      "text/plain": [
       "array([[0.31354114],\n",
       "       [0.42323697],\n",
       "       [0.59322137],\n",
       "       [0.31354114],\n",
       "       [0.63247985],\n",
       "       [0.63247985],\n",
       "       [0.59322137],\n",
       "       [0.63247985],\n",
       "       [0.4796432 ],\n",
       "       [0.5004327 ],\n",
       "       [0.63247985],\n",
       "       [0.5004327 ],\n",
       "       [0.63247985],\n",
       "       [0.63247985],\n",
       "       [0.5004327 ],\n",
       "       [0.57732654],\n",
       "       [0.60742587],\n",
       "       [0.4796432 ],\n",
       "       [0.5004327 ],\n",
       "       [0.59322137],\n",
       "       [0.59322137],\n",
       "       [0.4796432 ],\n",
       "       [0.5004327 ],\n",
       "       [0.31354114],\n",
       "       [0.42323697],\n",
       "       [0.42323697],\n",
       "       [0.57732654],\n",
       "       [0.57732654],\n",
       "       [0.49995986],\n",
       "       [0.60742587],\n",
       "       [0.59322137],\n",
       "       [0.57732654],\n",
       "       [0.49995986],\n",
       "       [0.59322137],\n",
       "       [0.42323697],\n",
       "       [0.60742587],\n",
       "       [0.42323697],\n",
       "       [0.31354114],\n",
       "       [0.63247985],\n",
       "       [0.60742587],\n",
       "       [0.59322137],\n",
       "       [0.57732654],\n",
       "       [0.4796432 ],\n",
       "       [0.59322137],\n",
       "       [0.60742587],\n",
       "       [0.3840332 ],\n",
       "       [0.59322137],\n",
       "       [0.59322137],\n",
       "       [0.57732654],\n",
       "       [0.4796432 ],\n",
       "       [0.31354114],\n",
       "       [0.5004327 ],\n",
       "       [0.49995986],\n",
       "       [0.5004327 ],\n",
       "       [0.5004327 ],\n",
       "       [0.3840332 ],\n",
       "       [0.4796432 ],\n",
       "       [0.60742587],\n",
       "       [0.49995986],\n",
       "       [0.60742587],\n",
       "       [0.57732654],\n",
       "       [0.63247985],\n",
       "       [0.49995986],\n",
       "       [0.3840332 ],\n",
       "       [0.63247985],\n",
       "       [0.63247985],\n",
       "       [0.63247985],\n",
       "       [0.3840332 ],\n",
       "       [0.4796432 ],\n",
       "       [0.60742587],\n",
       "       [0.60742587],\n",
       "       [0.42323697],\n",
       "       [0.59322137],\n",
       "       [0.5004327 ],\n",
       "       [0.31354114],\n",
       "       [0.57732654],\n",
       "       [0.49995986],\n",
       "       [0.59322137],\n",
       "       [0.3840332 ],\n",
       "       [0.60742587],\n",
       "       [0.49995986],\n",
       "       [0.42323697],\n",
       "       [0.57732654],\n",
       "       [0.63247985],\n",
       "       [0.49995986],\n",
       "       [0.59322137],\n",
       "       [0.31354114],\n",
       "       [0.5004327 ],\n",
       "       [0.49995986],\n",
       "       [0.49995986],\n",
       "       [0.31354114],\n",
       "       [0.5004327 ],\n",
       "       [0.60742587],\n",
       "       [0.31354114],\n",
       "       [0.49995986],\n",
       "       [0.5004327 ],\n",
       "       [0.3840332 ],\n",
       "       [0.59322137],\n",
       "       [0.57732654],\n",
       "       [0.31354114],\n",
       "       [0.49995986],\n",
       "       [0.49995986],\n",
       "       [0.42323697],\n",
       "       [0.42323697],\n",
       "       [0.42323697],\n",
       "       [0.31354114],\n",
       "       [0.4796432 ],\n",
       "       [0.42323697],\n",
       "       [0.57732654],\n",
       "       [0.4796432 ],\n",
       "       [0.4796432 ],\n",
       "       [0.59322137],\n",
       "       [0.59322137],\n",
       "       [0.60742587],\n",
       "       [0.4796432 ],\n",
       "       [0.3840332 ],\n",
       "       [0.59322137],\n",
       "       [0.60742587],\n",
       "       [0.57732654],\n",
       "       [0.4796432 ],\n",
       "       [0.5004327 ],\n",
       "       [0.57732654],\n",
       "       [0.63247985],\n",
       "       [0.63247985],\n",
       "       [0.49995986],\n",
       "       [0.59322137],\n",
       "       [0.31354114],\n",
       "       [0.4796432 ],\n",
       "       [0.42323697],\n",
       "       [0.63247985],\n",
       "       [0.3840332 ],\n",
       "       [0.63247985],\n",
       "       [0.3840332 ],\n",
       "       [0.57732654],\n",
       "       [0.42323697],\n",
       "       [0.49995986],\n",
       "       [0.59322137],\n",
       "       [0.49995986],\n",
       "       [0.59322137],\n",
       "       [0.31354114],\n",
       "       [0.42323697],\n",
       "       [0.49995986],\n",
       "       [0.63247985],\n",
       "       [0.5004327 ],\n",
       "       [0.4796432 ],\n",
       "       [0.5004327 ],\n",
       "       [0.59322137],\n",
       "       [0.63247985],\n",
       "       [0.63247985],\n",
       "       [0.49995986],\n",
       "       [0.49995986],\n",
       "       [0.60742587],\n",
       "       [0.60742587],\n",
       "       [0.31354114],\n",
       "       [0.4796432 ],\n",
       "       [0.63247985],\n",
       "       [0.5004327 ],\n",
       "       [0.3840332 ],\n",
       "       [0.42323697],\n",
       "       [0.60742587],\n",
       "       [0.31354114],\n",
       "       [0.63247985],\n",
       "       [0.59322137],\n",
       "       [0.63247985],\n",
       "       [0.4796432 ],\n",
       "       [0.60742587],\n",
       "       [0.5004327 ],\n",
       "       [0.31354114],\n",
       "       [0.63247985],\n",
       "       [0.5004327 ],\n",
       "       [0.57732654],\n",
       "       [0.4796432 ],\n",
       "       [0.5004327 ],\n",
       "       [0.42323697],\n",
       "       [0.60742587],\n",
       "       [0.4796432 ],\n",
       "       [0.3840332 ],\n",
       "       [0.31354114],\n",
       "       [0.42323697],\n",
       "       [0.5004327 ],\n",
       "       [0.49995986],\n",
       "       [0.4796432 ],\n",
       "       [0.4796432 ],\n",
       "       [0.5004327 ],\n",
       "       [0.59322137],\n",
       "       [0.57732654],\n",
       "       [0.60742587],\n",
       "       [0.31354114],\n",
       "       [0.4796432 ],\n",
       "       [0.59322137],\n",
       "       [0.57732654],\n",
       "       [0.60742587],\n",
       "       [0.3840332 ],\n",
       "       [0.3840332 ],\n",
       "       [0.31354114],\n",
       "       [0.3840332 ],\n",
       "       [0.59322137],\n",
       "       [0.3840332 ],\n",
       "       [0.49995986],\n",
       "       [0.63247985],\n",
       "       [0.60742587],\n",
       "       [0.59322137],\n",
       "       [0.49995986],\n",
       "       [0.3840332 ],\n",
       "       [0.3840332 ],\n",
       "       [0.59322137],\n",
       "       [0.63247985],\n",
       "       [0.4796432 ],\n",
       "       [0.42323697],\n",
       "       [0.5004327 ],\n",
       "       [0.3840332 ],\n",
       "       [0.4796432 ],\n",
       "       [0.5004327 ],\n",
       "       [0.59322137],\n",
       "       [0.3840332 ],\n",
       "       [0.42323697],\n",
       "       [0.42323697],\n",
       "       [0.42323697],\n",
       "       [0.57732654],\n",
       "       [0.49995986],\n",
       "       [0.5004327 ],\n",
       "       [0.5004327 ],\n",
       "       [0.42323697],\n",
       "       [0.4796432 ],\n",
       "       [0.60742587],\n",
       "       [0.5004327 ],\n",
       "       [0.57732654],\n",
       "       [0.3840332 ],\n",
       "       [0.49995986],\n",
       "       [0.59322137],\n",
       "       [0.63247985],\n",
       "       [0.57732654],\n",
       "       [0.31354114],\n",
       "       [0.4796432 ],\n",
       "       [0.42323697],\n",
       "       [0.63247985],\n",
       "       [0.42323697],\n",
       "       [0.4796432 ],\n",
       "       [0.59322137],\n",
       "       [0.31354114],\n",
       "       [0.57732654],\n",
       "       [0.5004327 ],\n",
       "       [0.4796432 ],\n",
       "       [0.31354114],\n",
       "       [0.31354114],\n",
       "       [0.5004327 ],\n",
       "       [0.5004327 ],\n",
       "       [0.59322137],\n",
       "       [0.31354114],\n",
       "       [0.60742587],\n",
       "       [0.5004327 ],\n",
       "       [0.63247985],\n",
       "       [0.4796432 ],\n",
       "       [0.31354114],\n",
       "       [0.3840332 ],\n",
       "       [0.57732654],\n",
       "       [0.423237  ],\n",
       "       [0.49995986],\n",
       "       [0.57732654],\n",
       "       [0.60742587],\n",
       "       [0.60742587],\n",
       "       [0.3840332 ],\n",
       "       [0.57732654],\n",
       "       [0.3840332 ],\n",
       "       [0.4796432 ],\n",
       "       [0.57732654]], dtype=float32)"
      ]
     },
     "execution_count": 168,
     "metadata": {},
     "output_type": "execute_result"
    }
   ],
   "source": [
    "model_RNN.predict(X_train_NN)"
   ]
  },
  {
   "cell_type": "code",
   "execution_count": 171,
   "id": "011aff06",
   "metadata": {},
   "outputs": [
    {
     "name": "stdout",
     "output_type": "stream",
     "text": [
      "\u001b[1m9/9\u001b[0m \u001b[32m━━━━━━━━━━━━━━━━━━━━\u001b[0m\u001b[37m\u001b[0m \u001b[1m0s\u001b[0m 863us/step\n",
      "\u001b[1m4/4\u001b[0m \u001b[32m━━━━━━━━━━━━━━━━━━━━\u001b[0m\u001b[37m\u001b[0m \u001b[1m0s\u001b[0m 867us/step\n"
     ]
    }
   ],
   "source": [
    "Y_train_pred = pd.Series(model_RNN.predict(X_train_NN).flatten()).apply(threshold)\n",
    "Y_test_pred = pd.Series(model_RNN.predict(X_test_NN).flatten()).apply(threshold)"
   ]
  },
  {
   "cell_type": "code",
   "execution_count": 172,
   "id": "4deef1eb",
   "metadata": {},
   "outputs": [
    {
     "name": "stdout",
     "output_type": "stream",
     "text": [
      "              precision    recall  f1-score   support\n",
      "\n",
      "           0       0.56      0.54      0.55       132\n",
      "           1       0.56      0.58      0.57       134\n",
      "\n",
      "    accuracy                           0.56       266\n",
      "   macro avg       0.56      0.56      0.56       266\n",
      "weighted avg       0.56      0.56      0.56       266\n",
      "\n",
      "              precision    recall  f1-score   support\n",
      "\n",
      "           0       0.53      0.71      0.61        58\n",
      "           1       0.54      0.36      0.43        56\n",
      "\n",
      "    accuracy                           0.54       114\n",
      "   macro avg       0.54      0.53      0.52       114\n",
      "weighted avg       0.54      0.54      0.52       114\n",
      "\n"
     ]
    }
   ],
   "source": [
    "print(classification_report(Y_train, Y_train_pred))\n",
    "print(classification_report(Y_test, Y_test_pred))"
   ]
  },
  {
   "cell_type": "markdown",
   "id": "8b4d1fd8",
   "metadata": {},
   "source": [
    "### 6번"
   ]
  },
  {
   "cell_type": "markdown",
   "id": "ac7d91d8",
   "metadata": {},
   "source": [
    "6. '33_Data.xlsx' 데이터를 불러와, 생성한 모델에 넣어 '외교'와 '금융'항목을 분류하시오."
   ]
  },
  {
   "cell_type": "code",
   "execution_count": 175,
   "id": "bc77698c",
   "metadata": {},
   "outputs": [],
   "source": [
    "df7 = pd.read_excel('33_Data.xlsx')"
   ]
  },
  {
   "cell_type": "code",
   "execution_count": 176,
   "id": "58327a6c",
   "metadata": {},
   "outputs": [],
   "source": [
    "input_data = text_preprocessing(df7['기사제목'])"
   ]
  },
  {
   "cell_type": "code",
   "execution_count": 183,
   "id": "f6f1c4d7",
   "metadata": {
    "collapsed": true
   },
   "outputs": [
    {
     "name": "stdout",
     "output_type": "stream",
     "text": [
      "\u001b[1m22/22\u001b[0m \u001b[32m━━━━━━━━━━━━━━━━━━━━\u001b[0m\u001b[37m\u001b[0m \u001b[1m0s\u001b[0m 716us/step\n"
     ]
    },
    {
     "data": {
      "text/plain": [
       "기사분류\n",
       "경제    512\n",
       "외교    168\n",
       "Name: count, dtype: int64"
      ]
     },
     "execution_count": 183,
     "metadata": {},
     "output_type": "execute_result"
    }
   ],
   "source": [
    "pred = pd.Series(model_RNN.predict(input_data).flatten()).apply(threshold)\n",
    "df7['기사분류'] = pred.replace({0:'경제', 1:'외교'})\n",
    "df7['기사분류'].value_counts()"
   ]
  },
  {
   "cell_type": "code",
   "execution_count": 184,
   "id": "263f7bf5",
   "metadata": {
    "collapsed": true
   },
   "outputs": [
    {
     "data": {
      "text/html": [
       "<div>\n",
       "<style scoped>\n",
       "    .dataframe tbody tr th:only-of-type {\n",
       "        vertical-align: middle;\n",
       "    }\n",
       "\n",
       "    .dataframe tbody tr th {\n",
       "        vertical-align: top;\n",
       "    }\n",
       "\n",
       "    .dataframe thead th {\n",
       "        text-align: right;\n",
       "    }\n",
       "</style>\n",
       "<table border=\"1\" class=\"dataframe\">\n",
       "  <thead>\n",
       "    <tr style=\"text-align: right;\">\n",
       "      <th></th>\n",
       "      <th>Unnamed: 0</th>\n",
       "      <th>기사제목</th>\n",
       "      <th>기사분류</th>\n",
       "    </tr>\n",
       "  </thead>\n",
       "  <tbody>\n",
       "    <tr>\n",
       "      <th>0</th>\n",
       "      <td>0</td>\n",
       "      <td>주 52시간 준법투쟁에 불꺼진 병동…수술실서 사라진 의대교수들</td>\n",
       "      <td>경제</td>\n",
       "    </tr>\n",
       "    <tr>\n",
       "      <th>1</th>\n",
       "      <td>1</td>\n",
       "      <td>반도체發 봄바람에 수출 훈풍 계속…'침체기 효자'였던 車수출↓</td>\n",
       "      <td>경제</td>\n",
       "    </tr>\n",
       "    <tr>\n",
       "      <th>2</th>\n",
       "      <td>2</td>\n",
       "      <td>[테샛 공부합시다] 日 가격 · 中 기술에도 쫓기는 산업경쟁력</td>\n",
       "      <td>경제</td>\n",
       "    </tr>\n",
       "    <tr>\n",
       "      <th>3</th>\n",
       "      <td>3</td>\n",
       "      <td>끊임없이 디플레이션에 시달리는 중국 경제…시진핑 주석, 과연 해결책은 있나 [국제경...</td>\n",
       "      <td>경제</td>\n",
       "    </tr>\n",
       "    <tr>\n",
       "      <th>4</th>\n",
       "      <td>4</td>\n",
       "      <td>뉴욕증시, 고용 지표·테슬라 1분기 출하량 주목 [출근전 꼭 글로벌브리핑]</td>\n",
       "      <td>경제</td>\n",
       "    </tr>\n",
       "    <tr>\n",
       "      <th>...</th>\n",
       "      <td>...</td>\n",
       "      <td>...</td>\n",
       "      <td>...</td>\n",
       "    </tr>\n",
       "    <tr>\n",
       "      <th>675</th>\n",
       "      <td>675</td>\n",
       "      <td>IMF, '경제난' 파키스탄에 구제금융 7억달러 추가 지급 승인</td>\n",
       "      <td>경제</td>\n",
       "    </tr>\n",
       "    <tr>\n",
       "      <th>676</th>\n",
       "      <td>676</td>\n",
       "      <td>尹대통령 경제 행보에 매일 아침 '경제 스터디'하는 참모들</td>\n",
       "      <td>경제</td>\n",
       "    </tr>\n",
       "    <tr>\n",
       "      <th>677</th>\n",
       "      <td>677</td>\n",
       "      <td>IMF \"올해 세계 경제 성장세 유지하지만 작년보다 둔화\"</td>\n",
       "      <td>외교</td>\n",
       "    </tr>\n",
       "    <tr>\n",
       "      <th>678</th>\n",
       "      <td>678</td>\n",
       "      <td>'집단학살'혐의 이스라엘 국제법정에…팔 감격 \"그 자체로 승리\"</td>\n",
       "      <td>경제</td>\n",
       "    </tr>\n",
       "    <tr>\n",
       "      <th>679</th>\n",
       "      <td>679</td>\n",
       "      <td>조외교, 美국무와 첫 통화…\"北대응·대만해협 평화 위해 협력\"(종합)</td>\n",
       "      <td>경제</td>\n",
       "    </tr>\n",
       "  </tbody>\n",
       "</table>\n",
       "<p>680 rows × 3 columns</p>\n",
       "</div>"
      ],
      "text/plain": [
       "     Unnamed: 0                                               기사제목 기사분류\n",
       "0             0                 주 52시간 준법투쟁에 불꺼진 병동…수술실서 사라진 의대교수들   경제\n",
       "1             1                 반도체發 봄바람에 수출 훈풍 계속…'침체기 효자'였던 車수출↓   경제\n",
       "2             2                 [테샛 공부합시다] 日 가격 · 中 기술에도 쫓기는 산업경쟁력   경제\n",
       "3             3  끊임없이 디플레이션에 시달리는 중국 경제…시진핑 주석, 과연 해결책은 있나 [국제경...   경제\n",
       "4             4          뉴욕증시, 고용 지표·테슬라 1분기 출하량 주목 [출근전 꼭 글로벌브리핑]   경제\n",
       "..          ...                                                ...  ...\n",
       "675         675                IMF, '경제난' 파키스탄에 구제금융 7억달러 추가 지급 승인   경제\n",
       "676         676                   尹대통령 경제 행보에 매일 아침 '경제 스터디'하는 참모들   경제\n",
       "677         677                   IMF \"올해 세계 경제 성장세 유지하지만 작년보다 둔화\"   외교\n",
       "678         678                '집단학살'혐의 이스라엘 국제법정에…팔 감격 \"그 자체로 승리\"   경제\n",
       "679         679             조외교, 美국무와 첫 통화…\"北대응·대만해협 평화 위해 협력\"(종합)   경제\n",
       "\n",
       "[680 rows x 3 columns]"
      ]
     },
     "execution_count": 184,
     "metadata": {},
     "output_type": "execute_result"
    }
   ],
   "source": [
    "df7"
   ]
  },
  {
   "attachments": {
    "image.png": {
     "image/png": "[encoded data removed]"
    }
   },
   "cell_type": "markdown",
   "id": "3e08a4c5",
   "metadata": {},
   "source": [
    "# LSTM (Long Short Term Memory)\n",
    "\n",
    "- RNN 모델의 장기의존성 문제를 해결하기 위해 고안된 RNN 모델\n",
    "\n",
    "![image.png](attachment:image.png)"
   ]
  },
  {
   "attachments": {
    "image-2.png": {
     "image/png": "[encoded data removed]"
    },
    "image-3.png": {
     "image/png": "[encoded data removed]"
    },
    "image.png": {
     "image/png": "[encoded data removed]"
    }
   },
   "cell_type": "markdown",
   "id": "eedc0b10",
   "metadata": {},
   "source": [
    "- RNN 모델에 시퀀스의 길이가 긴 데이터에 대하여, Cell State라는 Node를 이용하여, 장기적으로 정보가 전달될 수 있도록 계산\n",
    "- LSTM 모델은 Cell State를 조정하기 위해, 세 가지 Gate를 사용\n",
    "    - 1. Input Gate : Cell State에 새로운 정보를 추가할지 결정\n",
    "        - 하나는 시그모이드 함수를 이용해, 어떤 값을 업데이트 할건지 결정\n",
    "        - 하나는 탄젠트 함수를 사용하여 Cell State에 추가될 후보 값들을 생성\n",
    "        ![image.png](attachment:image.png)\n",
    "    - 2. Forget Gate : Cell State에서 어떤 정보를 제거할 지 결정\n",
    "        - 시그모이드 함수를 통해 1,0 값으로 결과를 계산 / 1값이면 정보를 유지 / 0 값이면 정보를 삭제\n",
    "        ![image-2.png](attachment:image-2.png)\n",
    "    - 3. Output Gate : Cell State를 기반으로 어떤 정보를 출력할지 결정\n",
    "        - 시그모이드 함수를 이용해, 어떤 정보를 출력할지 결정하고, 탄젠트 함수를 활용해 출력값을 -1값과 1사이로 출력을 수행\n",
    "        ![image-3.png](attachment:image-3.png)"
   ]
  },
  {
   "cell_type": "code",
   "execution_count": 185,
   "id": "ff57afe8",
   "metadata": {},
   "outputs": [],
   "source": [
    "from keras.layers import LSTM"
   ]
  },
  {
   "cell_type": "markdown",
   "id": "4eb256b4",
   "metadata": {},
   "source": [
    "- Dropout (드롭아웃) : 신경망을 학습할 때, 과적합(Overfitting)을 방지하는 규제\n",
    "- 훈련 과정에서 각 배치를 처리할 때 마다 개별 노드가 일정 확률로 활성/비활성"
   ]
  },
  {
   "cell_type": "code",
   "execution_count": 186,
   "id": "4a2d6af6",
   "metadata": {},
   "outputs": [
    {
     "name": "stdout",
     "output_type": "stream",
     "text": [
      "Epoch 1/10\n",
      "\u001b[1m7/7\u001b[0m \u001b[32m━━━━━━━━━━━━━━━━━━━━\u001b[0m\u001b[37m\u001b[0m \u001b[1m6s\u001b[0m 177ms/step - accuracy: 0.5278 - loss: 0.6931 - val_accuracy: 0.4630 - val_loss: 0.6961\n",
      "Epoch 2/10\n",
      "\u001b[1m7/7\u001b[0m \u001b[32m━━━━━━━━━━━━━━━━━━━━\u001b[0m\u001b[37m\u001b[0m \u001b[1m0s\u001b[0m 12ms/step - accuracy: 0.5075 - loss: 0.6930 - val_accuracy: 0.4630 - val_loss: 0.6948\n",
      "Epoch 3/10\n",
      "\u001b[1m7/7\u001b[0m \u001b[32m━━━━━━━━━━━━━━━━━━━━\u001b[0m\u001b[37m\u001b[0m \u001b[1m0s\u001b[0m 12ms/step - accuracy: 0.4846 - loss: 0.6937 - val_accuracy: 0.4630 - val_loss: 0.6945\n",
      "Epoch 4/10\n",
      "\u001b[1m7/7\u001b[0m \u001b[32m━━━━━━━━━━━━━━━━━━━━\u001b[0m\u001b[37m\u001b[0m \u001b[1m0s\u001b[0m 11ms/step - accuracy: 0.5387 - loss: 0.6913 - val_accuracy: 0.4630 - val_loss: 0.6955\n",
      "Epoch 5/10\n",
      "\u001b[1m7/7\u001b[0m \u001b[32m━━━━━━━━━━━━━━━━━━━━\u001b[0m\u001b[37m\u001b[0m \u001b[1m0s\u001b[0m 12ms/step - accuracy: 0.5837 - loss: 0.6888 - val_accuracy: 0.4630 - val_loss: 0.6971\n",
      "Epoch 6/10\n",
      "\u001b[1m7/7\u001b[0m \u001b[32m━━━━━━━━━━━━━━━━━━━━\u001b[0m\u001b[37m\u001b[0m \u001b[1m0s\u001b[0m 11ms/step - accuracy: 0.5649 - loss: 0.6875 - val_accuracy: 0.4630 - val_loss: 0.6993\n",
      "Epoch 7/10\n",
      "\u001b[1m7/7\u001b[0m \u001b[32m━━━━━━━━━━━━━━━━━━━━\u001b[0m\u001b[37m\u001b[0m \u001b[1m0s\u001b[0m 12ms/step - accuracy: 0.5194 - loss: 0.6916 - val_accuracy: 0.5000 - val_loss: 0.6984\n",
      "Epoch 8/10\n",
      "\u001b[1m7/7\u001b[0m \u001b[32m━━━━━━━━━━━━━━━━━━━━\u001b[0m\u001b[37m\u001b[0m \u001b[1m0s\u001b[0m 12ms/step - accuracy: 0.5266 - loss: 0.6867 - val_accuracy: 0.4630 - val_loss: 0.7047\n",
      "Epoch 9/10\n",
      "\u001b[1m7/7\u001b[0m \u001b[32m━━━━━━━━━━━━━━━━━━━━\u001b[0m\u001b[37m\u001b[0m \u001b[1m0s\u001b[0m 12ms/step - accuracy: 0.5374 - loss: 0.6863 - val_accuracy: 0.4630 - val_loss: 0.7115\n",
      "Epoch 10/10\n",
      "\u001b[1m7/7\u001b[0m \u001b[32m━━━━━━━━━━━━━━━━━━━━\u001b[0m\u001b[37m\u001b[0m \u001b[1m0s\u001b[0m 12ms/step - accuracy: 0.5855 - loss: 0.6735 - val_accuracy: 0.4815 - val_loss: 0.7115\n"
     ]
    },
    {
     "data": {
      "text/plain": [
       "<keras.src.callbacks.history.History at 0x2cfea5f10>"
      ]
     },
     "execution_count": 186,
     "metadata": {},
     "output_type": "execute_result"
    }
   ],
   "source": [
    "model_LSTM = Sequential()\n",
    "model_LSTM.add(Embedding(10000,8))\n",
    "model_LSTM.add(LSTM(128, dropout=0.2))\n",
    "model_LSTM.add(Dense(1, activation='sigmoid'))\n",
    "model_LSTM.compile(optimizer='adam', loss='binary_crossentropy',\n",
    "                   metrics=['accuracy'])\n",
    "model_LSTM.fit(X_train_NN, Y_train, epochs=10, batch_size= 32,\n",
    "               validation_split=0.2)"
   ]
  },
  {
   "cell_type": "code",
   "execution_count": 187,
   "id": "cf13923e",
   "metadata": {},
   "outputs": [
    {
     "name": "stdout",
     "output_type": "stream",
     "text": [
      "\u001b[1m9/9\u001b[0m \u001b[32m━━━━━━━━━━━━━━━━━━━━\u001b[0m\u001b[37m\u001b[0m \u001b[1m0s\u001b[0m 14ms/step\n",
      "\u001b[1m4/4\u001b[0m \u001b[32m━━━━━━━━━━━━━━━━━━━━\u001b[0m\u001b[37m\u001b[0m \u001b[1m0s\u001b[0m 3ms/step \n"
     ]
    }
   ],
   "source": [
    "Y_train_pred = pd.Series(model_LSTM.predict(X_train_NN).flatten()).apply(threshold)\n",
    "Y_test_pred = pd.Series(model_LSTM.predict(X_test_NN).flatten()).apply(threshold)"
   ]
  },
  {
   "cell_type": "code",
   "execution_count": 188,
   "id": "02a365fc",
   "metadata": {},
   "outputs": [
    {
     "name": "stdout",
     "output_type": "stream",
     "text": [
      "              precision    recall  f1-score   support\n",
      "\n",
      "           0       0.55      0.65      0.60       132\n",
      "           1       0.58      0.47      0.52       134\n",
      "\n",
      "    accuracy                           0.56       266\n",
      "   macro avg       0.56      0.56      0.56       266\n",
      "weighted avg       0.56      0.56      0.56       266\n",
      "\n",
      "              precision    recall  f1-score   support\n",
      "\n",
      "           0       0.48      0.52      0.50        58\n",
      "           1       0.45      0.41      0.43        56\n",
      "\n",
      "    accuracy                           0.46       114\n",
      "   macro avg       0.46      0.46      0.46       114\n",
      "weighted avg       0.46      0.46      0.46       114\n",
      "\n"
     ]
    }
   ],
   "source": [
    "print(classification_report(Y_train, Y_train_pred))\n",
    "print(classification_report(Y_test, Y_test_pred))"
   ]
  },
  {
   "attachments": {
    "image.png": {
     "image/png": "[encoded data removed]"
    }
   },
   "cell_type": "markdown",
   "id": "88633e29",
   "metadata": {},
   "source": [
    "# GRU (Gated Recurrent Unit)\n",
    "\n",
    "- LSTM 모델의 변형으로 LSTM 모델보다 구조가 더 간단하여, 빠르고 효율적인 계산이 가능한 신경망 알고리즘\n",
    "![image.png](attachment:image.png)\n",
    "- GRU 모델은 LSTM의 셀 상태 (CEll state)와 Output Gate를 제거하고, 두 가지 게이트만 이용하여, 연산\n",
    "    - Update Gate : 현재의 Hidden State가 다음 Hidden State에 얼마나 반영될 지를 결정 / LSTM에서 입력게이트와 삭제게이트의 역할 / 과거의 정보를 얼마나 유지할지를 결정하는 정보값이 계산\n",
    "    - Reset Gate : 이전의 Hidden State 현재의 입력과 함께 어떻게 결합될 지를 결정 / LSTM 의 Cell State의 역할 수행 / 과거의 정보를 효과적으로 필터링 해내는데 사용\n",
    "    \n",
    "- LSTM 모델과 비교했을 때, 더 적은 항목(Columns) 있는 데이터에 대해 잘 작동"
   ]
  },
  {
   "cell_type": "code",
   "execution_count": 189,
   "id": "afd0cef5",
   "metadata": {},
   "outputs": [],
   "source": [
    "from keras.layers import GRU"
   ]
  },
  {
   "cell_type": "code",
   "execution_count": 191,
   "id": "795b7eba",
   "metadata": {
    "collapsed": true
   },
   "outputs": [
    {
     "name": "stdout",
     "output_type": "stream",
     "text": [
      "Epoch 1/10\n",
      "\u001b[1m6/6\u001b[0m \u001b[32m━━━━━━━━━━━━━━━━━━━━\u001b[0m\u001b[37m\u001b[0m \u001b[1m7s\u001b[0m 211ms/step - accuracy: 0.4475 - loss: 0.6937 - val_accuracy: 0.5000 - val_loss: 0.6932\n",
      "Epoch 2/10\n",
      "\u001b[1m6/6\u001b[0m \u001b[32m━━━━━━━━━━━━━━━━━━━━\u001b[0m\u001b[37m\u001b[0m \u001b[1m0s\u001b[0m 7ms/step - accuracy: 0.4854 - loss: 0.6940 - val_accuracy: 0.5000 - val_loss: 0.6931\n",
      "Epoch 3/10\n",
      "\u001b[1m6/6\u001b[0m \u001b[32m━━━━━━━━━━━━━━━━━━━━\u001b[0m\u001b[37m\u001b[0m \u001b[1m0s\u001b[0m 8ms/step - accuracy: 0.5134 - loss: 0.6923 - val_accuracy: 0.5000 - val_loss: 0.6930\n",
      "Epoch 4/10\n",
      "\u001b[1m6/6\u001b[0m \u001b[32m━━━━━━━━━━━━━━━━━━━━\u001b[0m\u001b[37m\u001b[0m \u001b[1m0s\u001b[0m 7ms/step - accuracy: 0.5207 - loss: 0.6923 - val_accuracy: 0.5000 - val_loss: 0.6930\n",
      "Epoch 5/10\n",
      "\u001b[1m6/6\u001b[0m \u001b[32m━━━━━━━━━━━━━━━━━━━━\u001b[0m\u001b[37m\u001b[0m \u001b[1m0s\u001b[0m 7ms/step - accuracy: 0.5828 - loss: 0.6904 - val_accuracy: 0.5000 - val_loss: 0.6929\n",
      "Epoch 6/10\n",
      "\u001b[1m6/6\u001b[0m \u001b[32m━━━━━━━━━━━━━━━━━━━━\u001b[0m\u001b[37m\u001b[0m \u001b[1m0s\u001b[0m 7ms/step - accuracy: 0.5563 - loss: 0.6900 - val_accuracy: 0.5125 - val_loss: 0.6927\n",
      "Epoch 7/10\n",
      "\u001b[1m6/6\u001b[0m \u001b[32m━━━━━━━━━━━━━━━━━━━━\u001b[0m\u001b[37m\u001b[0m \u001b[1m0s\u001b[0m 7ms/step - accuracy: 0.5051 - loss: 0.6926 - val_accuracy: 0.5375 - val_loss: 0.6926\n",
      "Epoch 8/10\n",
      "\u001b[1m6/6\u001b[0m \u001b[32m━━━━━━━━━━━━━━━━━━━━\u001b[0m\u001b[37m\u001b[0m \u001b[1m0s\u001b[0m 7ms/step - accuracy: 0.5743 - loss: 0.6883 - val_accuracy: 0.5375 - val_loss: 0.6925\n",
      "Epoch 9/10\n",
      "\u001b[1m6/6\u001b[0m \u001b[32m━━━━━━━━━━━━━━━━━━━━\u001b[0m\u001b[37m\u001b[0m \u001b[1m0s\u001b[0m 7ms/step - accuracy: 0.5420 - loss: 0.6894 - val_accuracy: 0.5375 - val_loss: 0.6925\n",
      "Epoch 10/10\n",
      "\u001b[1m6/6\u001b[0m \u001b[32m━━━━━━━━━━━━━━━━━━━━\u001b[0m\u001b[37m\u001b[0m \u001b[1m0s\u001b[0m 7ms/step - accuracy: 0.5674 - loss: 0.6881 - val_accuracy: 0.5375 - val_loss: 0.6926\n"
     ]
    },
    {
     "data": {
      "text/plain": [
       "<keras.src.callbacks.history.History at 0x2d4d6a5d0>"
      ]
     },
     "execution_count": 191,
     "metadata": {},
     "output_type": "execute_result"
    }
   ],
   "source": [
    "model_GRU = Sequential()\n",
    "model_GRU.add(Embedding(10000,8))\n",
    "model_GRU.add(GRU(32))\n",
    "model_GRU.add(Dense(1, activation='sigmoid'))\n",
    "model_GRU.compile(optimizer='adam', loss='binary_crossentropy',\n",
    "                  metrics=['accuracy'])\n",
    "model_GRU.fit(X_train_NN, Y_train, epochs=10, batch_size=32,\n",
    "              validation_split=0.3)"
   ]
  },
  {
   "cell_type": "code",
   "execution_count": 192,
   "id": "d0a6c94a",
   "metadata": {},
   "outputs": [
    {
     "name": "stdout",
     "output_type": "stream",
     "text": [
      "\u001b[1m9/9\u001b[0m \u001b[32m━━━━━━━━━━━━━━━━━━━━\u001b[0m\u001b[37m\u001b[0m \u001b[1m0s\u001b[0m 13ms/step\n",
      "\u001b[1m4/4\u001b[0m \u001b[32m━━━━━━━━━━━━━━━━━━━━\u001b[0m\u001b[37m\u001b[0m \u001b[1m0s\u001b[0m 1ms/step \n"
     ]
    }
   ],
   "source": [
    "Y_train_pred = pd.Series(model_GRU.predict(X_train_NN).flatten()).apply(threshold)\n",
    "Y_test_pred = pd.Series(model_GRU.predict(X_test_NN).flatten()).apply(threshold)"
   ]
  },
  {
   "cell_type": "code",
   "execution_count": 193,
   "id": "e3d17a75",
   "metadata": {},
   "outputs": [
    {
     "name": "stdout",
     "output_type": "stream",
     "text": [
      "              precision    recall  f1-score   support\n",
      "\n",
      "           0       0.58      0.45      0.50       132\n",
      "           1       0.55      0.68      0.61       134\n",
      "\n",
      "    accuracy                           0.56       266\n",
      "   macro avg       0.57      0.56      0.56       266\n",
      "weighted avg       0.57      0.56      0.56       266\n",
      "\n",
      "              precision    recall  f1-score   support\n",
      "\n",
      "           0       0.50      0.47      0.48        58\n",
      "           1       0.48      0.52      0.50        56\n",
      "\n",
      "    accuracy                           0.49       114\n",
      "   macro avg       0.49      0.49      0.49       114\n",
      "weighted avg       0.49      0.49      0.49       114\n",
      "\n"
     ]
    }
   ],
   "source": [
    "print(classification_report(Y_train, Y_train_pred))\n",
    "print(classification_report(Y_test, Y_test_pred))"
   ]
  },
  {
   "cell_type": "markdown",
   "id": "44211e16",
   "metadata": {},
   "source": [
    "----"
   ]
  },
  {
   "cell_type": "markdown",
   "id": "98764f06",
   "metadata": {},
   "source": [
    "# 개별미션\n",
    "\n",
    "- 아래의 미션을 Jupyter Notebook으로 풀이 후, [File] - [Download as]에 [HTML (.html] 로 저장하여 메일로 송부해주세요.\n",
    "- 제출 양식 : [하나은행_데이터] 홍길동_개별 미션 (12주차 3일)"
   ]
  },
  {
   "cell_type": "markdown",
   "id": "1ccb25e0",
   "metadata": {},
   "source": [
    "- '34_Data.xlsx' 파일을 불러와 아래의 분석을 수행하시오.\n",
    "- 해당 데이터는 2011년도부터 2013년도까지 국내 기업의 신용 대출 관련 데이터이다.\n",
    "- 업력의 단위는 연도 이며, 자본금과 대출금액 단위는 백만원이다.\n",
    "- 진행상태는 대출 승인 여부를 나타내며, 여신 승인은 대출 승인, 여신 거부는 대출 거부를 뜻한다."
   ]
  },
  {
   "cell_type": "code",
   "execution_count": 262,
   "id": "e6bc5da4",
   "metadata": {},
   "outputs": [],
   "source": [
    "from collections import Counter"
   ]
  },
  {
   "cell_type": "code",
   "execution_count": 263,
   "id": "d7089328",
   "metadata": {},
   "outputs": [],
   "source": [
    "df1 = pd.read_excel('34_Data.xlsx')"
   ]
  },
  {
   "cell_type": "markdown",
   "id": "4dcdba17",
   "metadata": {},
   "source": [
    "1. 대출 승인이 된 기업 중, 자본금이 가장 많은 100개 기업에 대하여 추출하고, 해당 기업의 기술명 중 가장 빈도수가 높은 단어를 확인하시오."
   ]
  },
  {
   "cell_type": "code",
   "execution_count": 264,
   "id": "68da8ec6",
   "metadata": {},
   "outputs": [
    {
     "data": {
      "text/plain": [
       "진행상태\n",
       "여신승인    1628\n",
       "여신거부     385\n",
       "투자연계       2\n",
       "Name: count, dtype: int64"
      ]
     },
     "execution_count": 264,
     "metadata": {},
     "output_type": "execute_result"
    }
   ],
   "source": [
    "df1['진행상태'].value_counts()"
   ]
  },
  {
   "cell_type": "code",
   "execution_count": 265,
   "id": "4cdd848f",
   "metadata": {},
   "outputs": [],
   "source": [
    "df2 = df1[df1['진행상태']=='여신승인']"
   ]
  },
  {
   "cell_type": "code",
   "execution_count": 266,
   "id": "0cea162a",
   "metadata": {},
   "outputs": [],
   "source": [
    "top_100_companies = df2.nlargest(100, '자본금')"
   ]
  },
  {
   "cell_type": "code",
   "execution_count": 267,
   "id": "0a11d267",
   "metadata": {},
   "outputs": [],
   "source": [
    "all_technologies = ' '.join(top_100_companies['기술명'])"
   ]
  },
  {
   "cell_type": "code",
   "execution_count": 268,
   "id": "f72fa1ac",
   "metadata": {
    "collapsed": true
   },
   "outputs": [
    {
     "data": {
      "text/plain": [
       "Counter({'및': 23,\n",
       "         '개발': 18,\n",
       "         '기술': 16,\n",
       "         '제조': 15,\n",
       "         '이용한': 7,\n",
       "         '사업': 6,\n",
       "         '제작': 5,\n",
       "         '시스템': 4,\n",
       "         '통한': 4,\n",
       "         '가공': 4,\n",
       "         '솔루션': 3,\n",
       "         '친환경': 3,\n",
       "         'LCD': 3,\n",
       "         '장치': 3,\n",
       "         '서비스': 3,\n",
       "         '플랫폼': 3,\n",
       "         '패널': 3,\n",
       "         '설계': 3,\n",
       "         '시멘트': 2,\n",
       "         '조성물': 2,\n",
       "         '부품': 2,\n",
       "         '위한': 2,\n",
       "         '포함한': 2,\n",
       "         '자동차용': 2,\n",
       "         '제품': 2,\n",
       "         '기능성': 2,\n",
       "         '제작기술': 2,\n",
       "         '글로벌': 2,\n",
       "         '개발을': 2,\n",
       "         '교육': 2,\n",
       "         '모듈': 2,\n",
       "         '차량용': 2,\n",
       "         '기반': 2,\n",
       "         '제조방법': 2,\n",
       "         '분쇄': 2,\n",
       "         'PIPE': 2,\n",
       "         '생산': 2,\n",
       "         '송전선': 2,\n",
       "         '가지는': 2,\n",
       "         '스크린': 2,\n",
       "         '패키지': 2,\n",
       "         '지능형': 2,\n",
       "         '보안': 2,\n",
       "         '저발열': 1,\n",
       "         '저수축': 1,\n",
       "         '선박용': 1,\n",
       "         '위성통신': 1,\n",
       "         '안테나': 1,\n",
       "         '경유': 1,\n",
       "         '차량의': 1,\n",
       "         'CNG': 1,\n",
       "         '전소': 1,\n",
       "         'LNG': 1,\n",
       "         '혼소': 1,\n",
       "         '차량개조': 1,\n",
       "         '무백래쉬': 1,\n",
       "         '감속기': 1,\n",
       "         'k21': 1,\n",
       "         '차기보병전투장갑차': 1,\n",
       "         '조준경용': 1,\n",
       "         '탐지기-냉각기': 1,\n",
       "         '원재료': 1,\n",
       "         '특성화': 1,\n",
       "         '풍력발전용': 1,\n",
       "         '요소': 1,\n",
       "         '중': 1,\n",
       "         '타워': 1,\n",
       "         'OLED': 1,\n",
       "         '증착장비': 1,\n",
       "         'Automotive': 1,\n",
       "         'Glass': 1,\n",
       "         'Analysis': 1,\n",
       "         'Viewer': 1,\n",
       "         'System': 1,\n",
       "         '기업': 1,\n",
       "         '모빌리티': 1,\n",
       "         '환경': 1,\n",
       "         '구축을': 1,\n",
       "         '비자전': 1,\n",
       "         'Wire': 1,\n",
       "         'Rope': 1,\n",
       "         '아동가구': 1,\n",
       "         '디스펜서용': 1,\n",
       "         '펌프': 1,\n",
       "         '디스펜서': 1,\n",
       "         '상용차를': 1,\n",
       "         '클린디젤,': 1,\n",
       "         '그린카용': 1,\n",
       "         '주조부품': 1,\n",
       "         'SP-JOINT(스테인레스': 1,\n",
       "         '이중링': 1,\n",
       "         '프레스타입': 1,\n",
       "         '배관재)': 1,\n",
       "         '반도체': 1,\n",
       "         '칩/여러': 1,\n",
       "         '기타': 1,\n",
       "         '모듈(카메라,': 1,\n",
       "         '등)': 1,\n",
       "         '테스트': 1,\n",
       "         '치과용': 1,\n",
       "         '임플란트': 1,\n",
       "         '오리고기를': 1,\n",
       "         '한끼': 1,\n",
       "         '식사용': 1,\n",
       "         '멸균': 1,\n",
       "         '레토르트': 1,\n",
       "         '돼지': 1,\n",
       "         '가금': 1,\n",
       "         '혈청': 1,\n",
       "         '진단용': 1,\n",
       "         'ELISA': 1,\n",
       "         'TU': 1,\n",
       "         'BEAM': 1,\n",
       "         '제조기술': 1,\n",
       "         '온라인게임': 1,\n",
       "         '사업화': 1,\n",
       "         '수문': 1,\n",
       "         '인양': 1,\n",
       "         '산업용': 1,\n",
       "         '플랜지': 1,\n",
       "         '사이드': 1,\n",
       "         '미러': 1,\n",
       "         '자동차': 1,\n",
       "         '헤드실린더': 1,\n",
       "         '연동': 1,\n",
       "         '이중': 1,\n",
       "         '고정': 1,\n",
       "         '구조의': 1,\n",
       "         '포장용': 1,\n",
       "         '박스': 1,\n",
       "         '전동': 1,\n",
       "         '청소차의': 1,\n",
       "         'PMAC': 1,\n",
       "         '전동기': 1,\n",
       "         '일반': 1,\n",
       "         '전동차량': 1,\n",
       "         'RRH': 1,\n",
       "         'DMR(Dual': 1,\n",
       "         'Mode': 1,\n",
       "         'Repeater)': 1,\n",
       "         '등의': 1,\n",
       "         '중계기': 1,\n",
       "         '시매쓰,': 1,\n",
       "         '루트원': 1,\n",
       "         '다모': 1,\n",
       "         '개폐기,': 1,\n",
       "         '차단기용': 1,\n",
       "         'VI': 1,\n",
       "         '에폭시': 1,\n",
       "         '몰딩': 1,\n",
       "         '건설기계용': 1,\n",
       "         '유압튜브': 1,\n",
       "         '조합품': 1,\n",
       "         '실시간': 1,\n",
       "         '모니터링': 1,\n",
       "         '다기능': 1,\n",
       "         '경혈자극기기': 1,\n",
       "         '도요타': 1,\n",
       "         '납품용': 1,\n",
       "         '룸미러': 1,\n",
       "         '내장': 1,\n",
       "         '블랙박스': 1,\n",
       "         'NdFeB': 1,\n",
       "         '희토류': 1,\n",
       "         '본드자석을': 1,\n",
       "         'iso': 1,\n",
       "         'tropic': 1,\n",
       "         '본드자석': 1,\n",
       "         '공법': 1,\n",
       "         '굴삭기부품(Boom,': 1,\n",
       "         'Arm)': 1,\n",
       "         '풍력발전부품': 1,\n",
       "         '클라우드': 1,\n",
       "         '광고서비스': 1,\n",
       "         '(mobile': 1,\n",
       "         'ad)': 1,\n",
       "         '키오스크': 1,\n",
       "         '전자상거래': 1,\n",
       "         '충전재를': 1,\n",
       "         '2중': 1,\n",
       "         '강상자형교(FS': 1,\n",
       "         '거더교)': 1,\n",
       "         '방송콘텐츠': 1,\n",
       "         'PVC': 1,\n",
       "         '대체': 1,\n",
       "         '폴리올레핀계': 1,\n",
       "         '바닥재': 1,\n",
       "         '나선형': 1,\n",
       "         '덕트의': 1,\n",
       "         '엘보우': 1,\n",
       "         '수평이': 1,\n",
       "         '자동으로': 1,\n",
       "         '조절되는': 1,\n",
       "         '검안': 1,\n",
       "         '호롭터': 1,\n",
       "         '불량': 1,\n",
       "         '재처리용': 1,\n",
       "         '화학약품의': 1,\n",
       "         '폐액을': 1,\n",
       "         '정제': 1,\n",
       "         '재생하는': 1,\n",
       "         '방법': 1,\n",
       "         'Display': 1,\n",
       "         'coating': 1,\n",
       "         'plate': 1,\n",
       "         '2차전지의': 1,\n",
       "         '안전변': 1,\n",
       "         '어셈블리': 1,\n",
       "         '신재생에너지용': 1,\n",
       "         'PWM': 1,\n",
       "         'Converter': 1,\n",
       "         '부하용': 1,\n",
       "         '변압기': 1,\n",
       "         '생석회': 1,\n",
       "         '고순도': 1,\n",
       "         '오메가3를': 1,\n",
       "         '의약': 1,\n",
       "         '원료': 1,\n",
       "         '광도파로': 1,\n",
       "         '소자(수동형': 1,\n",
       "         '광소자)': 1,\n",
       "         '난연성': 1,\n",
       "         '스티로폼': 1,\n",
       "         '그': 1,\n",
       "         '즉석': 1,\n",
       "         '냉동': 1,\n",
       "         '과즙': 1,\n",
       "         '음료': 1,\n",
       "         '용기': 1,\n",
       "         'INCOZY': 1,\n",
       "         'COVER(E-GLASS': 1,\n",
       "         'FIBER': 1,\n",
       "         'COVER)': 1,\n",
       "         '고분자': 1,\n",
       "         '수지와': 1,\n",
       "         '무기': 1,\n",
       "         '안료를': 1,\n",
       "         '바닥마감': 1,\n",
       "         '처리용': 1,\n",
       "         '무선통신': 1,\n",
       "         '모뎀': 1,\n",
       "         '개발(SKT/KT/수출용)': 1,\n",
       "         '고속산화기': 1,\n",
       "         '등을': 1,\n",
       "         '폐수처리': 1,\n",
       "         '공정기술': 1,\n",
       "         '휴대전화용': 1,\n",
       "         'FPCB': 1,\n",
       "         '기판': 1,\n",
       "         '위에': 1,\n",
       "         '전자부품을': 1,\n",
       "         '실장하는': 1,\n",
       "         'SMT': 1,\n",
       "         '제조공정': 1,\n",
       "         '고질소': 1,\n",
       "         '강선': 1,\n",
       "         '이를': 1,\n",
       "         'Single': 1,\n",
       "         'layer': 1,\n",
       "         'ITO': 1,\n",
       "         '패널을': 1,\n",
       "         '멀티터치': 1,\n",
       "         '모듈(칩)': 1,\n",
       "         '금형': 1,\n",
       "         '오디오+네비게이션+라디오+공조': 1,\n",
       "         '통합기기': 1,\n",
       "         '부속품': 1,\n",
       "         'LFG': 1,\n",
       "         '발전용': 1,\n",
       "         '발전기': 1,\n",
       "         '구성': 1,\n",
       "         '개통연계': 1,\n",
       "         '대형': 1,\n",
       "         '프레임구조를': 1,\n",
       "         '적용한': 1,\n",
       "         '대용량': 1,\n",
       "         '태양열': 1,\n",
       "         '평판형': 1,\n",
       "         '집열판': 1,\n",
       "         '제습': 1,\n",
       "         '지열원식': 1,\n",
       "         '냉난방': 1,\n",
       "         '히트펌프': 1,\n",
       "         '음악게임': 1,\n",
       "         '저작툴을': 1,\n",
       "         '오투잼': 1,\n",
       "         '구축': 1,\n",
       "         '3차원': 1,\n",
       "         '전자인식기술을': 1,\n",
       "         '기반으로': 1,\n",
       "         '한': 1,\n",
       "         '입력장치(가상키보드)': 1,\n",
       "         '원자력발전소': 1,\n",
       "         '철근콘크리트': 1,\n",
       "         '구조물': 1,\n",
       "         '형성용': 1,\n",
       "         '유로폼': 1,\n",
       "         '광센서': 1,\n",
       "         '일체형': 1,\n",
       "         '소음진동': 1,\n",
       "         '방지': 1,\n",
       "         '건축음향': 1,\n",
       "         '제품의': 1,\n",
       "         '개발과': 1,\n",
       "         '실용화': 1,\n",
       "         '위험감지': 1,\n",
       "         '상황인지': 1,\n",
       "         '통합': 1,\n",
       "         '센서시스템': 1,\n",
       "         '고효율': 1,\n",
       "         '열교환기': 1,\n",
       "         '방폭': 1,\n",
       "         '창호용': 1,\n",
       "         '충격': 1,\n",
       "         '흡수장치': 1,\n",
       "         '공기': 1,\n",
       "         '구동형': 1,\n",
       "         '헬리컬': 1,\n",
       "         '트림': 1,\n",
       "         '제어밸브': 1,\n",
       "         '제3세대': 1,\n",
       "         '심장조영제': 1,\n",
       "         'Tc99m': 1,\n",
       "         'EDA-ESM': 1,\n",
       "         '혁신': 1,\n",
       "         '신약': 1,\n",
       "         '침구류': 1,\n",
       "         '규칙(Rule)기반': 1,\n",
       "         'BIM': 1,\n",
       "         'WI-FI': 1,\n",
       "         'PHONE': 1,\n",
       "         '터치': 1,\n",
       "         '칩': 1,\n",
       "         '라멘식': 1,\n",
       "         '구조형태의': 1,\n",
       "         '주차장': 1,\n",
       "         '건축물': 1,\n",
       "         '온라인': 1,\n",
       "         'PC': 1,\n",
       "         '솔루션(NOS)': 1,\n",
       "         '(nProtect': 1,\n",
       "         'Online': 1,\n",
       "         'Security)': 1,\n",
       "         '다양한': 1,\n",
       "         '색상과': 1,\n",
       "         '모양을': 1,\n",
       "         '점토': 1,\n",
       "         '벽돌': 1,\n",
       "         '청정': 1,\n",
       "         '제주산': 1,\n",
       "         '농/수산물': 1,\n",
       "         '식자재': 1,\n",
       "         '웹': 1,\n",
       "         '어플리케이션': 1,\n",
       "         '증용량': 1,\n",
       "         '저이도': 1,\n",
       "         '저손실형': 1,\n",
       "         'LED': 1,\n",
       "         '금형을': 1,\n",
       "         '열교환기용': 1,\n",
       "         '나선튜브': 1,\n",
       "         'IPv6': 1,\n",
       "         '환경하에서': 1,\n",
       "         'IP': 1,\n",
       "         '주소': 1,\n",
       "         '통합관리시스템': 1,\n",
       "         'e-CAMS(형상관리)': 1,\n",
       "         '알루미늄합금': 1,\n",
       "         '소경봉의': 1,\n",
       "         '수평': 1,\n",
       "         '연속': 1,\n",
       "         '주조': 1,\n",
       "         '시매쓰(C-Math),': 1,\n",
       "         '루트원(Route1)': 1,\n",
       "         '다모(DAMO)': 1,\n",
       "         '차량': 1,\n",
       "         '영상기록': 1,\n",
       "         '중장비': 1,\n",
       "         '유압': 1,\n",
       "         '실린더': 1,\n",
       "         '비금속광물': 1,\n",
       "         '석회': 1,\n",
       "         '입상고토': 1,\n",
       "         '비료': 1,\n",
       "         '공정': 1,\n",
       "         '유기성': 1,\n",
       "         '잔재물': 1,\n",
       "         '축산분뇨를': 1,\n",
       "         '유기질비료': 1,\n",
       "         '열처리': 1,\n",
       "         '강': 1,\n",
       "         '2중홀의': 1,\n",
       "         '조도': 1,\n",
       "         '정밀도를': 1,\n",
       "         '높이기': 1,\n",
       "         '서멧리머': 1,\n",
       "         '양산': 1,\n",
       "         '스마트폰': 1,\n",
       "         '모바일': 1,\n",
       "         'CCTV': 1,\n",
       "         '상황관제': 1,\n",
       "         '통신형': 1,\n",
       "         '전원': 1,\n",
       "         '마그네틱': 1,\n",
       "         '커넥터': 1,\n",
       "         '대기전력': 1,\n",
       "         '저감용': 1,\n",
       "         '그린': 1,\n",
       "         '아답터': 1})"
      ]
     },
     "execution_count": 268,
     "metadata": {},
     "output_type": "execute_result"
    }
   ],
   "source": [
    "Counter(all_technologies.split())"
   ]
  },
  {
   "cell_type": "markdown",
   "id": "a75c21b6",
   "metadata": {},
   "source": [
    "----"
   ]
  },
  {
   "cell_type": "markdown",
   "id": "c0dbca44",
   "metadata": {},
   "source": [
    "2. 기업의 설립일을 이용해, 기업의 업력 (설립 후 현재까지 지속된 기간 / 연도)을 계산하고, 대출 승인여부에 따른 기업 업력의 대표값의 차이가 있는지 검정하시오."
   ]
  },
  {
   "cell_type": "code",
   "execution_count": 269,
   "id": "580960c7",
   "metadata": {},
   "outputs": [],
   "source": [
    "import numpy as np\n",
    "import plotly.express as px\n",
    "import scipy.stats as stats"
   ]
  },
  {
   "cell_type": "code",
   "execution_count": 270,
   "id": "279b37b3",
   "metadata": {},
   "outputs": [],
   "source": [
    "df1['설립일_dt'] = pd.to_datetime(df1['설립일'])"
   ]
  },
  {
   "cell_type": "code",
   "execution_count": 271,
   "id": "95446605",
   "metadata": {},
   "outputs": [],
   "source": [
    "current_date = pd.to_datetime('now')"
   ]
  },
  {
   "cell_type": "code",
   "execution_count": 272,
   "id": "5996b5e5",
   "metadata": {},
   "outputs": [],
   "source": [
    "def func2(establishment):\n",
    "    term = (current_date - establishment).days / 365\n",
    "    return term"
   ]
  },
  {
   "cell_type": "code",
   "execution_count": 273,
   "id": "996f89ae",
   "metadata": {},
   "outputs": [],
   "source": [
    "df1['업력'] = df1['설립일_dt'].apply(func2)"
   ]
  },
  {
   "cell_type": "code",
   "execution_count": 274,
   "id": "f6f4a87d",
   "metadata": {},
   "outputs": [],
   "source": [
    "cond1 = (df1['진행상태']=='여신승인')\n",
    "\n",
    "a1 = df1.loc[cond1]\n",
    "a2 = df1.loc[~cond1]"
   ]
  },
  {
   "cell_type": "code",
   "execution_count": 275,
   "id": "d16178ea",
   "metadata": {},
   "outputs": [
    {
     "data": {
      "text/plain": [
       "RanksumsResult(statistic=3.609735172635461, pvalue=0.0003065097757821546)"
      ]
     },
     "execution_count": 275,
     "metadata": {},
     "output_type": "execute_result"
    }
   ],
   "source": [
    "# 귀무 가설 : 대출 승인여부에 따른 기업 업력의 대표값의 차이가 없다\n",
    "# 대립 가설 : 대출 승인여부에 따른 기업 업력의 대표값의 차이가 있다\n",
    "\n",
    "stats.ranksums(a1['업력'], a2['업력'])\n",
    "\n",
    "# P.value< 0.05/ 대립가설 참\n",
    "# 대출 승인여부에 따른 기업 업력의 대표값의 차이가 있다"
   ]
  },
  {
   "cell_type": "markdown",
   "id": "1fb925df",
   "metadata": {},
   "source": [
    "---"
   ]
  },
  {
   "cell_type": "markdown",
   "id": "5db040b6",
   "metadata": {},
   "source": [
    "3. 기업 평가등급과 대출 승인여부의 유의미한 차이가 있는지 가설 검정을 수행하고, 대출 승인 비율을 각 평가 등급 별로 계산하시오."
   ]
  },
  {
   "cell_type": "code",
   "execution_count": 276,
   "id": "eb9bb23a",
   "metadata": {},
   "outputs": [],
   "source": [
    "df1 = df1[df1['진행상태']!='투자연계']"
   ]
  },
  {
   "cell_type": "code",
   "execution_count": 277,
   "id": "f4f32982",
   "metadata": {},
   "outputs": [],
   "source": [
    "# 두 범주형 데이터 -> 서로 연관성 있는지? (독립성 검정)"
   ]
  },
  {
   "cell_type": "code",
   "execution_count": 278,
   "id": "7bb7fd59",
   "metadata": {
    "collapsed": true
   },
   "outputs": [
    {
     "data": {
      "text/html": [
       "<div>\n",
       "<style scoped>\n",
       "    .dataframe tbody tr th:only-of-type {\n",
       "        vertical-align: middle;\n",
       "    }\n",
       "\n",
       "    .dataframe tbody tr th {\n",
       "        vertical-align: top;\n",
       "    }\n",
       "\n",
       "    .dataframe thead th {\n",
       "        text-align: right;\n",
       "    }\n",
       "</style>\n",
       "<table border=\"1\" class=\"dataframe\">\n",
       "  <thead>\n",
       "    <tr style=\"text-align: right;\">\n",
       "      <th>진행상태</th>\n",
       "      <th>여신거부</th>\n",
       "      <th>여신승인</th>\n",
       "    </tr>\n",
       "    <tr>\n",
       "      <th>평가등급</th>\n",
       "      <th></th>\n",
       "      <th></th>\n",
       "    </tr>\n",
       "  </thead>\n",
       "  <tbody>\n",
       "    <tr>\n",
       "      <th>A</th>\n",
       "      <td>53</td>\n",
       "      <td>238</td>\n",
       "    </tr>\n",
       "    <tr>\n",
       "      <th>AA</th>\n",
       "      <td>14</td>\n",
       "      <td>66</td>\n",
       "    </tr>\n",
       "    <tr>\n",
       "      <th>AAA</th>\n",
       "      <td>0</td>\n",
       "      <td>2</td>\n",
       "    </tr>\n",
       "    <tr>\n",
       "      <th>B</th>\n",
       "      <td>108</td>\n",
       "      <td>429</td>\n",
       "    </tr>\n",
       "    <tr>\n",
       "      <th>BB</th>\n",
       "      <td>91</td>\n",
       "      <td>461</td>\n",
       "    </tr>\n",
       "    <tr>\n",
       "      <th>BBB</th>\n",
       "      <td>94</td>\n",
       "      <td>428</td>\n",
       "    </tr>\n",
       "    <tr>\n",
       "      <th>C</th>\n",
       "      <td>1</td>\n",
       "      <td>0</td>\n",
       "    </tr>\n",
       "    <tr>\n",
       "      <th>CCC</th>\n",
       "      <td>2</td>\n",
       "      <td>1</td>\n",
       "    </tr>\n",
       "    <tr>\n",
       "      <th>T1</th>\n",
       "      <td>0</td>\n",
       "      <td>1</td>\n",
       "    </tr>\n",
       "    <tr>\n",
       "      <th>T2</th>\n",
       "      <td>1</td>\n",
       "      <td>0</td>\n",
       "    </tr>\n",
       "    <tr>\n",
       "      <th>T2/AA</th>\n",
       "      <td>6</td>\n",
       "      <td>0</td>\n",
       "    </tr>\n",
       "    <tr>\n",
       "      <th>T3/A</th>\n",
       "      <td>6</td>\n",
       "      <td>0</td>\n",
       "    </tr>\n",
       "    <tr>\n",
       "      <th>T4</th>\n",
       "      <td>1</td>\n",
       "      <td>0</td>\n",
       "    </tr>\n",
       "    <tr>\n",
       "      <th>T4/BBB</th>\n",
       "      <td>5</td>\n",
       "      <td>1</td>\n",
       "    </tr>\n",
       "    <tr>\n",
       "      <th>T6/B</th>\n",
       "      <td>2</td>\n",
       "      <td>0</td>\n",
       "    </tr>\n",
       "    <tr>\n",
       "      <th>T7/CCC</th>\n",
       "      <td>0</td>\n",
       "      <td>1</td>\n",
       "    </tr>\n",
       "    <tr>\n",
       "      <th>T8/CC</th>\n",
       "      <td>1</td>\n",
       "      <td>0</td>\n",
       "    </tr>\n",
       "  </tbody>\n",
       "</table>\n",
       "</div>"
      ],
      "text/plain": [
       "진행상태    여신거부  여신승인\n",
       "평가등급              \n",
       "A         53   238\n",
       "AA        14    66\n",
       "AAA        0     2\n",
       "B        108   429\n",
       "BB        91   461\n",
       "BBB       94   428\n",
       "C          1     0\n",
       "CCC        2     1\n",
       "T1         0     1\n",
       "T2         1     0\n",
       "T2/AA      6     0\n",
       "T3/A       6     0\n",
       "T4         1     0\n",
       "T4/BBB     5     1\n",
       "T6/B       2     0\n",
       "T7/CCC     0     1\n",
       "T8/CC      1     0"
      ]
     },
     "execution_count": 278,
     "metadata": {},
     "output_type": "execute_result"
    }
   ],
   "source": [
    "df1_cross = pd.crosstab(df1['평가등급'], df1['진행상태'])\n",
    "df1_cross"
   ]
  },
  {
   "cell_type": "code",
   "execution_count": 279,
   "id": "e9235fc3",
   "metadata": {},
   "outputs": [
    {
     "data": {
      "text/plain": [
       "2.272613518043929e-14"
      ]
     },
     "execution_count": 279,
     "metadata": {},
     "output_type": "execute_result"
    }
   ],
   "source": [
    "# 독립성 검정 (Chi2 Test)\n",
    "# 귀무가설 : 두 데이터는 서로 독립이다. (기업평가등급에 따라 승인여부의 비율이 같을것)\n",
    "# 대립가설 : 두 데이터는 서로 연관성 있다.(기업평가등급에 따라 승인여부의 비율이 같을것 달라짐)\n",
    "stats.chi2_contingency(df1_cross)[1]\n",
    "# P.value < 0.05 / 대립가설 참 / 두 데이터는 서로 연관성 있다"
   ]
  },
  {
   "cell_type": "markdown",
   "id": "702d3d4b",
   "metadata": {},
   "source": [
    "---"
   ]
  },
  {
   "cell_type": "markdown",
   "id": "9f8dc647",
   "metadata": {},
   "source": [
    "4. 여신승인 된 기업 중, 자본금과 대출금액의 합이 가장 높은 10개 기업을 확인하시오."
   ]
  },
  {
   "cell_type": "code",
   "execution_count": 280,
   "id": "89a17210",
   "metadata": {
    "collapsed": true
   },
   "outputs": [
    {
     "name": "stderr",
     "output_type": "stream",
     "text": [
      "/var/folders/q9/51yx3nc91mq6crjc81y6g1wm0000gn/T/ipykernel_43751/1691022724.py:1: UserWarning:\n",
      "\n",
      "Boolean Series key will be reindexed to match DataFrame index.\n",
      "\n"
     ]
    }
   ],
   "source": [
    "df2 = df1[cond1]"
   ]
  },
  {
   "cell_type": "code",
   "execution_count": 281,
   "id": "10507479",
   "metadata": {},
   "outputs": [
    {
     "data": {
      "text/plain": [
       "Index(['회사명', '기술명', '기술분류', '설립일', '신청일', '평가기관', '평가등급', '신청은행', '진행상태',\n",
       "       '대출금액', '자본금', '설립일_dt', '업력'],\n",
       "      dtype='object')"
      ]
     },
     "execution_count": 281,
     "metadata": {},
     "output_type": "execute_result"
    }
   ],
   "source": [
    "df2.columns"
   ]
  },
  {
   "cell_type": "code",
   "execution_count": 282,
   "id": "66217fd1",
   "metadata": {},
   "outputs": [
    {
     "data": {
      "text/plain": [
       "0"
      ]
     },
     "execution_count": 282,
     "metadata": {},
     "output_type": "execute_result"
    }
   ],
   "source": [
    "df2['자본금'].isnull().sum()"
   ]
  },
  {
   "cell_type": "code",
   "execution_count": 283,
   "id": "dc093b52",
   "metadata": {},
   "outputs": [
    {
     "data": {
      "text/plain": [
       "0"
      ]
     },
     "execution_count": 283,
     "metadata": {},
     "output_type": "execute_result"
    }
   ],
   "source": [
    "df2['대출금액'].isnull().sum()"
   ]
  },
  {
   "cell_type": "code",
   "execution_count": 284,
   "id": "277d47f3",
   "metadata": {
    "collapsed": true
   },
   "outputs": [
    {
     "name": "stderr",
     "output_type": "stream",
     "text": [
      "/var/folders/q9/51yx3nc91mq6crjc81y6g1wm0000gn/T/ipykernel_43751/1631122960.py:1: SettingWithCopyWarning:\n",
      "\n",
      "\n",
      "A value is trying to be set on a copy of a slice from a DataFrame.\n",
      "Try using .loc[row_indexer,col_indexer] = value instead\n",
      "\n",
      "See the caveats in the documentation: https://pandas.pydata.org/pandas-docs/stable/user_guide/indexing.html#returning-a-view-versus-a-copy\n",
      "\n",
      "/var/folders/q9/51yx3nc91mq6crjc81y6g1wm0000gn/T/ipykernel_43751/1631122960.py:2: SettingWithCopyWarning:\n",
      "\n",
      "\n",
      "A value is trying to be set on a copy of a slice from a DataFrame.\n",
      "Try using .loc[row_indexer,col_indexer] = value instead\n",
      "\n",
      "See the caveats in the documentation: https://pandas.pydata.org/pandas-docs/stable/user_guide/indexing.html#returning-a-view-versus-a-copy\n",
      "\n"
     ]
    }
   ],
   "source": [
    "df2['자본금'] = pd.to_numeric(df2['자본금'], errors='coerce')\n",
    "df2['대출금액'] = pd.to_numeric(df2['대출금액'], errors='coerce')"
   ]
  },
  {
   "cell_type": "code",
   "execution_count": 285,
   "id": "65c552b3",
   "metadata": {},
   "outputs": [
    {
     "name": "stderr",
     "output_type": "stream",
     "text": [
      "/var/folders/q9/51yx3nc91mq6crjc81y6g1wm0000gn/T/ipykernel_43751/413764685.py:1: SettingWithCopyWarning:\n",
      "\n",
      "\n",
      "A value is trying to be set on a copy of a slice from a DataFrame.\n",
      "Try using .loc[row_indexer,col_indexer] = value instead\n",
      "\n",
      "See the caveats in the documentation: https://pandas.pydata.org/pandas-docs/stable/user_guide/indexing.html#returning-a-view-versus-a-copy\n",
      "\n"
     ]
    }
   ],
   "source": [
    "df2['자본금및대출금액'] = df2['자본금'] + df2['대출금액']"
   ]
  },
  {
   "cell_type": "code",
   "execution_count": 286,
   "id": "3f4175c1",
   "metadata": {},
   "outputs": [
    {
     "data": {
      "text/plain": [
       "1691    엔프로그기공\n",
       "447     클로벳모터스\n",
       "1494    엔프로그물산\n",
       "1943     텍틱스제약\n",
       "1802    슈터스모터스\n",
       "1527     하나로무역\n",
       "767       DS제약\n",
       "1410    세계로연구소\n",
       "1468     투비원제약\n",
       "1318     포텐셜기공\n",
       "Name: 회사명, dtype: object"
      ]
     },
     "execution_count": 286,
     "metadata": {},
     "output_type": "execute_result"
    }
   ],
   "source": [
    "df2.nlargest(10, '자본금및대출금액')['회사명']"
   ]
  },
  {
   "cell_type": "markdown",
   "id": "0992d60c",
   "metadata": {},
   "source": [
    "----"
   ]
  },
  {
   "cell_type": "markdown",
   "id": "4162ecad",
   "metadata": {},
   "source": [
    "5. 기술 분류에 '기계'에 해당하는 기업의 기술명을 단어표현을 통해, '반도체'라는 단어와 가장 유사한 단어들이 무엇이 있는지 확인하시오."
   ]
  },
  {
   "cell_type": "code",
   "execution_count": 290,
   "id": "eb525e42",
   "metadata": {},
   "outputs": [],
   "source": [
    "df3 = df1[df1['기술분류']=='기계']"
   ]
  },
  {
   "cell_type": "code",
   "execution_count": 291,
   "id": "e58e2c46",
   "metadata": {},
   "outputs": [
    {
     "data": {
      "text/plain": [
       "Index(['회사명', '기술명', '기술분류', '설립일', '신청일', '평가기관', '평가등급', '신청은행', '진행상태',\n",
       "       '대출금액', '자본금', '설립일_dt', '업력'],\n",
       "      dtype='object')"
      ]
     },
     "execution_count": 291,
     "metadata": {},
     "output_type": "execute_result"
    }
   ],
   "source": [
    "df3.columns"
   ]
  },
  {
   "cell_type": "code",
   "execution_count": 292,
   "id": "14ebff4d",
   "metadata": {},
   "outputs": [],
   "source": [
    "from gensim.models import Word2Vec"
   ]
  },
  {
   "cell_type": "code",
   "execution_count": 293,
   "id": "4e6e5e93",
   "metadata": {},
   "outputs": [],
   "source": [
    "words = [tech.split() for tech in df3['기술명']]"
   ]
  },
  {
   "cell_type": "code",
   "execution_count": 294,
   "id": "e8cf2a03",
   "metadata": {},
   "outputs": [],
   "source": [
    "model = Word2Vec(words, min_count=1, sg=1)"
   ]
  },
  {
   "cell_type": "code",
   "execution_count": 295,
   "id": "55d630dc",
   "metadata": {
    "collapsed": true
   },
   "outputs": [
    {
     "data": {
      "text/plain": [
       "[('자동차', 0.34949690103530884),\n",
       " ('파쇄', 0.33571964502334595),\n",
       " ('하드코어', 0.32631921768188477),\n",
       " ('칼라', 0.3222261965274811),\n",
       " ('생산공정', 0.2928478717803955),\n",
       " ('제조용', 0.27477023005485535),\n",
       " ('발전기', 0.2701660096645355),\n",
       " ('생산기', 0.25587841868400574),\n",
       " ('헤드라이닝', 0.2554756999015808),\n",
       " ('BEAM', 0.25113025307655334)]"
      ]
     },
     "execution_count": 295,
     "metadata": {},
     "output_type": "execute_result"
    }
   ],
   "source": [
    "model.wv.most_similar('반도체')"
   ]
  },
  {
   "cell_type": "markdown",
   "id": "e708911c",
   "metadata": {},
   "source": [
    "---"
   ]
  },
  {
   "cell_type": "markdown",
   "id": "0321f38d",
   "metadata": {},
   "source": [
    "6. 대출금액을 가장 많이 집행한 은행을 확인하고, 해당 은행이 어떤 기술분류에 대출금액을 가장 많이 집행했는지 계산하시오."
   ]
  },
  {
   "cell_type": "code",
   "execution_count": 297,
   "id": "896d8be4",
   "metadata": {},
   "outputs": [
    {
     "data": {
      "text/plain": [
       "Index(['회사명', '기술명', '기술분류', '설립일', '신청일', '평가기관', '평가등급', '신청은행', '진행상태',\n",
       "       '대출금액', '자본금', '설립일_dt', '업력'],\n",
       "      dtype='object')"
      ]
     },
     "execution_count": 297,
     "metadata": {},
     "output_type": "execute_result"
    }
   ],
   "source": [
    "df1.columns"
   ]
  },
  {
   "cell_type": "code",
   "execution_count": 299,
   "id": "e638651b",
   "metadata": {},
   "outputs": [],
   "source": [
    "df1['대출금액'] = pd.to_numeric(df1['대출금액'], errors='coerce')"
   ]
  },
  {
   "cell_type": "code",
   "execution_count": 303,
   "id": "9cef88a9",
   "metadata": {},
   "outputs": [
    {
     "data": {
      "text/plain": [
       "신청은행\n",
       "기업은행    104876.0\n",
       "Name: 대출금액, dtype: float64"
      ]
     },
     "execution_count": 303,
     "metadata": {},
     "output_type": "execute_result"
    }
   ],
   "source": [
    "df1.groupby('신청은행')['대출금액'].sum().sort_values(ascending=False).head(1)"
   ]
  },
  {
   "cell_type": "code",
   "execution_count": 306,
   "id": "303d0f25",
   "metadata": {},
   "outputs": [],
   "source": [
    "ex6 = df1[df1['신청은행'] == '기업은행']"
   ]
  },
  {
   "cell_type": "code",
   "execution_count": 308,
   "id": "8d72ec16",
   "metadata": {},
   "outputs": [
    {
     "data": {
      "text/plain": [
       "'기계'"
      ]
     },
     "execution_count": 308,
     "metadata": {},
     "output_type": "execute_result"
    }
   ],
   "source": [
    "ex6.groupby('기술분류')['대출금액'].sum().idxmax()"
   ]
  },
  {
   "cell_type": "markdown",
   "id": "185076cf",
   "metadata": {},
   "source": [
    "---"
   ]
  },
  {
   "cell_type": "markdown",
   "id": "edd2368f",
   "metadata": {},
   "source": [
    "7. '기술보증기금' 평가 기관에서 집행한 대출금액에 대한 합을 일별로 계산해, 기술 분류에 따라 나누어 시각화 하시오."
   ]
  },
  {
   "cell_type": "code",
   "execution_count": 321,
   "id": "5e282769",
   "metadata": {},
   "outputs": [],
   "source": [
    "import matplotlib.pyplot as plt\n",
    "plt.rcParams['font.family'] = 'AppleGothic'"
   ]
  },
  {
   "cell_type": "code",
   "execution_count": 311,
   "id": "44ef9e53",
   "metadata": {},
   "outputs": [],
   "source": [
    "df7 = df1[df1['평가기관']=='기술보증기금']"
   ]
  },
  {
   "cell_type": "code",
   "execution_count": 316,
   "id": "e17c8869",
   "metadata": {
    "collapsed": true
   },
   "outputs": [
    {
     "name": "stderr",
     "output_type": "stream",
     "text": [
      "/var/folders/q9/51yx3nc91mq6crjc81y6g1wm0000gn/T/ipykernel_43751/2890781117.py:1: SettingWithCopyWarning:\n",
      "\n",
      "\n",
      "A value is trying to be set on a copy of a slice from a DataFrame.\n",
      "Try using .loc[row_indexer,col_indexer] = value instead\n",
      "\n",
      "See the caveats in the documentation: https://pandas.pydata.org/pandas-docs/stable/user_guide/indexing.html#returning-a-view-versus-a-copy\n",
      "\n"
     ]
    }
   ],
   "source": [
    "df7['신청일_dt'] = pd.to_datetime(df7['신청일']).dt.date"
   ]
  },
  {
   "cell_type": "code",
   "execution_count": 317,
   "id": "36af7dc4",
   "metadata": {
    "collapsed": true
   },
   "outputs": [
    {
     "data": {
      "text/plain": [
       "신청일_dt\n",
       "2011-02-22    1340.0\n",
       "2011-02-23    1850.0\n",
       "2011-02-24    2329.0\n",
       "2011-02-25     410.0\n",
       "2011-02-28    1975.0\n",
       "               ...  \n",
       "2013-12-12       0.0\n",
       "2013-12-13       0.0\n",
       "2013-12-16      30.0\n",
       "2013-12-18       0.0\n",
       "2013-12-23       0.0\n",
       "Name: 대출금액, Length: 404, dtype: float64"
      ]
     },
     "execution_count": 317,
     "metadata": {},
     "output_type": "execute_result"
    }
   ],
   "source": [
    "df7.groupby('신청일_dt')['대출금액'].sum()"
   ]
  },
  {
   "cell_type": "code",
   "execution_count": 319,
   "id": "b222fbb0",
   "metadata": {},
   "outputs": [],
   "source": [
    "ex7 = df7.groupby(['신청일_dt', '기술분류'])['대출금액'].sum().unstack()"
   ]
  },
  {
   "cell_type": "code",
   "execution_count": 323,
   "id": "c22e8d8f",
   "metadata": {},
   "outputs": [
    {
     "data": {
      "text/plain": [
       "<Axes: xlabel='신청일_dt'>"
      ]
     },
     "execution_count": 323,
     "metadata": {},
     "output_type": "execute_result"
    },
    {
     "data": {
      "image/png": "[encoded data removed]",
      "text/plain": [
       "<Figure size 1200x600 with 1 Axes>"
      ]
     },
     "metadata": {},
     "output_type": "display_data"
    }
   ],
   "source": [
    "ex7.plot(kind='line', figsize=(12, 6))"
   ]
  },
  {
   "cell_type": "markdown",
   "id": "bf7ee39c",
   "metadata": {},
   "source": [
    "---"
   ]
  },
  {
   "cell_type": "markdown",
   "id": "bfa38ec0",
   "metadata": {},
   "source": [
    "8. '바이오 의료' 관련 기술을 가진 기업의 기술명에 대한 워드클라우드를 시각화 하시오."
   ]
  },
  {
   "cell_type": "code",
   "execution_count": 328,
   "id": "6f6acd17",
   "metadata": {},
   "outputs": [],
   "source": [
    "df8 = df1[df1['기술분류']=='바이오 의료']"
   ]
  },
  {
   "cell_type": "code",
   "execution_count": 331,
   "id": "c6f732bc",
   "metadata": {},
   "outputs": [],
   "source": [
    "text = ' '.join(df8['기술명'])"
   ]
  },
  {
   "cell_type": "code",
   "execution_count": 332,
   "id": "ca627f06",
   "metadata": {},
   "outputs": [],
   "source": [
    "from wordcloud import WordCloud"
   ]
  },
  {
   "cell_type": "code",
   "execution_count": 334,
   "id": "92a2e8a9",
   "metadata": {},
   "outputs": [],
   "source": [
    "wordcloud = WordCloud(font_path='AppleGothic',\n",
    "                       background_color='white').generate(text)"
   ]
  },
  {
   "cell_type": "code",
   "execution_count": 336,
   "id": "81e09db8",
   "metadata": {
    "collapsed": true
   },
   "outputs": [
    {
     "data": {
      "text/plain": [
       "<matplotlib.image.AxesImage at 0x2d7390cd0>"
      ]
     },
     "execution_count": 336,
     "metadata": {},
     "output_type": "execute_result"
    },
    {
     "data": {
      "image/png": "[encoded data removed]",
      "text/plain": [
       "<Figure size 640x480 with 1 Axes>"
      ]
     },
     "metadata": {},
     "output_type": "display_data"
    }
   ],
   "source": [
    "plt.imshow(wordcloud, interpolation='bilinear')"
   ]
  },
  {
   "cell_type": "markdown",
   "id": "de7e27f3",
   "metadata": {},
   "source": [
    "----"
   ]
  },
  {
   "cell_type": "markdown",
   "id": "ab405d2e",
   "metadata": {},
   "source": [
    "9. 기술명과 대출금액, 기술분류, 신청은행, 자본금을 입력했을 때, 대출 승인 여부를 판별하는 모델을 Scikit Learn라이브러리를 활용해 구성하시오."
   ]
  },
  {
   "cell_type": "code",
   "execution_count": 337,
   "id": "adefd1f9",
   "metadata": {},
   "outputs": [],
   "source": [
    "import pandas as pd\n",
    "from sklearn.model_selection import train_test_split\n",
    "from sklearn.preprocessing import LabelEncoder\n",
    "from sklearn.ensemble import RandomForestClassifier\n",
    "from sklearn.metrics import accuracy_score"
   ]
  },
  {
   "cell_type": "code",
   "execution_count": 342,
   "id": "dde3f24c",
   "metadata": {},
   "outputs": [],
   "source": [
    "df1['자본금'] = pd.to_numeric(df1['자본금'], errors='coerce')"
   ]
  },
  {
   "cell_type": "code",
   "execution_count": 390,
   "id": "fb40b61d",
   "metadata": {},
   "outputs": [],
   "source": [
    "df1['대출승인여부'] = df1['진행상태'].apply(lambda x: 1 if x == '여신승인' else 0)"
   ]
  },
  {
   "cell_type": "code",
   "execution_count": 393,
   "id": "1ec80304",
   "metadata": {},
   "outputs": [],
   "source": [
    "X = df1[['기술명', '대출금액', '기술분류', '신청은행', '자본금']]\n",
    "Y = df1['대출승인여부']"
   ]
  },
  {
   "cell_type": "code",
   "execution_count": 394,
   "id": "846d62f4",
   "metadata": {},
   "outputs": [],
   "source": [
    "X_train, X_test, Y_train, Y_test = train_test_split(X,Y,\n",
    "                                                   test_size=0.3, random_state=1234)"
   ]
  },
  {
   "cell_type": "code",
   "execution_count": 398,
   "id": "c052f49e",
   "metadata": {},
   "outputs": [],
   "source": [
    "numeric_list = X.describe().columns\n",
    "category_list = X.describe(include='object').columns"
   ]
  },
  {
   "cell_type": "code",
   "execution_count": 407,
   "id": "7fc29b9a",
   "metadata": {},
   "outputs": [],
   "source": [
    "from sklearn.ensemble import RandomForestClassifier\n",
    "from sklearn.impute import SimpleImputer\n",
    "from sklearn.linear_model import LogisticRegression\n",
    "from sklearn.model_selection import train_test_split\n",
    "from imblearn.pipeline import make_pipeline\n",
    "from sklearn.compose   import make_column_transformer\n",
    "from sklearn.impute    import KNNImputer\n",
    "from sklearn.impute    import SimpleImputer\n",
    "from sklearn.preprocessing import MinMaxScaler, OneHotEncoder, LabelEncoder\n",
    "from imblearn.combine  import SMOTETomek\n",
    "from sklearn.tree import DecisionTreeClassifier\n",
    "from sklearn.model_selection import GridSearchCV\n",
    "from sklearn.metrics import classification_report\n",
    "from sklearn.compose import ColumnTransformer"
   ]
  },
  {
   "cell_type": "code",
   "execution_count": 408,
   "id": "ef923bc3",
   "metadata": {},
   "outputs": [],
   "source": [
    "numeric_pipe = make_pipeline(SimpleImputer(strategy='median'),\n",
    "                            MinMaxScaler())\n",
    "category_pipe = make_pipeline(SimpleImputer(strategy='most_frequent'),\n",
    "                             OneHotEncoder(handle_unknown='ignore'))"
   ]
  },
  {
   "cell_type": "code",
   "execution_count": 409,
   "id": "1bd9194b",
   "metadata": {},
   "outputs": [],
   "source": [
    "prepropipe = make_column_transformer((numeric_pipe, numeric_list),\n",
    "                                     (category_pipe, category_list))"
   ]
  },
  {
   "cell_type": "code",
   "execution_count": 418,
   "id": "c2431d69",
   "metadata": {},
   "outputs": [],
   "source": [
    "pipe_model = make_pipeline(prepropipe, RandomForestClassifier())"
   ]
  },
  {
   "cell_type": "code",
   "execution_count": 419,
   "id": "d7f2d315",
   "metadata": {},
   "outputs": [],
   "source": [
    "hyperparameter = {'randomforestclassifier__n_estimators' : [50],\n",
    "                  'randomforestclassifier__criterion':['gini','entropy'],\n",
    "                  'randomforestclassifier__max_depth':range(1,10),\n",
    "                  'randomforestclassifier__max_features':['auto', 3, 5],\n",
    "                  'randomforestclassifier__class_weight':['balanced'] }"
   ]
  },
  {
   "cell_type": "code",
   "execution_count": 420,
   "id": "a45dff90",
   "metadata": {
    "collapsed": true
   },
   "outputs": [
    {
     "name": "stderr",
     "output_type": "stream",
     "text": [
      "/Users/sinhyelim/anaconda3/lib/python3.11/site-packages/sklearn/model_selection/_validation.py:547: FitFailedWarning:\n",
      "\n",
      "\n",
      "54 fits failed out of a total of 162.\n",
      "The score on these train-test partitions for these parameters will be set to nan.\n",
      "If these failures are not expected, you can try to debug them by setting error_score='raise'.\n",
      "\n",
      "Below are more details about the failures:\n",
      "--------------------------------------------------------------------------------\n",
      "44 fits failed with the following error:\n",
      "Traceback (most recent call last):\n",
      "  File \"/Users/sinhyelim/anaconda3/lib/python3.11/site-packages/sklearn/model_selection/_validation.py\", line 895, in _fit_and_score\n",
      "    estimator.fit(X_train, y_train, **fit_params)\n",
      "  File \"/Users/sinhyelim/anaconda3/lib/python3.11/site-packages/sklearn/base.py\", line 1474, in wrapper\n",
      "    return fit_method(estimator, *args, **kwargs)\n",
      "           ^^^^^^^^^^^^^^^^^^^^^^^^^^^^^^^^^^^^^^\n",
      "  File \"/Users/sinhyelim/anaconda3/lib/python3.11/site-packages/imblearn/pipeline.py\", line 326, in fit\n",
      "    self._final_estimator.fit(Xt, yt, **last_step_params[\"fit\"])\n",
      "  File \"/Users/sinhyelim/anaconda3/lib/python3.11/site-packages/sklearn/base.py\", line 1467, in wrapper\n",
      "    estimator._validate_params()\n",
      "  File \"/Users/sinhyelim/anaconda3/lib/python3.11/site-packages/sklearn/base.py\", line 666, in _validate_params\n",
      "    validate_parameter_constraints(\n",
      "  File \"/Users/sinhyelim/anaconda3/lib/python3.11/site-packages/sklearn/utils/_param_validation.py\", line 95, in validate_parameter_constraints\n",
      "    raise InvalidParameterError(\n",
      "sklearn.utils._param_validation.InvalidParameterError: The 'max_features' parameter of RandomForestClassifier must be an int in the range [1, inf), a float in the range (0.0, 1.0], a str among {'sqrt', 'log2'} or None. Got 'auto' instead.\n",
      "\n",
      "--------------------------------------------------------------------------------\n",
      "10 fits failed with the following error:\n",
      "Traceback (most recent call last):\n",
      "  File \"/Users/sinhyelim/anaconda3/lib/python3.11/site-packages/sklearn/model_selection/_validation.py\", line 895, in _fit_and_score\n",
      "    estimator.fit(X_train, y_train, **fit_params)\n",
      "  File \"/Users/sinhyelim/anaconda3/lib/python3.11/site-packages/sklearn/base.py\", line 1474, in wrapper\n",
      "    return fit_method(estimator, *args, **kwargs)\n",
      "           ^^^^^^^^^^^^^^^^^^^^^^^^^^^^^^^^^^^^^^\n",
      "  File \"/Users/sinhyelim/anaconda3/lib/python3.11/site-packages/imblearn/pipeline.py\", line 326, in fit\n",
      "    self._final_estimator.fit(Xt, yt, **last_step_params[\"fit\"])\n",
      "  File \"/Users/sinhyelim/anaconda3/lib/python3.11/site-packages/sklearn/base.py\", line 1467, in wrapper\n",
      "    estimator._validate_params()\n",
      "  File \"/Users/sinhyelim/anaconda3/lib/python3.11/site-packages/sklearn/base.py\", line 666, in _validate_params\n",
      "    validate_parameter_constraints(\n",
      "  File \"/Users/sinhyelim/anaconda3/lib/python3.11/site-packages/sklearn/utils/_param_validation.py\", line 95, in validate_parameter_constraints\n",
      "    raise InvalidParameterError(\n",
      "sklearn.utils._param_validation.InvalidParameterError: The 'max_features' parameter of RandomForestClassifier must be an int in the range [1, inf), a float in the range (0.0, 1.0], a str among {'log2', 'sqrt'} or None. Got 'auto' instead.\n",
      "\n",
      "\n",
      "/Users/sinhyelim/anaconda3/lib/python3.11/site-packages/sklearn/model_selection/_search.py:1051: UserWarning:\n",
      "\n",
      "One or more of the test scores are non-finite: [       nan 0.60488249 0.95766138        nan 0.88631035 0.59071602\n",
      "        nan 0.89839377 0.916199          nan 0.91324102 0.91251887\n",
      "        nan 0.98137438 0.90248108        nan 0.95074956 0.98144561\n",
      "        nan 0.97415171 0.97648969        nan 0.96077394 0.98187252\n",
      "        nan 0.84259257 0.98184332        nan 0.8604838  0.89582935\n",
      "        nan 0.70837405 0.9041516         nan 0.94734174 0.919403\n",
      "        nan 0.92741429 0.9173167         nan 0.95786953 0.97000194\n",
      "        nan 0.95052909 0.94792328        nan 0.95125813 0.93943034\n",
      "        nan 0.94874321 0.94647162        nan 0.95852133 0.94408221]\n",
      "\n"
     ]
    }
   ],
   "source": [
    "grid_model = GridSearchCV(pipe_model, param_grid=hyperparameter,\n",
    "                          cv=3, scoring='f1', n_jobs=-1)\n",
    "grid_model.fit(X_train, Y_train)\n",
    "best_model = grid_model.best_estimator_"
   ]
  },
  {
   "cell_type": "code",
   "execution_count": 421,
   "id": "d97dc14a",
   "metadata": {},
   "outputs": [],
   "source": [
    "Y_train_pred = best_model.predict(X_train)\n",
    "Y_test_pred = best_model.predict(X_test)"
   ]
  },
  {
   "cell_type": "code",
   "execution_count": 422,
   "id": "2c92d826",
   "metadata": {},
   "outputs": [],
   "source": [
    "from sklearn.metrics import classification_report"
   ]
  },
  {
   "cell_type": "code",
   "execution_count": 423,
   "id": "b7d19e59",
   "metadata": {},
   "outputs": [
    {
     "name": "stdout",
     "output_type": "stream",
     "text": [
      "              precision    recall  f1-score   support\n",
      "\n",
      "           0       0.96      0.62      0.75       259\n",
      "           1       0.92      0.99      0.96      1150\n",
      "\n",
      "    accuracy                           0.93      1409\n",
      "   macro avg       0.94      0.81      0.86      1409\n",
      "weighted avg       0.93      0.93      0.92      1409\n",
      "\n",
      "              precision    recall  f1-score   support\n",
      "\n",
      "           0       0.94      0.25      0.40       126\n",
      "           1       0.84      1.00      0.91       478\n",
      "\n",
      "    accuracy                           0.84       604\n",
      "   macro avg       0.89      0.62      0.65       604\n",
      "weighted avg       0.86      0.84      0.80       604\n",
      "\n"
     ]
    }
   ],
   "source": [
    "print(classification_report(Y_train, Y_train_pred))\n",
    "print(classification_report(Y_test, Y_test_pred))"
   ]
  },
  {
   "cell_type": "markdown",
   "id": "c661b11f",
   "metadata": {},
   "source": [
    "----"
   ]
  },
  {
   "cell_type": "markdown",
   "id": "ec7a6fdd",
   "metadata": {},
   "source": [
    "10. 기술명을 입력했을 때, 대출 승인 여부를 판별하는 모델을 구성하고자 한다. RNN 계열의 알고리즘을 이용해 모델을 구성하고, model_loan.h5 이름으로 저장하시오."
   ]
  },
  {
   "cell_type": "code",
   "execution_count": 463,
   "id": "f7d4fb42",
   "metadata": {},
   "outputs": [],
   "source": [
    "X = df1['기술명']\n",
    "Y = df1['대출승인여부']"
   ]
  },
  {
   "cell_type": "code",
   "execution_count": 466,
   "id": "e602ca36",
   "metadata": {},
   "outputs": [],
   "source": [
    "X_train, X_test, Y_train, Y_test = train_test_split(X,Y,test_size=0.3,\n",
    "                                                   random_state=1234)"
   ]
  },
  {
   "cell_type": "code",
   "execution_count": 467,
   "id": "68876f7a",
   "metadata": {},
   "outputs": [],
   "source": [
    "from tensorflow.keras.preprocessing.text import Tokenizer\n",
    "from tensorflow.keras.preprocessing.sequence import pad_sequences"
   ]
  },
  {
   "cell_type": "code",
   "execution_count": 468,
   "id": "bf9cbcc4",
   "metadata": {},
   "outputs": [],
   "source": [
    "def text_preprocessing(X):\n",
    "    tokenizer = Tokenizer(num_words=100)\n",
    "    tokenizer.fit_on_texts(X)\n",
    "    seq1 = tokenizer.texts_to_sequences(X)\n",
    "    return pad_sequences(seq1, maxlen=20)"
   ]
  },
  {
   "cell_type": "code",
   "execution_count": 469,
   "id": "9fe17b6d",
   "metadata": {},
   "outputs": [],
   "source": [
    "X_train_NN = text_preprocessing(X_train)\n",
    "X_test_NN = text_preprocessing(X_test)"
   ]
  },
  {
   "cell_type": "code",
   "execution_count": 470,
   "id": "8b89544b",
   "metadata": {},
   "outputs": [],
   "source": [
    "from keras.layers import LSTM"
   ]
  },
  {
   "cell_type": "code",
   "execution_count": 471,
   "id": "65d55f4f",
   "metadata": {
    "collapsed": true
   },
   "outputs": [
    {
     "name": "stdout",
     "output_type": "stream",
     "text": [
      "Epoch 1/10\n",
      "\u001b[1m36/36\u001b[0m \u001b[32m━━━━━━━━━━━━━━━━━━━━\u001b[0m\u001b[37m\u001b[0m \u001b[1m5s\u001b[0m 45ms/step - accuracy: 0.7584 - loss: 0.5721 - val_accuracy: 0.7943 - val_loss: 0.5137\n",
      "Epoch 2/10\n",
      "\u001b[1m36/36\u001b[0m \u001b[32m━━━━━━━━━━━━━━━━━━━━\u001b[0m\u001b[37m\u001b[0m \u001b[1m0s\u001b[0m 10ms/step - accuracy: 0.8026 - loss: 0.5032 - val_accuracy: 0.7943 - val_loss: 0.5107\n",
      "Epoch 3/10\n",
      "\u001b[1m36/36\u001b[0m \u001b[32m━━━━━━━━━━━━━━━━━━━━\u001b[0m\u001b[37m\u001b[0m \u001b[1m0s\u001b[0m 11ms/step - accuracy: 0.8242 - loss: 0.4657 - val_accuracy: 0.7943 - val_loss: 0.5089\n",
      "Epoch 4/10\n",
      "\u001b[1m36/36\u001b[0m \u001b[32m━━━━━━━━━━━━━━━━━━━━\u001b[0m\u001b[37m\u001b[0m \u001b[1m0s\u001b[0m 11ms/step - accuracy: 0.8259 - loss: 0.4681 - val_accuracy: 0.7943 - val_loss: 0.5099\n",
      "Epoch 5/10\n",
      "\u001b[1m36/36\u001b[0m \u001b[32m━━━━━━━━━━━━━━━━━━━━\u001b[0m\u001b[37m\u001b[0m \u001b[1m0s\u001b[0m 11ms/step - accuracy: 0.8277 - loss: 0.4559 - val_accuracy: 0.7943 - val_loss: 0.5209\n",
      "Epoch 6/10\n",
      "\u001b[1m36/36\u001b[0m \u001b[32m━━━━━━━━━━━━━━━━━━━━\u001b[0m\u001b[37m\u001b[0m \u001b[1m0s\u001b[0m 11ms/step - accuracy: 0.8273 - loss: 0.4577 - val_accuracy: 0.7943 - val_loss: 0.5164\n",
      "Epoch 7/10\n",
      "\u001b[1m36/36\u001b[0m \u001b[32m━━━━━━━━━━━━━━━━━━━━\u001b[0m\u001b[37m\u001b[0m \u001b[1m0s\u001b[0m 11ms/step - accuracy: 0.8236 - loss: 0.4667 - val_accuracy: 0.7943 - val_loss: 0.5123\n",
      "Epoch 8/10\n",
      "\u001b[1m36/36\u001b[0m \u001b[32m━━━━━━━━━━━━━━━━━━━━\u001b[0m\u001b[37m\u001b[0m \u001b[1m0s\u001b[0m 11ms/step - accuracy: 0.8276 - loss: 0.4584 - val_accuracy: 0.7943 - val_loss: 0.5159\n",
      "Epoch 9/10\n",
      "\u001b[1m36/36\u001b[0m \u001b[32m━━━━━━━━━━━━━━━━━━━━\u001b[0m\u001b[37m\u001b[0m \u001b[1m0s\u001b[0m 11ms/step - accuracy: 0.8392 - loss: 0.4347 - val_accuracy: 0.7943 - val_loss: 0.5167\n",
      "Epoch 10/10\n",
      "\u001b[1m36/36\u001b[0m \u001b[32m━━━━━━━━━━━━━━━━━━━━\u001b[0m\u001b[37m\u001b[0m \u001b[1m0s\u001b[0m 11ms/step - accuracy: 0.8387 - loss: 0.4358 - val_accuracy: 0.7943 - val_loss: 0.5187\n"
     ]
    },
    {
     "data": {
      "text/plain": [
       "<keras.src.callbacks.history.History at 0x2fbb4e850>"
      ]
     },
     "execution_count": 471,
     "metadata": {},
     "output_type": "execute_result"
    }
   ],
   "source": [
    "model_LSTM = Sequential()\n",
    "model_LSTM.add(Embedding(10000,8))\n",
    "model_LSTM.add(LSTM(128, dropout=0.2))\n",
    "model_LSTM.add(Dense(1, activation='sigmoid'))\n",
    "model_LSTM.compile(optimizer='adam', loss='binary_crossentropy',\n",
    "                   metrics=['accuracy'])\n",
    "model_LSTM.fit(X_train_NN, Y_train, epochs=10, batch_size= 32,\n",
    "               validation_split=0.2)"
   ]
  },
  {
   "cell_type": "code",
   "execution_count": 472,
   "id": "ea32dbf0",
   "metadata": {},
   "outputs": [
    {
     "name": "stdout",
     "output_type": "stream",
     "text": [
      "\u001b[1m45/45\u001b[0m \u001b[32m━━━━━━━━━━━━━━━━━━━━\u001b[0m\u001b[37m\u001b[0m \u001b[1m0s\u001b[0m 5ms/step\n",
      "\u001b[1m19/19\u001b[0m \u001b[32m━━━━━━━━━━━━━━━━━━━━\u001b[0m\u001b[37m\u001b[0m \u001b[1m0s\u001b[0m 3ms/step\n"
     ]
    }
   ],
   "source": [
    "Y_train_pred = pd.Series(model_LSTM.predict(X_train_NN).flatten()).apply(threshold)\n",
    "Y_test_pred = pd.Series(model_LSTM.predict(X_test_NN).flatten()).apply(threshold)"
   ]
  },
  {
   "cell_type": "code",
   "execution_count": 473,
   "id": "2b5bc4cd",
   "metadata": {
    "collapsed": true
   },
   "outputs": [
    {
     "name": "stdout",
     "output_type": "stream",
     "text": [
      "              precision    recall  f1-score   support\n",
      "\n",
      "           0       0.00      0.00      0.00       259\n",
      "           1       0.82      1.00      0.90      1150\n",
      "\n",
      "    accuracy                           0.82      1409\n",
      "   macro avg       0.41      0.50      0.45      1409\n",
      "weighted avg       0.67      0.82      0.73      1409\n",
      "\n",
      "              precision    recall  f1-score   support\n",
      "\n",
      "           0       0.00      0.00      0.00       126\n",
      "           1       0.79      1.00      0.88       478\n",
      "\n",
      "    accuracy                           0.79       604\n",
      "   macro avg       0.40      0.50      0.44       604\n",
      "weighted avg       0.63      0.79      0.70       604\n",
      "\n"
     ]
    },
    {
     "name": "stderr",
     "output_type": "stream",
     "text": [
      "/Users/sinhyelim/anaconda3/lib/python3.11/site-packages/sklearn/metrics/_classification.py:1509: UndefinedMetricWarning:\n",
      "\n",
      "Precision is ill-defined and being set to 0.0 in labels with no predicted samples. Use `zero_division` parameter to control this behavior.\n",
      "\n",
      "/Users/sinhyelim/anaconda3/lib/python3.11/site-packages/sklearn/metrics/_classification.py:1509: UndefinedMetricWarning:\n",
      "\n",
      "Precision is ill-defined and being set to 0.0 in labels with no predicted samples. Use `zero_division` parameter to control this behavior.\n",
      "\n",
      "/Users/sinhyelim/anaconda3/lib/python3.11/site-packages/sklearn/metrics/_classification.py:1509: UndefinedMetricWarning:\n",
      "\n",
      "Precision is ill-defined and being set to 0.0 in labels with no predicted samples. Use `zero_division` parameter to control this behavior.\n",
      "\n",
      "/Users/sinhyelim/anaconda3/lib/python3.11/site-packages/sklearn/metrics/_classification.py:1509: UndefinedMetricWarning:\n",
      "\n",
      "Precision is ill-defined and being set to 0.0 in labels with no predicted samples. Use `zero_division` parameter to control this behavior.\n",
      "\n",
      "/Users/sinhyelim/anaconda3/lib/python3.11/site-packages/sklearn/metrics/_classification.py:1509: UndefinedMetricWarning:\n",
      "\n",
      "Precision is ill-defined and being set to 0.0 in labels with no predicted samples. Use `zero_division` parameter to control this behavior.\n",
      "\n",
      "/Users/sinhyelim/anaconda3/lib/python3.11/site-packages/sklearn/metrics/_classification.py:1509: UndefinedMetricWarning:\n",
      "\n",
      "Precision is ill-defined and being set to 0.0 in labels with no predicted samples. Use `zero_division` parameter to control this behavior.\n",
      "\n"
     ]
    }
   ],
   "source": [
    "print(classification_report(Y_train, Y_train_pred))\n",
    "print(classification_report(Y_test, Y_test_pred))"
   ]
  },
  {
   "cell_type": "markdown",
   "id": "872d6c71",
   "metadata": {},
   "source": [
    "---"
   ]
  },
  {
   "cell_type": "markdown",
   "id": "dd8f82f1",
   "metadata": {},
   "source": [
    "11. '신식당', '원큐', '엔드게임','파워레인저'에 해당하는 계열사들을 확인하고, 네가지 계열사 대한 기술분류의 빈도수를 확인하시오."
   ]
  },
  {
   "cell_type": "code",
   "execution_count": 351,
   "id": "0e693256",
   "metadata": {
    "collapsed": true
   },
   "outputs": [
    {
     "data": {
      "text/plain": [
       "array(['하나로물산', '신식당화학', 'ANT산업', '엔프로그에너지', '경일솔루션', '오히려통신', '엔프로그소프트',\n",
       "       '텍틱스전자', '원하나개발', '천하조선', '제이식스모터스', '클로벳무역', '4F1T방송', '파워레인저중공업',\n",
       "       '엔드게임항공', '원큐통신', 'ANT개발', '천하반도체', '엔프로그모터스', '아이원이포반도체', '원하나산업',\n",
       "       'TAX화학', '투비원연구소', '슈터스소프트', '제이식스컴퍼니', '경일컴퍼니', '제이식스정밀',\n",
       "       '엔드게임무역', '새싹기공', '포텐셜모터스', '엔프로그솔루션', '텍틱스반도체', '슈터스통신', 'TAX에너지',\n",
       "       '투비원통신', '신식당반도체', '아이원이포에너지', '텍틱스모터스', 'DSA소프트', '세계로에너지',\n",
       "       '슈터스정밀', '제일방송', '신식당서비스', 'TAX연구소', '4F1T전자', '투비원산업', '원큐정밀',\n",
       "       'TAX건설', '포텐셜이노베이션', '투비원반도체', '하나로전자', '이글조선', '파워레인저산업', '이글정밀',\n",
       "       '하나로화학', '하나로조선', '하나로중공업', '이글산업', '원큐개발', 'DS소프트', '신식당유통',\n",
       "       '파워레인저화학', '제이식스조선', '포텐셜기술', '하나로제약', 'ANT소프트', 'TAX물산',\n",
       "       '엔드게임중공업', '신식당제약', 'DSA솔루션', '엔드게임연구소', '세계로기공', '세계로서비스',\n",
       "       '클로벳화학', '하나로건설', '투비원항공', '세계로모터스', '이글솔루션', '이글이노베이션', '새싹에너지',\n",
       "       '제일정밀', '원하나통신', '슈터스건설', '신식당기술', '경일조선', '아이원이포소프트', '투비원기공',\n",
       "       'TAX기술', '아이원이포산업', '제이식스연구소', '4F1T정밀', '파워레인저솔루션', '클로벳조선',\n",
       "       '포텐셜반도체', '오히려건설', '경일유통', 'ANT화학', 'DS정밀', '신식당무역', '하나로이노베이션',\n",
       "       '신식당소프트', 'DS제약', '새싹중공업', '원큐방송', 'ANT전자', '천하솔루션', '클로벳반도체',\n",
       "       'DS방송', 'DS기공', 'TAX반도체', 'TAX전자', '엔드게임건설', '천하소프트', 'TAX무역',\n",
       "       '오히려산업', '제일모터스', '제일중공업', '엔드게임정밀', '신식당모터스', '엔프로그반도체', '오히려기공',\n",
       "       '슈터스모터스', 'DS물산', '새싹화학', '신식당개발', '제일에너지', '오히려솔루션', '새싹물산',\n",
       "       '슈터스유통', '텍틱스조선', 'TAX유통', '제이식스솔루션', '새싹건설', '이글컴퍼니', '이글연구소',\n",
       "       '클로벳전자', '천하기술', '제이식스통신', 'ANT솔루션', '제일무역', '오히려에너지', '오히려소프트',\n",
       "       'DSA화학', '엔드게임반도체', '하나로항공', '아이원이포이노베이션', 'DS모터스', '하나로소프트',\n",
       "       '4F1T이노베이션', 'DSA정밀', '클로벳제약', '경일중공업', '파워레인저조선', '천하연구소', '경일산업',\n",
       "       '아이원이포서비스', '아이원이포컴퍼니', '포텐셜무역', 'DS건설', '아이원이포모터스', '투비원이노베이션',\n",
       "       'DS화학', '엔프로그항공', '슈터스중공업', '엔프로그정밀', 'ANT무역', '오히려화학', '원하나중공업',\n",
       "       'DSA통신', '원하나서비스', '슈터스에너지', 'DSA연구소', '파워레인저무역', 'DSA개발',\n",
       "       '4F1T조선', '클로벳항공', '투비원화학', '슈터스조선', 'DSA에너지', '포텐셜항공', '세계로정밀',\n",
       "       '포텐셜방송', '천하이노베이션', 'DSA기술', '원하나컴퍼니', '경일서비스', '오히려조선', '세계로중공업',\n",
       "       '4F1T컴퍼니', '경일반도체', '원큐반도체', '제일반도체', '제일제약', '제일산업', '오히려모터스',\n",
       "       'DS컴퍼니', '원하나물산', '신식당정밀', '새싹모터스', 'DSA컴퍼니', '천하중공업', '클로벳이노베이션',\n",
       "       '신식당솔루션', '아이원이포물산', '엔드게임이노베이션', '클로벳모터스', '천하건설', '포텐셜통신',\n",
       "       '신식당방송', '이글방송', '아이원이포전자', '텍틱스에너지', 'DS항공', '오히려이노베이션', '엔프로그기술',\n",
       "       '원하나기술', '슈터스전자', '오히려개발', '오히려정밀', '원큐화학', '아이원이포유통', '투비원정밀',\n",
       "       '제이식스항공', '파워레인저에너지', '포텐셜물산', '슈터스이노베이션', '세계로컴퍼니', 'ANT정밀',\n",
       "       '클로벳기술', '텍틱스건설', '제일컴퍼니', '아이원이포정밀', '제일전자', '슈터스화학', '이글개발',\n",
       "       'ANT건설', '이글항공', '경일화학', '경일소프트', '세계로방송', 'TAX정밀', '포텐셜연구소',\n",
       "       '신식당이노베이션', '오히려컴퍼니', '텍틱스중공업', '4F1T소프트', '제일개발', 'ANT조선',\n",
       "       'DSA방송', '파워레인저물산', '천하기공', '4F1T개발', '오히려제약', '슈터스물산', '클로벳방송',\n",
       "       '투비원무역', '오히려무역', '4F1T무역', '제일서비스', '새싹무역', '천하무역', '투비원방송',\n",
       "       '슈터스기공', '신식당기공', '4F1T통신', '4F1T중공업', '4F1T연구소', '포텐셜소프트',\n",
       "       '4F1T기술', '하나로컴퍼니', '텍틱스연구소', '포텐셜서비스', '하나로개발', '엔드게임방송',\n",
       "       'TAX소프트', 'ANT항공', '슈터스제약', '세계로유통', '하나로기공', '아이원이포솔루션', '원큐건설',\n",
       "       'TAX개발', '포텐셜제약', 'ANT물산', '4F1T모터스', '아이원이포건설', '4F1T서비스',\n",
       "       '제일이노베이션', '투비원에너지', 'DS조선', '투비원기술', '원큐컴퍼니', 'DSA중공업', '하나로반도체',\n",
       "       '원큐물산', '텍틱스기술', '원하나정밀', '경일정밀', 'DS전자', '세계로전자', '엔드게임기술',\n",
       "       'ANT제약', '이글에너지', '아이원이포기술', 'TAX통신', '파워레인저컴퍼니', '제이식스서비스',\n",
       "       '클로벳정밀', 'DSA전자', '엔드게임컴퍼니', '클로벳개발', '파워레인저전자', '신식당물산', '텍틱스컴퍼니',\n",
       "       '4F1T기공', '신식당전자', 'DSA건설', '엔드게임개발', '4F1T화학', '파워레인저정밀', '포텐셜유통',\n",
       "       '새싹소프트', 'DS산업', 'DS유통', '텍틱스솔루션', '파워레인저기공', '아이원이포개발', '파워레인저통신',\n",
       "       '투비원유통', '원하나무역', 'DS서비스', '세계로연구소', '원큐이노베이션', '텍틱스무역', '슈터스솔루션',\n",
       "       '새싹서비스', 'TAX조선', '제일통신', '제이식스기공', '이글물산', 'TAX컴퍼니', '천하컴퍼니',\n",
       "       'ANT컴퍼니', 'ANT연구소', '클로벳기공', '경일방송', 'ANT중공업', '원하나유통', '오히려방송',\n",
       "       'DSA무역', '제일기공', '4F1T에너지', '텍틱스기공', 'ANT유통', '하나로정밀', '새싹유통',\n",
       "       '포텐셜기공', '엔드게임솔루션', '이글제약', '엔드게임통신', '제이식스이노베이션', '원큐조선', '이글건설',\n",
       "       'ANT기술', '원큐산업', '엔드게임산업', '포텐셜건설', '경일통신', '오히려반도체', '경일기공',\n",
       "       '원큐중공업', '하나로서비스', '이글전자', '파워레인저기술', '천하산업', '세계로항공', '세계로무역',\n",
       "       '새싹통신', '포텐셜정밀', 'DSA산업', '엔프로그서비스', '경일연구소', '이글기술', '경일이노베이션',\n",
       "       '투비원건설', '4F1T물산', '세계로소프트', '원하나이노베이션', '제이식스유통', '제이식스방송',\n",
       "       '클로벳에너지', '원하나연구소', '원큐제약', '원큐솔루션', '클로벳소프트', '텍틱스방송', 'ANT방송',\n",
       "       '이글기공', '클로벳솔루션', '제이식스개발', '투비원전자', '원큐전자', '파워레인저모터스', '아이원이포화학',\n",
       "       'DS반도체', '오히려항공', 'ANT기공', '제일연구소', '오히려서비스', '원큐모터스', '오히려유통',\n",
       "       '아이원이포연구소', '투비원소프트', '엔프로그무역', '하나로방송', '포텐셜개발', '천하통신', '슈터스컴퍼니',\n",
       "       '새싹이노베이션', '엔드게임제약', '제일조선', '제이식스물산', '새싹제약', '천하항공', '천하정밀',\n",
       "       '오히려물산', '텍틱스물산', '세계로화학', '세계로통신', '제일화학', '이글통신', '텍틱스유통',\n",
       "       '제일솔루션', '이글서비스', '엔프로그건설', '엔프로그통신', '천하유통', '원하나에너지', '텍틱스소프트',\n",
       "       '투비원솔루션', '슈터스항공', '클로벳서비스', '천하방송', '천하제약', '제일건설', '슈터스반도체',\n",
       "       'DS에너지', '천하서비스', '하나로솔루션', '클로벳산업', '제이식스기술', '제이식스전자', '아이원이포조선',\n",
       "       '세계로조선', '새싹컴퍼니', 'TAX항공', '슈터스기술', '천하에너지', '세계로산업', 'ANT서비스',\n",
       "       'DSA모터스', '파워레인저소프트', '엔드게임모터스', '경일건설', '아이원이포기공', 'DSA물산',\n",
       "       '새싹방송', '이글화학', 'TAX중공업', '엔프로그중공업', '엔프로그이노베이션', '신식당산업',\n",
       "       'TAX이노베이션', '제이식스반도체', '텍틱스이노베이션', 'DS무역', 'DSA조선', '새싹전자',\n",
       "       '하나로산업', '새싹정밀', '텍틱스통신', 'TAX제약', '파워레인저방송', 'DSA유통', '원큐기술',\n",
       "       '아이원이포방송', 'DS이노베이션', '포텐셜솔루션', '파워레인저개발', '엔드게임소프트', '슈터스방송',\n",
       "       '4F1T제약', '새싹연구소', '제이식스화학', '천하화학', '제이식스산업', '파워레인저이노베이션',\n",
       "       '원큐소프트', '클로벳유통', '천하물산', '세계로개발', '슈터스서비스', '4F1T항공', '파워레인저유통',\n",
       "       'ANT이노베이션', '원하나방송', '경일기술', '제이식스중공업', 'DSA기공', '포텐셜전자', '원하나건설',\n",
       "       '세계로반도체', '클로벳연구소', '아이원이포항공', '엔프로그전자', '엔프로그연구소', '제이식스에너지',\n",
       "       '이글중공업', '투비원제약', '텍틱스제약', '하나로연구소', '원하나제약', '제일유통', 'DS통신',\n",
       "       '세계로물산', 'TAX방송', '엔드게임조선', 'DSA항공', '원큐무역', '신식당통신', '텍틱스산업',\n",
       "       '엔프로그산업', '신식당조선', '하나로모터스', '엔프로그조선', '하나로무역', '투비원모터스', '투비원중공업',\n",
       "       '슈터스산업', '세계로제약', 'DS중공업', '아이원이포무역', '이글소프트', '제일물산', '아이원이포통신',\n",
       "       '경일물산', '4F1T솔루션', '신식당컴퍼니', '세계로이노베이션', '신식당항공', '4F1T건설',\n",
       "       '하나로에너지', '세계로건설', '파워레인저반도체', '포텐셜화학', '원큐항공', 'DSA제약', '새싹솔루션',\n",
       "       '슈터스무역', '투비원서비스', 'DSA반도체', '새싹기술', '엔프로그기공', '4F1T반도체', '경일항공',\n",
       "       '텍틱스정밀', '신식당중공업', '원하나화학', '엔프로그물산', 'ANT반도체', '새싹반도체', '하나로유통',\n",
       "       '포텐셜조선', 'DS솔루션', '오히려기술', '엔드게임전자', '제일기술', '원하나소프트', '제이식스건설',\n",
       "       'ANT에너지', '제일항공', '포텐셜중공업', '엔프로그제약', '신식당연구소', '원하나전자', '원하나조선',\n",
       "       '파워레인저제약', '엔드게임서비스', '세계로솔루션', '아이원이포제약', '텍틱스화학', '포텐셜산업',\n",
       "       '제이식스무역', '이글모터스', '투비원컴퍼니', '제일소프트', '파워레인저연구소', '파워레인저항공',\n",
       "       '이글유통', '원하나반도체', '하나로통신', '엔드게임기공', '클로벳중공업', 'ANT모터스', '원하나모터스',\n",
       "       '경일전자', 'TAX기공', '경일모터스', '엔드게임물산', 'ANT통신', 'TAX산업', '아이원이포중공업',\n",
       "       'DS개발', '새싹산업', '원큐서비스', '하나로기술', '엔프로그컴퍼니', '클로벳건설', '경일에너지',\n",
       "       'DS연구소', '세계로기술', '이글무역', '오히려연구소', '파워레인저서비스', '원하나솔루션', '원하나항공',\n",
       "       '새싹개발', 'TAX모터스', 'DSA서비스', '텍틱스항공', 'TAX솔루션'], dtype=object)"
      ]
     },
     "execution_count": 351,
     "metadata": {},
     "output_type": "execute_result"
    }
   ],
   "source": [
    "df1['회사명'].unique()"
   ]
  },
  {
   "cell_type": "code",
   "execution_count": 352,
   "id": "2d9754cb",
   "metadata": {},
   "outputs": [],
   "source": [
    "def func11(company_name):\n",
    "    if '신식당' in company_name:\n",
    "        return '신식당'\n",
    "    elif '원큐' in company_name:\n",
    "        return '원큐'\n",
    "    elif '엔드게임' in company_name:\n",
    "        return '엔드게임'\n",
    "    elif '파워레인저' in company_name:\n",
    "        return '파워레인저'\n",
    "    else:\n",
    "        return None\n",
    "\n",
    "df1['계열사'] = df1['회사명'].apply(func11)"
   ]
  },
  {
   "cell_type": "code",
   "execution_count": 353,
   "id": "6607859c",
   "metadata": {},
   "outputs": [],
   "source": [
    "df11 = df1[df1['계열사'].notnull()]"
   ]
  },
  {
   "cell_type": "code",
   "execution_count": 360,
   "id": "be7b7bc6",
   "metadata": {},
   "outputs": [
    {
     "data": {
      "text/html": [
       "<div>\n",
       "<style scoped>\n",
       "    .dataframe tbody tr th:only-of-type {\n",
       "        vertical-align: middle;\n",
       "    }\n",
       "\n",
       "    .dataframe tbody tr th {\n",
       "        vertical-align: top;\n",
       "    }\n",
       "\n",
       "    .dataframe thead th {\n",
       "        text-align: right;\n",
       "    }\n",
       "</style>\n",
       "<table border=\"1\" class=\"dataframe\">\n",
       "  <thead>\n",
       "    <tr style=\"text-align: right;\">\n",
       "      <th>기술분류</th>\n",
       "      <th>건설</th>\n",
       "      <th>건설(교통)</th>\n",
       "      <th>기계</th>\n",
       "      <th>기타(콘텐츠, 디자인)</th>\n",
       "      <th>바이오 의료</th>\n",
       "      <th>소재(재료금속)</th>\n",
       "      <th>에너지</th>\n",
       "      <th>전기전자</th>\n",
       "      <th>정보통신</th>\n",
       "      <th>화학(화공 섬유)</th>\n",
       "      <th>환경</th>\n",
       "    </tr>\n",
       "    <tr>\n",
       "      <th>계열사</th>\n",
       "      <th></th>\n",
       "      <th></th>\n",
       "      <th></th>\n",
       "      <th></th>\n",
       "      <th></th>\n",
       "      <th></th>\n",
       "      <th></th>\n",
       "      <th></th>\n",
       "      <th></th>\n",
       "      <th></th>\n",
       "      <th></th>\n",
       "    </tr>\n",
       "  </thead>\n",
       "  <tbody>\n",
       "    <tr>\n",
       "      <th>신식당</th>\n",
       "      <td>NaN</td>\n",
       "      <td>NaN</td>\n",
       "      <td>20.0</td>\n",
       "      <td>6.0</td>\n",
       "      <td>5.0</td>\n",
       "      <td>7.0</td>\n",
       "      <td>NaN</td>\n",
       "      <td>16.0</td>\n",
       "      <td>16.0</td>\n",
       "      <td>8.0</td>\n",
       "      <td>2.0</td>\n",
       "    </tr>\n",
       "    <tr>\n",
       "      <th>엔드게임</th>\n",
       "      <td>NaN</td>\n",
       "      <td>NaN</td>\n",
       "      <td>20.0</td>\n",
       "      <td>3.0</td>\n",
       "      <td>2.0</td>\n",
       "      <td>4.0</td>\n",
       "      <td>2.0</td>\n",
       "      <td>17.0</td>\n",
       "      <td>12.0</td>\n",
       "      <td>5.0</td>\n",
       "      <td>7.0</td>\n",
       "    </tr>\n",
       "    <tr>\n",
       "      <th>원큐</th>\n",
       "      <td>NaN</td>\n",
       "      <td>NaN</td>\n",
       "      <td>17.0</td>\n",
       "      <td>3.0</td>\n",
       "      <td>4.0</td>\n",
       "      <td>7.0</td>\n",
       "      <td>1.0</td>\n",
       "      <td>22.0</td>\n",
       "      <td>13.0</td>\n",
       "      <td>8.0</td>\n",
       "      <td>3.0</td>\n",
       "    </tr>\n",
       "    <tr>\n",
       "      <th>파워레인저</th>\n",
       "      <td>1.0</td>\n",
       "      <td>1.0</td>\n",
       "      <td>22.0</td>\n",
       "      <td>6.0</td>\n",
       "      <td>3.0</td>\n",
       "      <td>5.0</td>\n",
       "      <td>NaN</td>\n",
       "      <td>13.0</td>\n",
       "      <td>11.0</td>\n",
       "      <td>10.0</td>\n",
       "      <td>3.0</td>\n",
       "    </tr>\n",
       "  </tbody>\n",
       "</table>\n",
       "</div>"
      ],
      "text/plain": [
       "기술분류    건설  건설(교통)    기계  기타(콘텐츠, 디자인)  바이오 의료  소재(재료금속)  에너지  전기전자  정보통신  \\\n",
       "계열사                                                                         \n",
       "신식당    NaN     NaN  20.0           6.0     5.0       7.0  NaN  16.0  16.0   \n",
       "엔드게임   NaN     NaN  20.0           3.0     2.0       4.0  2.0  17.0  12.0   \n",
       "원큐     NaN     NaN  17.0           3.0     4.0       7.0  1.0  22.0  13.0   \n",
       "파워레인저  1.0     1.0  22.0           6.0     3.0       5.0  NaN  13.0  11.0   \n",
       "\n",
       "기술분류   화학(화공 섬유)   환경  \n",
       "계열사                    \n",
       "신식당          8.0  2.0  \n",
       "엔드게임         5.0  7.0  \n",
       "원큐           8.0  3.0  \n",
       "파워레인저       10.0  3.0  "
      ]
     },
     "execution_count": 360,
     "metadata": {},
     "output_type": "execute_result"
    }
   ],
   "source": [
    "df11.pivot_table(index='계열사', columns='기술분류',\n",
    "                 aggfunc='size')"
   ]
  },
  {
   "cell_type": "markdown",
   "id": "a9f286ce",
   "metadata": {},
   "source": [
    "---"
   ]
  },
  {
   "cell_type": "markdown",
   "id": "ebdf47eb",
   "metadata": {},
   "source": [
    "12. 4개의 계열사 중 자본금의 가장 큰 기업을 확인하시오."
   ]
  },
  {
   "cell_type": "code",
   "execution_count": 362,
   "id": "16a0259d",
   "metadata": {},
   "outputs": [
    {
     "data": {
      "text/plain": [
       "Index(['회사명', '기술명', '기술분류', '설립일', '신청일', '평가기관', '평가등급', '신청은행', '진행상태',\n",
       "       '대출금액', '자본금', '설립일_dt', '업력', '대출승인여부', '계열사'],\n",
       "      dtype='object')"
      ]
     },
     "execution_count": 362,
     "metadata": {},
     "output_type": "execute_result"
    }
   ],
   "source": [
    "df11.columns"
   ]
  },
  {
   "cell_type": "code",
   "execution_count": 367,
   "id": "2bbd942f",
   "metadata": {},
   "outputs": [
    {
     "data": {
      "text/html": [
       "<div>\n",
       "<style scoped>\n",
       "    .dataframe tbody tr th:only-of-type {\n",
       "        vertical-align: middle;\n",
       "    }\n",
       "\n",
       "    .dataframe tbody tr th {\n",
       "        vertical-align: top;\n",
       "    }\n",
       "\n",
       "    .dataframe thead th {\n",
       "        text-align: right;\n",
       "    }\n",
       "</style>\n",
       "<table border=\"1\" class=\"dataframe\">\n",
       "  <thead>\n",
       "    <tr style=\"text-align: right;\">\n",
       "      <th></th>\n",
       "      <th>자본금</th>\n",
       "    </tr>\n",
       "    <tr>\n",
       "      <th>계열사</th>\n",
       "      <th></th>\n",
       "    </tr>\n",
       "  </thead>\n",
       "  <tbody>\n",
       "    <tr>\n",
       "      <th>파워레인저</th>\n",
       "      <td>44142</td>\n",
       "    </tr>\n",
       "  </tbody>\n",
       "</table>\n",
       "</div>"
      ],
      "text/plain": [
       "         자본금\n",
       "계열사         \n",
       "파워레인저  44142"
      ]
     },
     "execution_count": 367,
     "metadata": {},
     "output_type": "execute_result"
    }
   ],
   "source": [
    "df11.pivot_table(index='계열사',values='자본금',\n",
    "                 aggfunc='sum').sort_values(by='자본금',\n",
    "                                            ascending=False).head(1)"
   ]
  },
  {
   "cell_type": "markdown",
   "id": "04031fc3",
   "metadata": {},
   "source": [
    "---"
   ]
  },
  {
   "cell_type": "markdown",
   "id": "9d7bbbf6",
   "metadata": {},
   "source": [
    "13. 4개의 계열사 중 대출금이 가장 큰 기업을 확인하시오."
   ]
  },
  {
   "cell_type": "code",
   "execution_count": 372,
   "id": "5e9c49ea",
   "metadata": {},
   "outputs": [
    {
     "data": {
      "text/html": [
       "<div>\n",
       "<style scoped>\n",
       "    .dataframe tbody tr th:only-of-type {\n",
       "        vertical-align: middle;\n",
       "    }\n",
       "\n",
       "    .dataframe tbody tr th {\n",
       "        vertical-align: top;\n",
       "    }\n",
       "\n",
       "    .dataframe thead th {\n",
       "        text-align: right;\n",
       "    }\n",
       "</style>\n",
       "<table border=\"1\" class=\"dataframe\">\n",
       "  <thead>\n",
       "    <tr style=\"text-align: right;\">\n",
       "      <th></th>\n",
       "      <th>대출금액</th>\n",
       "    </tr>\n",
       "    <tr>\n",
       "      <th>계열사</th>\n",
       "      <th></th>\n",
       "    </tr>\n",
       "  </thead>\n",
       "  <tbody>\n",
       "    <tr>\n",
       "      <th>파워레인저</th>\n",
       "      <td>8400.0</td>\n",
       "    </tr>\n",
       "  </tbody>\n",
       "</table>\n",
       "</div>"
      ],
      "text/plain": [
       "         대출금액\n",
       "계열사          \n",
       "파워레인저  8400.0"
      ]
     },
     "execution_count": 372,
     "metadata": {},
     "output_type": "execute_result"
    }
   ],
   "source": [
    "df11.pivot_table(index='계열사',values='대출금액',\n",
    "                 aggfunc='sum').sort_values(by='대출금액',\n",
    "                                            ascending=False).head(1)"
   ]
  },
  {
   "cell_type": "markdown",
   "id": "656ab533",
   "metadata": {},
   "source": [
    "---"
   ]
  },
  {
   "cell_type": "markdown",
   "id": "cfc1564d",
   "metadata": {},
   "source": [
    "14. 4개의 계열사의 대출 승인 여부의 비율을 계산하시오."
   ]
  },
  {
   "cell_type": "code",
   "execution_count": 377,
   "id": "ee264ddb",
   "metadata": {},
   "outputs": [],
   "source": [
    "p14 = df11.pivot_table(index='계열사',columns='대출승인여부',\n",
    "                 aggfunc='size')"
   ]
  },
  {
   "cell_type": "code",
   "execution_count": 378,
   "id": "fdf09bca",
   "metadata": {},
   "outputs": [],
   "source": [
    "p14['대출승인비율'] = p14[1] / (p14[0] + p14[1])"
   ]
  },
  {
   "cell_type": "code",
   "execution_count": 379,
   "id": "9a7a1c2d",
   "metadata": {},
   "outputs": [
    {
     "data": {
      "text/html": [
       "<div>\n",
       "<style scoped>\n",
       "    .dataframe tbody tr th:only-of-type {\n",
       "        vertical-align: middle;\n",
       "    }\n",
       "\n",
       "    .dataframe tbody tr th {\n",
       "        vertical-align: top;\n",
       "    }\n",
       "\n",
       "    .dataframe thead th {\n",
       "        text-align: right;\n",
       "    }\n",
       "</style>\n",
       "<table border=\"1\" class=\"dataframe\">\n",
       "  <thead>\n",
       "    <tr style=\"text-align: right;\">\n",
       "      <th>대출승인여부</th>\n",
       "      <th>0</th>\n",
       "      <th>1</th>\n",
       "      <th>대출승인비율</th>\n",
       "    </tr>\n",
       "    <tr>\n",
       "      <th>계열사</th>\n",
       "      <th></th>\n",
       "      <th></th>\n",
       "      <th></th>\n",
       "    </tr>\n",
       "  </thead>\n",
       "  <tbody>\n",
       "    <tr>\n",
       "      <th>신식당</th>\n",
       "      <td>20</td>\n",
       "      <td>60</td>\n",
       "      <td>0.750000</td>\n",
       "    </tr>\n",
       "    <tr>\n",
       "      <th>엔드게임</th>\n",
       "      <td>14</td>\n",
       "      <td>58</td>\n",
       "      <td>0.805556</td>\n",
       "    </tr>\n",
       "    <tr>\n",
       "      <th>원큐</th>\n",
       "      <td>16</td>\n",
       "      <td>62</td>\n",
       "      <td>0.794872</td>\n",
       "    </tr>\n",
       "    <tr>\n",
       "      <th>파워레인저</th>\n",
       "      <td>16</td>\n",
       "      <td>59</td>\n",
       "      <td>0.786667</td>\n",
       "    </tr>\n",
       "  </tbody>\n",
       "</table>\n",
       "</div>"
      ],
      "text/plain": [
       "대출승인여부   0   1    대출승인비율\n",
       "계열사                     \n",
       "신식당     20  60  0.750000\n",
       "엔드게임    14  58  0.805556\n",
       "원큐      16  62  0.794872\n",
       "파워레인저   16  59  0.786667"
      ]
     },
     "execution_count": 379,
     "metadata": {},
     "output_type": "execute_result"
    }
   ],
   "source": [
    "p14"
   ]
  },
  {
   "cell_type": "markdown",
   "id": "616628c4",
   "metadata": {},
   "source": [
    "---"
   ]
  },
  {
   "cell_type": "markdown",
   "id": "05b67bd5",
   "metadata": {},
   "source": [
    "15. 각 계열사가 가진 핵심 기술을 파악하고자 한다. 각 계열사 별로 기술명에 가장 많이 등장하는 명사를 추출해 확인하시오."
   ]
  },
  {
   "cell_type": "code",
   "execution_count": 383,
   "id": "2cf360e5",
   "metadata": {},
   "outputs": [
    {
     "data": {
      "text/plain": [
       "계열사\n",
       "신식당      80\n",
       "원큐       78\n",
       "파워레인저    75\n",
       "엔드게임     72\n",
       "Name: count, dtype: int64"
      ]
     },
     "execution_count": 383,
     "metadata": {},
     "output_type": "execute_result"
    }
   ],
   "source": [
    "df11['계열사'].value_counts()"
   ]
  },
  {
   "cell_type": "code",
   "execution_count": 381,
   "id": "7999eb5e",
   "metadata": {
    "collapsed": true
   },
   "outputs": [
    {
     "data": {
      "text/plain": [
       "1       소성 가공을 통한 고강도 C형강 및 생산설비 개발\n",
       "13              소방설비 배관용 고성능 단열재 개발\n",
       "15                     휴대폰 FPCB 검사기\n",
       "16                        PET 사출 성형\n",
       "28                     하수재 처리 이용 기술\n",
       "                   ...             \n",
       "1992                      SONALABEL\n",
       "1995                  방송 송출 자동화 시스템\n",
       "1997                       휴대형 배터리팩\n",
       "2003            웹서비스 기반 판매 통합관리 시스템\n",
       "2008                      반도체 공정 쳄버\n",
       "Name: 기술명, Length: 305, dtype: object"
      ]
     },
     "execution_count": 381,
     "metadata": {},
     "output_type": "execute_result"
    }
   ],
   "source": [
    "df11['기술명']"
   ]
  },
  {
   "cell_type": "code",
   "execution_count": 384,
   "id": "875380e9",
   "metadata": {},
   "outputs": [],
   "source": [
    "from konlpy.tag import Komoran\n",
    "from collections import Counter"
   ]
  },
  {
   "cell_type": "code",
   "execution_count": 387,
   "id": "b4f32776",
   "metadata": {},
   "outputs": [],
   "source": [
    "komoran = Komoran()"
   ]
  },
  {
   "cell_type": "code",
   "execution_count": 385,
   "id": "ca832849",
   "metadata": {},
   "outputs": [],
   "source": [
    "text15 = df11.groupby('계열사')['기술명'].apply(lambda x: ' '.join(x))"
   ]
  },
  {
   "cell_type": "code",
   "execution_count": 389,
   "id": "acf002e5",
   "metadata": {},
   "outputs": [
    {
     "name": "stdout",
     "output_type": "stream",
     "text": [
      "신식당의 핵심 기술 명사: 개발 (빈도: 17)\n",
      "엔드게임의 핵심 기술 명사: 기술 (빈도: 15)\n",
      "원큐의 핵심 기술 명사: 기술 (빈도: 23)\n",
      "파워레인저의 핵심 기술 명사: 기술 (빈도: 23)\n"
     ]
    }
   ],
   "source": [
    "# 각 계열사 별로 가장 많이 등장하는 명사를 추출\n",
    "for a, tech_text in text15.items():\n",
    "    nouns = komoran.nouns(tech_text)  \n",
    "    most_common_noun = Counter(nouns).most_common(1)\n",
    "    print(f\"{a}의 핵심 기술 명사: {most_common_noun[0][0]} (빈도: {most_common_noun[0][1]})\")"
   ]
  },
  {
   "cell_type": "code",
   "execution_count": null,
   "id": "a0ee97d9",
   "metadata": {},
   "outputs": [],
   "source": []
  }
 ],
 "metadata": {
  "kernelspec": {
   "display_name": "Python 3 (ipykernel)",
   "language": "python",
   "name": "python3"
  },
  "language_info": {
   "codemirror_mode": {
    "name": "ipython",
    "version": 3
   },
   "file_extension": ".py",
   "mimetype": "text/x-python",
   "name": "python",
   "nbconvert_exporter": "python",
   "pygments_lexer": "ipython3",
   "version": "3.11.5"
  },
  "toc": {
   "base_numbering": 1,
   "nav_menu": {},
   "number_sections": true,
   "sideBar": true,
   "skip_h1_title": false,
   "title_cell": "Table of Contents",
   "title_sidebar": "Contents",
   "toc_cell": false,
   "toc_position": {
    "height": "calc(100% - 180px)",
    "left": "10px",
    "top": "150px",
    "width": "171px"
   },
   "toc_section_display": true,
   "toc_window_display": false
  }
 },
 "nbformat": 4,
 "nbformat_minor": 5
}
