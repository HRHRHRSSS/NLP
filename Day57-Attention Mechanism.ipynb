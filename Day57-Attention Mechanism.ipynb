{
 "cells": [
  {
   "cell_type": "markdown",
   "id": "00b1b93a",
   "metadata": {},
   "source": [
    "# 개별 미션 풀이 \n",
    "\n",
    "- '37_Data.xlsx'를 불러와 아래의 분석을 실시 \n",
    "- 해당 데이터는 모 카드사에서 고객들이 전화상담을 진행하고 나온 고객 VOC 데이터 이다. "
   ]
  },
  {
   "cell_type": "code",
   "execution_count": 1,
   "id": "86ba14ab",
   "metadata": {},
   "outputs": [],
   "source": [
    "import pandas as pd \n",
    "import numpy as np \n",
    "import plotly.express as px \n",
    "import scipy.stats as stats"
   ]
  },
  {
   "cell_type": "code",
   "execution_count": 2,
   "id": "d7e809d2",
   "metadata": {
    "collapsed": true
   },
   "outputs": [
    {
     "name": "stdout",
     "output_type": "stream",
     "text": [
      "(1000, 4)\n"
     ]
    },
    {
     "data": {
      "text/html": [
       "<div>\n",
       "<style scoped>\n",
       "    .dataframe tbody tr th:only-of-type {\n",
       "        vertical-align: middle;\n",
       "    }\n",
       "\n",
       "    .dataframe tbody tr th {\n",
       "        vertical-align: top;\n",
       "    }\n",
       "\n",
       "    .dataframe thead th {\n",
       "        text-align: right;\n",
       "    }\n",
       "</style>\n",
       "<table border=\"1\" class=\"dataframe\">\n",
       "  <thead>\n",
       "    <tr style=\"text-align: right;\">\n",
       "      <th></th>\n",
       "      <th>NO</th>\n",
       "      <th>분류</th>\n",
       "      <th>VOC</th>\n",
       "      <th>대응우선순위</th>\n",
       "    </tr>\n",
       "  </thead>\n",
       "  <tbody>\n",
       "    <tr>\n",
       "      <th>0</th>\n",
       "      <td>1</td>\n",
       "      <td>불만&gt;고객서비스&gt;상담시스템</td>\n",
       "      <td>상담직원과 빠른연결했슴좋겠어요</td>\n",
       "      <td>5</td>\n",
       "    </tr>\n",
       "    <tr>\n",
       "      <th>1</th>\n",
       "      <td>2</td>\n",
       "      <td>불만&gt;고객서비스&gt;상담시스템</td>\n",
       "      <td>안기다리고. 빨리상담되었음좋겠다</td>\n",
       "      <td>5</td>\n",
       "    </tr>\n",
       "    <tr>\n",
       "      <th>2</th>\n",
       "      <td>3</td>\n",
       "      <td>불만&gt;고객서비스&gt;상담시스템</td>\n",
       "      <td>너무 오래기다리고 상담이 늦어져요</td>\n",
       "      <td>5</td>\n",
       "    </tr>\n",
       "    <tr>\n",
       "      <th>3</th>\n",
       "      <td>4</td>\n",
       "      <td>불만&gt;고객서비스&gt;상담시스템</td>\n",
       "      <td>상담직원과  통화가  매우  힘들다</td>\n",
       "      <td>5</td>\n",
       "    </tr>\n",
       "    <tr>\n",
       "      <th>4</th>\n",
       "      <td>5</td>\n",
       "      <td>불만&gt;고객서비스&gt;상담시스템</td>\n",
       "      <td>상담받으려면오래기다리는게불편함</td>\n",
       "      <td>5</td>\n",
       "    </tr>\n",
       "  </tbody>\n",
       "</table>\n",
       "</div>"
      ],
      "text/plain": [
       "   NO              분류                  VOC  대응우선순위\n",
       "0   1  불만>고객서비스>상담시스템     상담직원과 빠른연결했슴좋겠어요       5\n",
       "1   2  불만>고객서비스>상담시스템    안기다리고. 빨리상담되었음좋겠다       5\n",
       "2   3  불만>고객서비스>상담시스템   너무 오래기다리고 상담이 늦어져요       5\n",
       "3   4  불만>고객서비스>상담시스템  상담직원과  통화가  매우  힘들다       5\n",
       "4   5  불만>고객서비스>상담시스템     상담받으려면오래기다리는게불편함       5"
      ]
     },
     "execution_count": 2,
     "metadata": {},
     "output_type": "execute_result"
    }
   ],
   "source": [
    "df1 = pd.read_excel('37_Data.xlsx')\n",
    "print(df1.shape)\n",
    "df1.head()"
   ]
  },
  {
   "cell_type": "markdown",
   "id": "3a4c7e72",
   "metadata": {},
   "source": [
    "1.  '분류'에서 '불만'과'칭찬' VOC에 대해, 고객 VOC를 입력했을 때, 해당 VOC가 '불만'에 해당하는 것인지 '칭찬'에 해당하는 것인지 분류하는 모델을 RNN 계열의 모델을 선택해 생성하시오. "
   ]
  },
  {
   "cell_type": "code",
   "execution_count": 7,
   "id": "9b8d4273",
   "metadata": {
    "collapsed": true
   },
   "outputs": [
    {
     "data": {
      "text/plain": [
       "Target\n",
       "불만    512\n",
       "칭찬    481\n",
       "중립      7\n",
       "Name: count, dtype: int64"
      ]
     },
     "execution_count": 7,
     "metadata": {},
     "output_type": "execute_result"
    }
   ],
   "source": [
    "def func1(row):\n",
    "    return row.split('>')[0]\n",
    "\n",
    "df1['Target'] = df1['분류'].apply(func1)\n",
    "df1['Target'].value_counts()"
   ]
  },
  {
   "cell_type": "code",
   "execution_count": 9,
   "id": "eb018746",
   "metadata": {},
   "outputs": [],
   "source": [
    "cond1 = df1['Target'].isin(['불만','칭찬'])\n",
    "df2 = df1.loc[cond1]"
   ]
  },
  {
   "cell_type": "code",
   "execution_count": 10,
   "id": "511f1813",
   "metadata": {},
   "outputs": [],
   "source": [
    "Y = df2['Target'].replace({'불만':0,'칭찬':1})\n",
    "X = df2[['VOC']]"
   ]
  },
  {
   "cell_type": "code",
   "execution_count": 26,
   "id": "36aef849",
   "metadata": {},
   "outputs": [],
   "source": [
    "df_stopword   = pd.read_csv('stopword.txt')\n",
    "stopword_list = df_stopword['불용어'].tolist()"
   ]
  },
  {
   "cell_type": "code",
   "execution_count": 2,
   "id": "cee916f1",
   "metadata": {},
   "outputs": [],
   "source": [
    "from  konlpy.tag import Okt\n",
    "from tensorflow.keras.preprocessing.text import Tokenizer\n",
    "from tensorflow.keras.preprocessing.sequence import pad_sequences"
   ]
  },
  {
   "cell_type": "code",
   "execution_count": 28,
   "id": "aa4e6297",
   "metadata": {},
   "outputs": [],
   "source": [
    "okt = Okt()"
   ]
  },
  {
   "cell_type": "code",
   "execution_count": 29,
   "id": "87c98144",
   "metadata": {},
   "outputs": [],
   "source": [
    "# 텍스트 처리 함수 \n",
    "def text_preprocessing(X):\n",
    "    sent1 = [[y for y in okt.nouns(x) if y not in stopword_list] for x in X['VOC'].tolist()]\n",
    "    sent_series = pd.Series(sent1)\n",
    "    token_model = Tokenizer()\n",
    "    token_model.fit_on_texts(sent_series)\n",
    "    se1 = token_model.texts_to_sequences(sent_series)\n",
    "    return pad_sequences(se1, maxlen=15)"
   ]
  },
  {
   "cell_type": "code",
   "execution_count": 31,
   "id": "87369dd9",
   "metadata": {},
   "outputs": [],
   "source": [
    "# text_preprocessing(X)"
   ]
  },
  {
   "cell_type": "code",
   "execution_count": 32,
   "id": "1b52d2f9",
   "metadata": {},
   "outputs": [],
   "source": [
    "from sklearn.model_selection import train_test_split"
   ]
  },
  {
   "cell_type": "code",
   "execution_count": 33,
   "id": "62a5247c",
   "metadata": {},
   "outputs": [],
   "source": [
    "X_train,X_test,Y_train,Y_test =train_test_split(X,Y, \n",
    "                                                test_size=0.3,random_state=1234)"
   ]
  },
  {
   "cell_type": "code",
   "execution_count": 35,
   "id": "8e855a7c",
   "metadata": {},
   "outputs": [],
   "source": [
    "X_train_NN = text_preprocessing(X_train)\n",
    "X_test_NN  = text_preprocessing(X_test)"
   ]
  },
  {
   "cell_type": "code",
   "execution_count": 3,
   "id": "bf214cdf",
   "metadata": {},
   "outputs": [],
   "source": [
    "from keras.layers import GRU\n",
    "from keras.layers import Embedding\n",
    "from keras.layers import Dense\n",
    "from keras.models import Sequential"
   ]
  },
  {
   "cell_type": "code",
   "execution_count": 38,
   "id": "98826d2c",
   "metadata": {
    "collapsed": true
   },
   "outputs": [
    {
     "name": "stdout",
     "output_type": "stream",
     "text": [
      "Epoch 1/10\n",
      "\u001b[1m18/18\u001b[0m \u001b[32m━━━━━━━━━━━━━━━━━━━━\u001b[0m\u001b[37m\u001b[0m \u001b[1m7s\u001b[0m 139ms/step - accuracy: 0.4456 - loss: 0.6926 - val_accuracy: 0.4964 - val_loss: 0.6824\n",
      "Epoch 2/10\n",
      "\u001b[1m18/18\u001b[0m \u001b[32m━━━━━━━━━━━━━━━━━━━━\u001b[0m\u001b[37m\u001b[0m \u001b[1m3s\u001b[0m 25ms/step - accuracy: 0.5504 - loss: 0.6630 - val_accuracy: 0.6978 - val_loss: 0.6338\n",
      "Epoch 3/10\n",
      "\u001b[1m18/18\u001b[0m \u001b[32m━━━━━━━━━━━━━━━━━━━━\u001b[0m\u001b[37m\u001b[0m \u001b[1m1s\u001b[0m 41ms/step - accuracy: 0.7390 - loss: 0.5847 - val_accuracy: 0.7482 - val_loss: 0.5337\n",
      "Epoch 4/10\n",
      "\u001b[1m18/18\u001b[0m \u001b[32m━━━━━━━━━━━━━━━━━━━━\u001b[0m\u001b[37m\u001b[0m \u001b[1m0s\u001b[0m 14ms/step - accuracy: 0.7283 - loss: 0.5223 - val_accuracy: 0.7410 - val_loss: 0.5499\n",
      "Epoch 5/10\n",
      "\u001b[1m18/18\u001b[0m \u001b[32m━━━━━━━━━━━━━━━━━━━━\u001b[0m\u001b[37m\u001b[0m \u001b[1m1s\u001b[0m 34ms/step - accuracy: 0.7961 - loss: 0.4358 - val_accuracy: 0.7626 - val_loss: 0.5245\n",
      "Epoch 6/10\n",
      "\u001b[1m18/18\u001b[0m \u001b[32m━━━━━━━━━━━━━━━━━━━━\u001b[0m\u001b[37m\u001b[0m \u001b[1m1s\u001b[0m 39ms/step - accuracy: 0.8381 - loss: 0.3984 - val_accuracy: 0.7626 - val_loss: 0.4687\n",
      "Epoch 7/10\n",
      "\u001b[1m18/18\u001b[0m \u001b[32m━━━━━━━━━━━━━━━━━━━━\u001b[0m\u001b[37m\u001b[0m \u001b[1m1s\u001b[0m 39ms/step - accuracy: 0.8464 - loss: 0.3592 - val_accuracy: 0.7626 - val_loss: 0.4853\n",
      "Epoch 8/10\n",
      "\u001b[1m18/18\u001b[0m \u001b[32m━━━━━━━━━━━━━━━━━━━━\u001b[0m\u001b[37m\u001b[0m \u001b[1m1s\u001b[0m 35ms/step - accuracy: 0.8945 - loss: 0.3289 - val_accuracy: 0.7770 - val_loss: 0.4655\n",
      "Epoch 9/10\n",
      "\u001b[1m18/18\u001b[0m \u001b[32m━━━━━━━━━━━━━━━━━━━━\u001b[0m\u001b[37m\u001b[0m \u001b[1m1s\u001b[0m 35ms/step - accuracy: 0.9099 - loss: 0.2738 - val_accuracy: 0.7698 - val_loss: 0.4667\n",
      "Epoch 10/10\n",
      "\u001b[1m18/18\u001b[0m \u001b[32m━━━━━━━━━━━━━━━━━━━━\u001b[0m\u001b[37m\u001b[0m \u001b[1m1s\u001b[0m 41ms/step - accuracy: 0.9083 - loss: 0.2558 - val_accuracy: 0.7842 - val_loss: 0.4576\n"
     ]
    },
    {
     "data": {
      "text/plain": [
       "<keras.src.callbacks.history.History at 0x1fa00cc9b90>"
      ]
     },
     "execution_count": 38,
     "metadata": {},
     "output_type": "execute_result"
    }
   ],
   "source": [
    "model_gru = Sequential()\n",
    "model_gru.add(Embedding(10000, 8))\n",
    "model_gru.add(GRU(128))\n",
    "model_gru.add(Dense(1, activation='sigmoid'))\n",
    "model_gru.compile(optimizer='adam', loss='binary_crossentropy',\n",
    "                  metrics=['accuracy'])\n",
    "model_gru.fit(X_train_NN, Y_train, epochs=10, \n",
    "              batch_size=32, validation_split=0.2)"
   ]
  },
  {
   "cell_type": "code",
   "execution_count": 39,
   "id": "4f9f0256",
   "metadata": {},
   "outputs": [],
   "source": [
    "def threshold_func(result):\n",
    "    if result >= 0.5:\n",
    "        return 1 \n",
    "    return 0 "
   ]
  },
  {
   "cell_type": "code",
   "execution_count": 43,
   "id": "e8c97d27",
   "metadata": {
    "collapsed": true
   },
   "outputs": [
    {
     "name": "stdout",
     "output_type": "stream",
     "text": [
      "\u001b[1m22/22\u001b[0m \u001b[32m━━━━━━━━━━━━━━━━━━━━\u001b[0m\u001b[37m\u001b[0m \u001b[1m0s\u001b[0m 4ms/step\n",
      "\u001b[1m10/10\u001b[0m \u001b[32m━━━━━━━━━━━━━━━━━━━━\u001b[0m\u001b[37m\u001b[0m \u001b[1m0s\u001b[0m 8ms/step\n"
     ]
    }
   ],
   "source": [
    "Y_train_pred = pd.Series(model_gru.predict(X_train_NN).flatten()).apply(threshold_func)\n",
    "Y_test_pred = pd.Series(model_gru.predict(X_test_NN).flatten()).apply(threshold_func)"
   ]
  },
  {
   "cell_type": "code",
   "execution_count": 44,
   "id": "c5c247be",
   "metadata": {},
   "outputs": [],
   "source": [
    "from sklearn.metrics import classification_report"
   ]
  },
  {
   "cell_type": "code",
   "execution_count": 45,
   "id": "f72d8bc7",
   "metadata": {
    "collapsed": true
   },
   "outputs": [
    {
     "name": "stdout",
     "output_type": "stream",
     "text": [
      "              precision    recall  f1-score   support\n",
      "\n",
      "           0       0.91      0.88      0.89       343\n",
      "           1       0.89      0.91      0.90       352\n",
      "\n",
      "    accuracy                           0.90       695\n",
      "   macro avg       0.90      0.90      0.90       695\n",
      "weighted avg       0.90      0.90      0.90       695\n",
      "\n"
     ]
    }
   ],
   "source": [
    "print(classification_report(Y_train, Y_train_pred))"
   ]
  },
  {
   "cell_type": "code",
   "execution_count": 46,
   "id": "8cecf800",
   "metadata": {
    "collapsed": true
   },
   "outputs": [
    {
     "name": "stdout",
     "output_type": "stream",
     "text": [
      "              precision    recall  f1-score   support\n",
      "\n",
      "           0       0.75      0.79      0.77       169\n",
      "           1       0.70      0.66      0.68       129\n",
      "\n",
      "    accuracy                           0.73       298\n",
      "   macro avg       0.73      0.72      0.72       298\n",
      "weighted avg       0.73      0.73      0.73       298\n",
      "\n"
     ]
    }
   ],
   "source": [
    "print(classification_report(Y_test, Y_test_pred))"
   ]
  },
  {
   "cell_type": "markdown",
   "id": "be770006",
   "metadata": {},
   "source": [
    "2. 생성한 모델에 아래의 VOC를 입력해 해당 값이 어디로 분류되는지 확인 "
   ]
  },
  {
   "cell_type": "code",
   "execution_count": 47,
   "id": "3b1681e1",
   "metadata": {},
   "outputs": [],
   "source": [
    "input_text = '''대출 상환을 앱에서 쉽게 할 수 있도록 보완 해주세요. \n",
    "상환이 너무 어려워 앱 쓰다가 정말 짜증나요'''"
   ]
  },
  {
   "cell_type": "code",
   "execution_count": 52,
   "id": "b9c4bf06",
   "metadata": {},
   "outputs": [],
   "source": [
    "input_data = pd.DataFrame(data=[input_text], columns=['VOC'])"
   ]
  },
  {
   "cell_type": "code",
   "execution_count": 57,
   "id": "e8e4a75f",
   "metadata": {
    "collapsed": true
   },
   "outputs": [
    {
     "name": "stdout",
     "output_type": "stream",
     "text": [
      "\u001b[1m1/1\u001b[0m \u001b[32m━━━━━━━━━━━━━━━━━━━━\u001b[0m\u001b[37m\u001b[0m \u001b[1m0s\u001b[0m 41ms/step\n"
     ]
    },
    {
     "data": {
      "text/plain": [
       "0    칭찬\n",
       "dtype: object"
      ]
     },
     "execution_count": 57,
     "metadata": {},
     "output_type": "execute_result"
    }
   ],
   "source": [
    "result1 = model_gru.predict(text_preprocessing(input_data)).flatten()\n",
    "pd.Series(result1).apply(threshold_func).replace({1:'칭찬',0:'불만'})"
   ]
  },
  {
   "cell_type": "markdown",
   "id": "f220ad47",
   "metadata": {},
   "source": [
    "3. '분류'에서 DS카드에 해당하는 VOC들만 뽑아, '무이자할부'라는 단어가 등장할 때, 가장 유사도가 높은 단어들을 확인하시오."
   ]
  },
  {
   "cell_type": "code",
   "execution_count": 59,
   "id": "c5ef6c08",
   "metadata": {
    "collapsed": true
   },
   "outputs": [
    {
     "data": {
      "text/plain": [
       "VOC유형\n",
       "일반       744\n",
       "카드서비스    256\n",
       "Name: count, dtype: int64"
      ]
     },
     "execution_count": 59,
     "metadata": {},
     "output_type": "execute_result"
    }
   ],
   "source": [
    "def func2(row):\n",
    "    if 'DS카드' in row:\n",
    "        return'카드서비스'\n",
    "    return '일반'\n",
    "\n",
    "df1['VOC유형'] = df1['분류'].apply(func2)\n",
    "df1['VOC유형'].value_counts()"
   ]
  },
  {
   "cell_type": "code",
   "execution_count": 62,
   "id": "0ce67702",
   "metadata": {},
   "outputs": [],
   "source": [
    "cond1 = (df1['VOC유형']=='카드서비스')\n",
    "df3 = df1.loc[cond1]"
   ]
  },
  {
   "cell_type": "code",
   "execution_count": 66,
   "id": "3d9d4000",
   "metadata": {},
   "outputs": [],
   "source": [
    "text1 = [[y for y in okt.nouns(x) if y not in stopword_list] for x in df3['VOC'].tolist()]"
   ]
  },
  {
   "cell_type": "code",
   "execution_count": 71,
   "id": "a240f747",
   "metadata": {},
   "outputs": [],
   "source": [
    "# 무이자 할부 단어를 하나의 단어로 묶어서 처리 \n",
    "text2 = [ ]\n",
    "\n",
    "for k in text1:\n",
    "    # 현재 처리중인 문장에서 변환된 토큰값을 저장 \n",
    "    sent_list = [ ]\n",
    "    # 현재 처리중인 토큰 번호 \n",
    "    sent_num = 0 \n",
    "    while sent_num < len(k) : # 문장의 길이만큼 반복해서 수행 \n",
    "        # 3가지 토큰 (무/ 이자 / 할부)을 가져와 처리 \n",
    "        # 문장 내 토큰이 3개 이상인 경우 \n",
    "        # '무' '이자' '할부' 라는 토큰이 연속적으로 나오는 경우\n",
    "        if (sent_num + 2  < len(k))and(k[sent_num] ==\"무\")and(k[sent_num + 1] ==\"이자\")and(k[sent_num + 2] ==\"할부\"): \n",
    "            # '무이자할부'를 추가한 뒤 3개 토큰을 넘어 처리 \n",
    "            sent_list.append('무이자할부')\n",
    "            sent_num += 3 \n",
    "        else : # 토큰이 존재 하지 않아 다음 토큰을 확인 \n",
    "            sent_list.append(k[sent_num])\n",
    "            sent_num += 1 \n",
    "    \n",
    "    text2.append(sent_list)"
   ]
  },
  {
   "cell_type": "code",
   "execution_count": 73,
   "id": "6be8e436",
   "metadata": {},
   "outputs": [],
   "source": [
    "from gensim.models import Word2Vec"
   ]
  },
  {
   "cell_type": "code",
   "execution_count": 74,
   "id": "fbe43fcd",
   "metadata": {},
   "outputs": [],
   "source": [
    "model_sg = Word2Vec(text2, vector_size=100, min_count=1, window=3 ,sg=1)"
   ]
  },
  {
   "cell_type": "code",
   "execution_count": 75,
   "id": "aa9f9f4f",
   "metadata": {
    "collapsed": true
   },
   "outputs": [
    {
     "data": {
      "text/plain": [
       "[('지속', 0.32144346833229065),\n",
       " ('회비', 0.2649388611316681),\n",
       " ('만족', 0.23439793288707733),\n",
       " ('권유', 0.22731447219848633),\n",
       " ('형식', 0.22131164371967316),\n",
       " ('누구', 0.21935860812664032),\n",
       " ('왜', 0.2085740566253662),\n",
       " ('출생', 0.20226159691810608),\n",
       " ('먾', 0.1935790628194809),\n",
       " ('제일', 0.19019554555416107)]"
      ]
     },
     "execution_count": 75,
     "metadata": {},
     "output_type": "execute_result"
    }
   ],
   "source": [
    "model_sg.wv.most_similar('무이자할부')"
   ]
  },
  {
   "cell_type": "markdown",
   "id": "d57d0fb9",
   "metadata": {},
   "source": [
    "4. 고객 '대응우선순위' 10위 권 내 VOC들에 대해 '토픽 모델링'을 실시하여, 주제문장 3문장을 확인하시오. "
   ]
  },
  {
   "cell_type": "code",
   "execution_count": 80,
   "id": "b34cbce4",
   "metadata": {},
   "outputs": [],
   "source": [
    "cond1 = (df1['대응우선순위'] <= 10)\n",
    "sent1 = df1.loc[cond1]['VOC']"
   ]
  },
  {
   "cell_type": "code",
   "execution_count": 81,
   "id": "4050035f",
   "metadata": {},
   "outputs": [],
   "source": [
    "t3=[[y for y in okt.nouns(x) if y not in stopword_list] for x in sent1.tolist()]"
   ]
  },
  {
   "cell_type": "code",
   "execution_count": 83,
   "id": "cb42089d",
   "metadata": {},
   "outputs": [],
   "source": [
    "from gensim import corpora\n",
    "from gensim.models import LdaModel"
   ]
  },
  {
   "cell_type": "code",
   "execution_count": 88,
   "id": "4ee90a0d",
   "metadata": {},
   "outputs": [],
   "source": [
    "dict1 = corpora.Dictionary(t3)\n",
    "corpus = [dict1.doc2bow(x) for x in t3]"
   ]
  },
  {
   "cell_type": "code",
   "execution_count": 90,
   "id": "566142f1",
   "metadata": {},
   "outputs": [],
   "source": [
    "# LDA Modeling \n",
    "lda_model = LdaModel(corpus, num_topics=3, id2word=dict1, passes=20)"
   ]
  },
  {
   "cell_type": "code",
   "execution_count": 91,
   "id": "be19c6ac",
   "metadata": {
    "collapsed": true
   },
   "outputs": [
    {
     "data": {
      "text/plain": [
       "[(0,\n",
       "  '0.127*\"상담\" + 0.118*\"감사\" + 0.047*\"친절\" + 0.034*\"설명\" + 0.033*\"답변\" + 0.032*\"고객\" + 0.022*\"질문\" + 0.022*\"기분\" + 0.018*\"전화\" + 0.018*\"말투\"'),\n",
       " (1,\n",
       "  '0.134*\"시간\" + 0.106*\"통화\" + 0.095*\"연결\" + 0.082*\"상담\" + 0.071*\"대기\" + 0.030*\"응대\" + 0.025*\"직원\" + 0.022*\"상담사\" + 0.012*\"고객\" + 0.011*\"느낌\"'),\n",
       " (2,\n",
       "  '0.266*\"상담\" + 0.054*\"친절\" + 0.024*\"직원\" + 0.022*\"처리\" + 0.017*\"번\" + 0.017*\"고객\" + 0.015*\"내용\" + 0.012*\"회원\" + 0.011*\"골드\" + 0.011*\"매우\"')]"
      ]
     },
     "execution_count": 91,
     "metadata": {},
     "output_type": "execute_result"
    }
   ],
   "source": [
    "lda_model.print_topics()"
   ]
  },
  {
   "cell_type": "markdown",
   "id": "78f93470",
   "metadata": {},
   "source": [
    "5. '대응우선순위'가 10위권 내 VOC와 아닌 VOC 에 대해 고객 '불만/칭찬' 여부의 유의미한 차이가 있는지 가설검정을 실시하시오. "
   ]
  },
  {
   "cell_type": "code",
   "execution_count": 93,
   "id": "63451b1f",
   "metadata": {},
   "outputs": [],
   "source": [
    "cond1 = (df1['대응우선순위']<=10)\n",
    "df1.loc[cond1, '상위권여부'] = '우선순위'\n",
    "df1.loc[~cond1, '상위권여부'] = '후순위'"
   ]
  },
  {
   "cell_type": "code",
   "execution_count": 94,
   "id": "0cbc65d8",
   "metadata": {
    "collapsed": true
   },
   "outputs": [
    {
     "data": {
      "text/plain": [
       "상위권여부\n",
       "우선순위    603\n",
       "후순위     397\n",
       "Name: count, dtype: int64"
      ]
     },
     "execution_count": 94,
     "metadata": {},
     "output_type": "execute_result"
    }
   ],
   "source": [
    "df1['상위권여부'].value_counts()"
   ]
  },
  {
   "cell_type": "code",
   "execution_count": 97,
   "id": "060d5d02",
   "metadata": {
    "collapsed": true
   },
   "outputs": [
    {
     "data": {
      "text/html": [
       "<div>\n",
       "<style scoped>\n",
       "    .dataframe tbody tr th:only-of-type {\n",
       "        vertical-align: middle;\n",
       "    }\n",
       "\n",
       "    .dataframe tbody tr th {\n",
       "        vertical-align: top;\n",
       "    }\n",
       "\n",
       "    .dataframe thead th {\n",
       "        text-align: right;\n",
       "    }\n",
       "</style>\n",
       "<table border=\"1\" class=\"dataframe\">\n",
       "  <thead>\n",
       "    <tr style=\"text-align: right;\">\n",
       "      <th>Target</th>\n",
       "      <th>불만</th>\n",
       "      <th>칭찬</th>\n",
       "    </tr>\n",
       "    <tr>\n",
       "      <th>상위권여부</th>\n",
       "      <th></th>\n",
       "      <th></th>\n",
       "    </tr>\n",
       "  </thead>\n",
       "  <tbody>\n",
       "    <tr>\n",
       "      <th>우선순위</th>\n",
       "      <td>281</td>\n",
       "      <td>322</td>\n",
       "    </tr>\n",
       "    <tr>\n",
       "      <th>후순위</th>\n",
       "      <td>231</td>\n",
       "      <td>159</td>\n",
       "    </tr>\n",
       "  </tbody>\n",
       "</table>\n",
       "</div>"
      ],
      "text/plain": [
       "Target   불만   칭찬\n",
       "상위권여부           \n",
       "우선순위    281  322\n",
       "후순위     231  159"
      ]
     },
     "execution_count": 97,
     "metadata": {},
     "output_type": "execute_result"
    }
   ],
   "source": [
    "# 귀무가설 : 상위권 여부에 따라 불만/칭찬 비율의 차이가 없다. (독립이다.)\n",
    "# 대립가설 : 상위권 여부에 따라 불만/칭찬 비율의 차이가 있다. (연관이다.)\n",
    "c1 = pd.crosstab(df1['상위권여부'],df1['Target'])\n",
    "c2 = c1[['불만','칭찬']]\n",
    "c2"
   ]
  },
  {
   "cell_type": "code",
   "execution_count": 98,
   "id": "7cbffee8",
   "metadata": {
    "collapsed": true
   },
   "outputs": [
    {
     "data": {
      "text/plain": [
       "Chi2ContingencyResult(statistic=14.625520255291462, pvalue=0.00013112677331605097, dof=1, expected_freq=array([[310.91238671, 292.08761329],\n",
       "       [201.08761329, 188.91238671]]))"
      ]
     },
     "execution_count": 98,
     "metadata": {},
     "output_type": "execute_result"
    }
   ],
   "source": [
    "stats.chi2_contingency(c2)\n",
    "# P.value < 0.05 / 대립가설 참 / 상위권 여부에 따라 불만/칭찬 비율의 차이가 있다. "
   ]
  },
  {
   "cell_type": "markdown",
   "id": "5604ff98",
   "metadata": {},
   "source": [
    "# Attention Mechansim \n",
    "\n",
    "- Seq2Seq 모델의 단점 :\n",
    "     1. Context Vector의 고정되 Matrix 크기로 인해 정보 손실이 발생 \n",
    "     2. 긴 Sequence에 대해 RNN 계열 모델의 기울기 소실 문제가 발생 \n",
    "![image1](https://i0.wp.com/blog.kakaocdn.net/dn/RtMGM/btrXyiWoa10/5zt5t6BgqEXrtsU13OpHdK/img.png?w=900&ssl=1)\n"
   ]
  },
  {
   "cell_type": "markdown",
   "id": "8455ec1f",
   "metadata": {},
   "source": [
    "- Attention Mechansim: Decoder에서 출력 단어를 예측하는 매 시점마다, Encoder에서 전체 입력문장을 다시한번 참고하여 출력 \n",
    "- 단어를 출력하는 특정 시점에서 예측해야할 단어와 연관이 있는 입력단어를 집중(Attention)하여 계산 \n",
    "- 원리 : \n",
    "    - 모든 단어 쌍에 대한 Key - Value 형태의 유사도 분석을 수행 \n",
    "    - 각 단어 쌍의 유사도를 이용하여 Attension Score 계산 \n",
    "    - Attension Score : 특정 디코더 시점 t에서 단어를 예측하기 위해, 인코더의 모든 Hidden State 상태 각각이 디코더의 현시점의 Hidden State상태와 얼마나 유사한지를 비교 \n",
    "    - Attension Score를 활용해 Attension 분포를 추정 \n",
    "    - 추정된 분포는 출력단계에서 좀 더 유사한 단어 쌍이 생성되도록 유도 "
   ]
  },
  {
   "cell_type": "code",
   "execution_count": 4,
   "id": "e48a1f2b",
   "metadata": {},
   "outputs": [],
   "source": [
    "import pickle"
   ]
  },
  {
   "cell_type": "code",
   "execution_count": 101,
   "id": "9d873461",
   "metadata": {},
   "outputs": [],
   "source": [
    "# 영어 문장과 한국어 문장을 One Hot Encoding 실시한 결과 \n",
    "load_seq_data = pickle.load(open('eng_to_kor.sav','rb'))\n",
    "encoder_input_data, decoder_input_data, decoder_target_data = load_seq_data"
   ]
  },
  {
   "cell_type": "code",
   "execution_count": 102,
   "id": "fa075d89",
   "metadata": {},
   "outputs": [],
   "source": [
    "# 단어 토큰에 대한 사전 \n",
    "token_index = pickle.load(open('token_index.sav','rb'))\n",
    "input_token_index, target_token_index = token_index"
   ]
  },
  {
   "cell_type": "code",
   "execution_count": 104,
   "id": "e67870d4",
   "metadata": {},
   "outputs": [],
   "source": [
    "num_encoder_tokens = len(input_token_index)\n",
    "num_decoder_tokens = len(target_token_index)"
   ]
  },
  {
   "cell_type": "code",
   "execution_count": 105,
   "id": "d6cf6e66",
   "metadata": {},
   "outputs": [],
   "source": [
    "from keras.models import Model\n",
    "from keras.layers import Input\n",
    "from keras.layers import LSTM\n",
    "from keras.layers import Dense\n",
    "from keras.layers import Attention"
   ]
  },
  {
   "cell_type": "code",
   "execution_count": 106,
   "id": "aaa30b1d",
   "metadata": {},
   "outputs": [],
   "source": [
    "# 학습 Parameter 지정 \n",
    "batch_size = 32 # (64이상)\n",
    "epochs = 20 # (200~500이상)\n",
    "node_num = 64 # (1024 이상)\n",
    "max_encoder_seq_length = 39 \n",
    "max_decoder_seq_length = 38 "
   ]
  },
  {
   "cell_type": "code",
   "execution_count": 108,
   "id": "00bf3218",
   "metadata": {},
   "outputs": [],
   "source": [
    "# 인코더 / 디코더 정의 \n",
    "encoder_input = Input(shape=(None, num_encoder_tokens))\n",
    "# Attension Score를 계산하기 위해, Encoder에서도 각 Node의 결과를 출력 \n",
    "# return_sequences=True\n",
    "encoder_lstm  = LSTM(node_num, return_state=True, return_sequences=True)\n",
    "encoder_output, state_h, state_c = encoder_lstm(encoder_input)\n",
    "encoder_state = [state_h, state_c]\n",
    "decoder_input = Input(shape=(None, num_decoder_tokens))\n",
    "decoder_lstm  = LSTM(node_num, return_state=True, return_sequences=True) \n",
    "decoder_output, _, _ = decoder_lstm(decoder_input, initial_state = encoder_state)\n",
    "\n",
    "# 어탠션 레이어를 추가 \n",
    "attention = Attention()\n",
    "attention_output = attention([decoder_output,encoder_output])\n",
    "# 최종 출력을 계산 \n",
    "decoder_dense = Dense(num_decoder_tokens, activation='softmax')\n",
    "decoder_outputs = decoder_dense(attention_output)\n",
    "\n",
    "# 모델 정의 \n",
    "model = Model( [encoder_input, decoder_input], decoder_outputs )"
   ]
  },
  {
   "cell_type": "code",
   "execution_count": null,
   "id": "c50a76ef",
   "metadata": {
    "collapsed": true
   },
   "outputs": [
    {
     "name": "stdout",
     "output_type": "stream",
     "text": [
      "Epoch 1/20\n",
      "\u001b[1m125/125\u001b[0m \u001b[32m━━━━━━━━━━━━━━━━━━━━\u001b[0m\u001b[37m\u001b[0m \u001b[1m35s\u001b[0m 202ms/step - loss: 2.0222 - val_loss: 2.4391\n",
      "Epoch 2/20\n",
      "\u001b[1m125/125\u001b[0m \u001b[32m━━━━━━━━━━━━━━━━━━━━\u001b[0m\u001b[37m\u001b[0m \u001b[1m37s\u001b[0m 171ms/step - loss: 1.6527 - val_loss: 2.4379\n",
      "Epoch 3/20\n",
      "\u001b[1m125/125\u001b[0m \u001b[32m━━━━━━━━━━━━━━━━━━━━\u001b[0m\u001b[37m\u001b[0m \u001b[1m40s\u001b[0m 161ms/step - loss: 1.6419 - val_loss: 2.4379\n",
      "Epoch 4/20\n",
      "\u001b[1m125/125\u001b[0m \u001b[32m━━━━━━━━━━━━━━━━━━━━\u001b[0m\u001b[37m\u001b[0m \u001b[1m20s\u001b[0m 161ms/step - loss: 1.6370 - val_loss: 2.4361\n",
      "Epoch 5/20\n",
      "\u001b[1m125/125\u001b[0m \u001b[32m━━━━━━━━━━━━━━━━━━━━\u001b[0m\u001b[37m\u001b[0m \u001b[1m19s\u001b[0m 147ms/step - loss: 1.6294 - val_loss: 2.4364\n",
      "Epoch 6/20\n",
      "\u001b[1m125/125\u001b[0m \u001b[32m━━━━━━━━━━━━━━━━━━━━\u001b[0m\u001b[37m\u001b[0m \u001b[1m14s\u001b[0m 94ms/step - loss: 1.6542 - val_loss: 2.4368\n",
      "Epoch 7/20\n",
      "\u001b[1m125/125\u001b[0m \u001b[32m━━━━━━━━━━━━━━━━━━━━\u001b[0m\u001b[37m\u001b[0m \u001b[1m6s\u001b[0m 46ms/step - loss: 1.6340 - val_loss: 2.4358\n",
      "Epoch 8/20\n",
      "\u001b[1m125/125\u001b[0m \u001b[32m━━━━━━━━━━━━━━━━━━━━\u001b[0m\u001b[37m\u001b[0m \u001b[1m6s\u001b[0m 46ms/step - loss: 1.6328 - val_loss: 2.4334\n",
      "Epoch 9/20\n",
      "\u001b[1m125/125\u001b[0m \u001b[32m━━━━━━━━━━━━━━━━━━━━\u001b[0m\u001b[37m\u001b[0m \u001b[1m6s\u001b[0m 47ms/step - loss: 1.6385 - val_loss: 2.4344\n",
      "Epoch 10/20\n",
      "\u001b[1m125/125\u001b[0m \u001b[32m━━━━━━━━━━━━━━━━━━━━\u001b[0m\u001b[37m\u001b[0m \u001b[1m6s\u001b[0m 46ms/step - loss: 1.6370 - val_loss: 2.4372\n",
      "Epoch 11/20\n",
      "\u001b[1m125/125\u001b[0m \u001b[32m━━━━━━━━━━━━━━━━━━━━\u001b[0m\u001b[37m\u001b[0m \u001b[1m6s\u001b[0m 46ms/step - loss: 1.6489 - val_loss: 2.4356\n",
      "Epoch 12/20\n",
      "\u001b[1m125/125\u001b[0m \u001b[32m━━━━━━━━━━━━━━━━━━━━\u001b[0m\u001b[37m\u001b[0m \u001b[1m0s\u001b[0m 39ms/step - loss: 1.6373"
     ]
    }
   ],
   "source": [
    "# 학습 실시 \n",
    "model.compile(optimizer='adam', loss='categorical_crossentropy')\n",
    "model.fit([encoder_input_data, decoder_input_data], decoder_target_data,\n",
    "         batch_size=batch_size,epochs=epochs, validation_split=0.2)"
   ]
  },
  {
   "cell_type": "code",
   "execution_count": 5,
   "id": "dce83057",
   "metadata": {
    "collapsed": true
   },
   "outputs": [
    {
     "ename": "NameError",
     "evalue": "name 'Model' is not defined",
     "output_type": "error",
     "traceback": [
      "\u001b[0;31m---------------------------------------------------------------------------\u001b[0m",
      "\u001b[0;31mNameError\u001b[0m                                 Traceback (most recent call last)",
      "Cell \u001b[0;32mIn[5], line 2\u001b[0m\n\u001b[1;32m      1\u001b[0m \u001b[38;5;66;03m# 자연어 생성\u001b[39;00m\n\u001b[0;32m----> 2\u001b[0m encoder_model \u001b[38;5;241m=\u001b[39m Model(encoder_input, encoder_state)\n\u001b[1;32m      4\u001b[0m decoder_state_input_h \u001b[38;5;241m=\u001b[39m Input(shape\u001b[38;5;241m=\u001b[39m(node_num, )) \u001b[38;5;66;03m# Hidden State 초기화\u001b[39;00m\n\u001b[1;32m      5\u001b[0m decoder_state_input_c \u001b[38;5;241m=\u001b[39m Input(shape\u001b[38;5;241m=\u001b[39m(node_num, )) \u001b[38;5;66;03m# Cell State 초기화\u001b[39;00m\n",
      "\u001b[0;31mNameError\u001b[0m: name 'Model' is not defined"
     ]
    }
   ],
   "source": [
    "# 자연어 생성\n",
    "encoder_model = Model(encoder_input, encoder_state)\n",
    "\n",
    "decoder_state_input_h = Input(shape=(node_num, )) # Hidden State 초기화\n",
    "decoder_state_input_c = Input(shape=(node_num, )) # Cell State 초기화\n",
    "decoder_state_inputs = [decoder_state_input_h, decoder_state_input_c]\n",
    "\n",
    "decoder_outputs, state_h, state_c = decoder_lstm(decoder_input,\n",
    "                                                 initial_state=decoder_state_inputs)\n",
    "\n",
    "decoder_outputs = decoder_dense(decoder_outputs)\n",
    "\n"
   ]
  },
  {
   "cell_type": "code",
   "execution_count": null,
   "id": "4f7aa81c",
   "metadata": {},
   "outputs": [],
   "source": [
    "def decode_sequence(input_seq):\n",
    "    states_value = encoder_model.predict(input_seq,verbose=0)\n",
    "    target_seq = np.zeros((1, 1, num_decoder_tokens))\n",
    "    target_seq[0, 0, target_token_index['\\t']] = 1.\n",
    "    stop_condition = False\n",
    "    decoded_sentence = ''\n",
    "    while not stop_condition:\n",
    "        output_tokens, h, c = decoder_model.predict([target_seq] + states_value,verbose=0)\n",
    "        sampled_token_index = np.argmax(output_tokens[0, -1, :])\n",
    "        sampled_char = reverse_target_char_index[sampled_token_index]\n",
    "        decoded_sentence += sampled_char\n",
    "        if (sampled_char == '\\n' or len(decoded_sentence) > max_decoder_seq_length):\n",
    "            stop_condition = True\n",
    "        target_seq = np.zeros((1, 1, num_decoder_tokens))\n",
    "        target_seq[0, 0, sampled_token_index] = 1.\n",
    "        states_value = [h, c]\n",
    "    return decoded_sentence"
   ]
  }
 ],
 "metadata": {
  "kernelspec": {
   "display_name": "Python 3 (ipykernel)",
   "language": "python",
   "name": "python3"
  },
  "language_info": {
   "codemirror_mode": {
    "name": "ipython",
    "version": 3
   },
   "file_extension": ".py",
   "mimetype": "text/x-python",
   "name": "python",
   "nbconvert_exporter": "python",
   "pygments_lexer": "ipython3",
   "version": "3.11.5"
  },
  "toc": {
   "base_numbering": 1,
   "nav_menu": {},
   "number_sections": true,
   "sideBar": true,
   "skip_h1_title": false,
   "title_cell": "Table of Contents",
   "title_sidebar": "Contents",
   "toc_cell": false,
   "toc_position": {},
   "toc_section_display": true,
   "toc_window_display": false
  }
 },
 "nbformat": 4,
 "nbformat_minor": 5
}
